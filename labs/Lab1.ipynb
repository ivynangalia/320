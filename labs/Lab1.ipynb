{
 "cells": [
  {
   "cell_type": "markdown",
   "metadata": {},
   "source": [
    "# Lab 1\n",
    "\n",
    "Labs in general are for you to solve short programming challenges in class. In contrast, homework assignments will involve more challenging and lengthy problems.\n",
    "\n",
    "Feel free to ask the TAs for help if there is anything you do not understand. Your midterm exams will be like this, so it is highly beneficial for you to attend these labs.\n",
    "\n",
    "The first lab is to gain basic familiarity with Python.\n",
    "\n",
    "- You are not to use any 3rd party library such as numpy for the first lab\n",
    "\n",
    "- Do this lab without using the web to search for solutions\n",
    "\n",
    "Please remember to submit the lab on Gradescope. "
   ]
  },
  {
   "cell_type": "markdown",
   "metadata": {},
   "source": [
    "### A few points to review\n",
    "1. Markdown\n",
    "    - Emphasis\n",
    "    - lists\n",
    "    - math\n",
    "2. Data types\n",
    "    - integer, float, string, boolean, None\n",
    "3. Operators\n",
    "    - arithmetic, assignment, comparison, logical, etc."
   ]
  },
  {
   "cell_type": "markdown",
   "metadata": {},
   "source": [
    "**1**. (0.5 points). Bold and Italics: Write a sentence where one word is bold, another is italic, and another is both bold and italic."
   ]
  },
  {
   "cell_type": "markdown",
   "metadata": {},
   "source": [
    "This is my attempt of **bold**, *italics*, and ***both***."
   ]
  },
  {
   "cell_type": "markdown",
   "metadata": {},
   "source": [
    "**2**. (1 point). Write a LaTeX equation using the `$$` delimiter to display the formula for the standard deviation."
   ]
  },
  {
   "cell_type": "markdown",
   "metadata": {},
   "source": [
    "$$\\sigma = \\sqrt{\\frac{\\Sigma(x_i - \\mu)^2}{N}}$$"
   ]
  },
  {
   "cell_type": "markdown",
   "metadata": {},
   "source": [
    "**3**. (1 point). Create two Boolean variables and use them in a logical expression involving `and`, `or`, and `not` operators. Show the result of each operation."
   ]
  },
  {
   "cell_type": "code",
   "execution_count": 2,
   "metadata": {},
   "outputs": [
    {
     "data": {
      "text/plain": [
       "True"
      ]
     },
     "execution_count": 2,
     "metadata": {},
     "output_type": "execute_result"
    }
   ],
   "source": [
    "a: bool = True\n",
    "b: bool = False\n",
    "\n",
    "print(a and not b)"
   ]
  },
  {
   "cell_type": "code",
   "execution_count": 3,
   "metadata": {},
   "outputs": [
    {
     "data": {
      "text/plain": [
       "True"
      ]
     },
     "execution_count": 3,
     "metadata": {},
     "output_type": "execute_result"
    }
   ],
   "source": [
    "print(a or b)"
   ]
  },
  {
   "cell_type": "markdown",
   "metadata": {},
   "source": [
    "**4** (1 point). \n",
    "- Define a string that represents a number (e.g., \"42\") and convert it to an integer.\n",
    "- Perform arithmetic operations between this integer and another integer of your choice (e.g., addition, multiplication).\n",
    "- Convert the result back to a string and concatenate it with another string. Print the final result."
   ]
  },
  {
   "cell_type": "code",
   "execution_count": 24,
   "metadata": {},
   "outputs": [
    {
     "name": "stdout",
     "output_type": "stream",
     "text": [
      "1st attempt\n"
     ]
    }
   ],
   "source": [
    "n: str = \"42\"\n",
    "n = int(n) - 41\n",
    "n = str(n) + \"st attempt\"\n",
    "print(n)"
   ]
  },
  {
   "cell_type": "markdown",
   "metadata": {},
   "source": [
    "**5**. (1 point). Given two strings s1 = \"Hello\" and s2 = \"World\", concatenate them with a space in between and print the result, and print the length of the concatenated string. "
   ]
  },
  {
   "cell_type": "code",
   "execution_count": 6,
   "metadata": {},
   "outputs": [
    {
     "name": "stdout",
     "output_type": "stream",
     "text": [
      "Hello World\n",
      "11\n"
     ]
    }
   ],
   "source": [
    "s1: str = \"Hello\"\n",
    "s2: str = \"World\"\n",
    "s3 = s1 + \" \" + s2\n",
    "print(s3)\n",
    "print(len(s3))"
   ]
  },
  {
   "cell_type": "markdown",
   "metadata": {},
   "source": [
    "**6**. (1 point). Given the email address `email = \"user@example.com\"`, split it into the username and domain parts and print both."
   ]
  },
  {
   "cell_type": "code",
   "execution_count": 7,
   "metadata": {},
   "outputs": [
    {
     "name": "stdout",
     "output_type": "stream",
     "text": [
      "['user', 'example.com']\n"
     ]
    }
   ],
   "source": [
    "email = \"user@example.com\"\n",
    "print(email.split(\"@\"))"
   ]
  },
  {
   "cell_type": "markdown",
   "metadata": {},
   "source": [
    "**7**. (1 point). Given the string `s = \"The quick brown fox jumps over the lazy dog\"`, find and print the starting index of the substring `\"fox\"`."
   ]
  },
  {
   "cell_type": "code",
   "execution_count": 10,
   "metadata": {},
   "outputs": [
    {
     "name": "stdout",
     "output_type": "stream",
     "text": [
      "16\n"
     ]
    }
   ],
   "source": [
    "s = \"The quick brown fox jumps over the lazy dog\"\n",
    "print(s.find(\"fox\"))"
   ]
  },
  {
   "cell_type": "markdown",
   "metadata": {},
   "source": [
    "**8** (1.5 points). Give the string `s = \"The quick brown fox jumps over the lazy dog\"`, return the indices of `\"fox\"` and `\"dog\"`. "
   ]
  },
  {
   "cell_type": "code",
   "execution_count": 12,
   "metadata": {},
   "outputs": [
    {
     "name": "stdout",
     "output_type": "stream",
     "text": [
      "16\n",
      "40\n"
     ]
    }
   ],
   "source": [
    "print(s.index(\"fox\"))\n",
    "print(s.index(\"dog\"))"
   ]
  },
  {
   "cell_type": "markdown",
   "metadata": {},
   "source": [
    "**9**. (2 points). Given the string `s = \"data\"`, pad it on the right with `*` to ensure the total length is 10 and print the result.\n",
    "\n",
    "Hint: `ljust()`"
   ]
  },
  {
   "cell_type": "code",
   "execution_count": 15,
   "metadata": {},
   "outputs": [
    {
     "name": "stdout",
     "output_type": "stream",
     "text": [
      "data******\n"
     ]
    }
   ],
   "source": [
    "s = \"data\"\n",
    "print(s.ljust(10, \"*\"))"
   ]
  },
  {
   "cell_type": "markdown",
   "metadata": {},
   "source": []
  },
  {
   "cell_type": "code",
   "execution_count": null,
   "metadata": {},
   "outputs": [],
   "source": []
  }
 ],
 "metadata": {
  "kernelspec": {
   "display_name": "Python 3 (ipykernel)",
   "language": "python",
   "name": "python3"
  },
  "language_info": {
   "codemirror_mode": {
    "name": "ipython",
    "version": 3
   },
   "file_extension": ".py",
   "mimetype": "text/x-python",
   "name": "python",
   "nbconvert_exporter": "python",
   "pygments_lexer": "ipython3",
   "version": "3.12.1"
  }
 },
 "nbformat": 4,
 "nbformat_minor": 4
}
