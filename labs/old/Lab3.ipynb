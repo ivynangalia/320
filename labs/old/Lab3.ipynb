{
 "cells": [
  {
   "cell_type": "markdown",
   "metadata": {},
   "source": [
    "# Lab 3\n",
    "\n",
    "Labs in general are for you to solve short programming challenges in class. In contrast, homework assignments will involve more challenging and lengthy problems.\n",
    "\n",
    "Feel free to ask the TAs for help if there is anything you do not understand. The TAs will go through suggested solutions in the last 15 minutes of the lab - typically by solving them in a live demo. \n",
    "\n",
    "\n",
    "Please remember to submit the lab on Gradescope. "
   ]
  },
  {
   "cell_type": "markdown",
   "metadata": {},
   "source": [
    "### A few points to review\n",
    "1. NumPy"
   ]
  },
  {
   "cell_type": "code",
   "execution_count": 1,
   "metadata": {},
   "outputs": [],
   "source": [
    "import numpy as np"
   ]
  },
  {
   "cell_type": "markdown",
   "metadata": {},
   "source": [
    "**1**. (1 point). Create two lists of 100 random integers in the `range[0, 1000]`. Find all numbers that are shared by the two lists."
   ]
  },
  {
   "cell_type": "code",
   "execution_count": 3,
   "metadata": {},
   "outputs": [],
   "source": [
    "list1 = np.random.randint(0, 1000, size=100)\n",
    "list2 = np.random.randint(0, 1000, size=100)"
   ]
  },
  {
   "cell_type": "code",
   "execution_count": 5,
   "metadata": {},
   "outputs": [
    {
     "name": "stdout",
     "output_type": "stream",
     "text": [
      "[208, 371, 973, 391, 334, 575, 666, 66, 824, 753, 990]\n"
     ]
    }
   ],
   "source": [
    "list3 = []\n",
    "for n in list1:\n",
    "    if n in list2:\n",
    "        list3.append(n)\n",
    "print(list3)"
   ]
  },
  {
   "cell_type": "markdown",
   "metadata": {},
   "source": [
    "**2**. (1.5 point). Given a NumPy array `data = np.random.randint(0, 100, size=(10, 10))`, perform the following tasks:\n",
    "\n",
    "- Create a boolean mask to filter out values greater than 50.\n",
    "- Use this mask to extract the filtered values.\n",
    "- Compute the mean of the filtered values."
   ]
  },
  {
   "cell_type": "code",
   "execution_count": 12,
   "metadata": {},
   "outputs": [
    {
     "data": {
      "text/plain": [
       "78.56818181818181"
      ]
     },
     "execution_count": 12,
     "metadata": {},
     "output_type": "execute_result"
    }
   ],
   "source": [
    "data = np.random.randint(0, 100, size=(10,10))\n",
    "mask = data > 50\n",
    "filtered_data = data[mask]\n",
    "np.mean(filtered_data)"
   ]
  },
  {
   "cell_type": "markdown",
   "metadata": {},
   "source": [
    "**3**. (3 points) Basic array manipulation. \n",
    "\n",
    "- Generate a random matrix with shape (4,5) with draws from a standard normal distribution\n",
    "- Find row sums\n",
    "- Scale so each row has min=0 and max=1 (for a challenge, do this in one line of code)\n",
    "- Find row sums when you exclude the max in each row"
   ]
  },
  {
   "cell_type": "code",
   "execution_count": 64,
   "metadata": {},
   "outputs": [
    {
     "data": {
      "text/plain": [
       "array([[ 0.01189355, -2.4714661 ,  0.72633183,  0.126992  ,  0.50263136],\n",
       "       [-0.92192167,  0.62049476,  0.30306809,  0.27118836, -0.19852311],\n",
       "       [-1.05555982, -1.1171553 , -0.18271588,  0.08048342,  0.84417538],\n",
       "       [ 2.23740111, -0.2988071 ,  0.71375248, -0.48570843,  0.41014135]])"
      ]
     },
     "execution_count": 64,
     "metadata": {},
     "output_type": "execute_result"
    }
   ],
   "source": [
    "matrix = np.random.normal(size=(4,5))\n",
    "matrix\n"
   ]
  },
  {
   "cell_type": "code",
   "execution_count": 65,
   "metadata": {},
   "outputs": [
    {
     "data": {
      "text/plain": [
       "array([-1.10361736,  0.07430642, -1.43077221,  2.5767794 ])"
      ]
     },
     "execution_count": 65,
     "metadata": {},
     "output_type": "execute_result"
    }
   ],
   "source": [
    "row_sums = matrix.sum(axis=1)\n",
    "row_sums"
   ]
  },
  {
   "cell_type": "code",
   "execution_count": 66,
   "metadata": {},
   "outputs": [
    {
     "data": {
      "text/plain": [
       "array([[0.77658429, 0.        , 1.        , 0.81257733, 0.93004546],\n",
       "       [0.        , 1.        , 0.79420171, 0.77353302, 0.46900341],\n",
       "       [0.03140494, 0.        , 0.47643135, 0.6106256 , 1.        ],\n",
       "       [1.        , 0.06863526, 0.44047472, 0.        , 0.32898044]])"
      ]
     },
     "execution_count": 66,
     "metadata": {},
     "output_type": "execute_result"
    }
   ],
   "source": [
    "scaled_matrix = (matrix - matrix.min(axis=1, keepdims=True)) / (matrix.max(axis=1, keepdims=True) - matrix.min(axis=1, keepdims=True))\n",
    "scaled_matrix"
   ]
  },
  {
   "cell_type": "code",
   "execution_count": 72,
   "metadata": {},
   "outputs": [
    {
     "data": {
      "text/plain": [
       "array([-1.8299492 , -0.54618833, -2.27494759,  0.33937829])"
      ]
     },
     "execution_count": 72,
     "metadata": {},
     "output_type": "execute_result"
    }
   ],
   "source": [
    "row_sums - matrix.max(axis=1)"
   ]
  },
  {
   "cell_type": "code",
   "execution_count": null,
   "metadata": {},
   "outputs": [],
   "source": []
  },
  {
   "cell_type": "code",
   "execution_count": null,
   "metadata": {},
   "outputs": [],
   "source": []
  },
  {
   "cell_type": "markdown",
   "metadata": {},
   "source": [
    "**4**. (2 points) Create two NumPy arrays: a 2D array `matrix = np.arange(1, 13).reshape(3, 4)` and a 1D array `vector = np.array([1, 2, 3, 4])`. Perform the following operations using broadcasting:\n",
    "\n",
    "- Add the vector to each row of the matrix.\n",
    "- Subtract the vector from each column of the matrix.\n",
    "- Multiply each element of the matrix by the vector element-wise.\n",
    "- Return the results of each operation."
   ]
  },
  {
   "cell_type": "code",
   "execution_count": 28,
   "metadata": {},
   "outputs": [
    {
     "data": {
      "text/plain": [
       "array([[ 1,  2,  3,  4],\n",
       "       [ 5,  6,  7,  8],\n",
       "       [ 9, 10, 11, 12]])"
      ]
     },
     "execution_count": 28,
     "metadata": {},
     "output_type": "execute_result"
    }
   ],
   "source": [
    "matrix = np.arange(1, 13). reshape(3,4)\n",
    "vector = np.array([1,2,3,4])\n",
    "matrix"
   ]
  },
  {
   "cell_type": "code",
   "execution_count": 29,
   "metadata": {},
   "outputs": [
    {
     "data": {
      "text/plain": [
       "array([[ 2,  4,  6,  8],\n",
       "       [ 6,  8, 10, 12],\n",
       "       [10, 12, 14, 16]])"
      ]
     },
     "execution_count": 29,
     "metadata": {},
     "output_type": "execute_result"
    }
   ],
   "source": [
    "add = matrix + vector\n",
    "add"
   ]
  },
  {
   "cell_type": "code",
   "execution_count": 41,
   "metadata": {},
   "outputs": [
    {
     "data": {
      "text/plain": [
       "array([[0, 0, 0, 0],\n",
       "       [4, 4, 4, 4],\n",
       "       [8, 8, 8, 8]])"
      ]
     },
     "execution_count": 41,
     "metadata": {},
     "output_type": "execute_result"
    }
   ],
   "source": [
    "sub = matrix - vector\n",
    "sub"
   ]
  },
  {
   "cell_type": "code",
   "execution_count": 42,
   "metadata": {},
   "outputs": [
    {
     "data": {
      "text/plain": [
       "array([[ 1,  4,  9, 16],\n",
       "       [ 5, 12, 21, 32],\n",
       "       [ 9, 20, 33, 48]])"
      ]
     },
     "execution_count": 42,
     "metadata": {},
     "output_type": "execute_result"
    }
   ],
   "source": [
    "mult = matrix * vector\n",
    "mult"
   ]
  },
  {
   "cell_type": "markdown",
   "metadata": {},
   "source": [
    "**5**. (0.5 points). You have two datasets `x = np.array([1, 2, 3, 4, 5])` and `y = np.array([2, 4, 6, 8, 10])`. Compute the Pearson correlation coefficient between `x` and `y`.\n",
    "\n",
    "Hint: use `np.corrcoef()`"
   ]
  },
  {
   "cell_type": "code",
   "execution_count": 49,
   "metadata": {},
   "outputs": [
    {
     "data": {
      "text/plain": [
       "0.9999999999999999"
      ]
     },
     "execution_count": 49,
     "metadata": {},
     "output_type": "execute_result"
    }
   ],
   "source": [
    "x = np.array([1, 2, 3, 4, 5])\n",
    "y = np.array([2, 4, 6, 8, 10])\n",
    "np.corrcoef(x,y)[1,0] # pulling out x,y from correlation matrix"
   ]
  },
  {
   "cell_type": "markdown",
   "metadata": {},
   "source": [
    "**6** (2 point). You are working with a dataset of daily sales figures for a retail store over a year. The dataset is represented as a 1D NumPy array `sales_data = [200, 220, 250, 275, 300, 320, 310, 290, 270, 260]`, where each element corresponds to the sales for one day. \n",
    "\n",
    "- Compute the cumulative sum of the sales data and print the total sales accumulated up to each day.\n",
    "\n",
    "- Determine the 25th, 50th, and 75th percentiles (quartiles) of the daily sales data.\n"
   ]
  },
  {
   "cell_type": "code",
   "execution_count": 58,
   "metadata": {},
   "outputs": [],
   "source": [
    "sales_data = np.array([200, 220, 250, 275, 300, 320, 310, 290, 270, 260])\n",
    "cum_sales = sales_data.cumsum()\n",
    "quartiles = np.percentile(sales_data, [25, 50, 75])"
   ]
  },
  {
   "cell_type": "code",
   "execution_count": 59,
   "metadata": {},
   "outputs": [
    {
     "data": {
      "text/plain": [
       "array([ 200,  420,  670,  945, 1245, 1565, 1875, 2165, 2435, 2695])"
      ]
     },
     "execution_count": 59,
     "metadata": {},
     "output_type": "execute_result"
    }
   ],
   "source": [
    "cum_sales"
   ]
  },
  {
   "cell_type": "code",
   "execution_count": 60,
   "metadata": {},
   "outputs": [
    {
     "data": {
      "text/plain": [
       "array([252.5, 272.5, 297.5])"
      ]
     },
     "execution_count": 60,
     "metadata": {},
     "output_type": "execute_result"
    }
   ],
   "source": [
    "quartiles"
   ]
  }
 ],
 "metadata": {
  "kernelspec": {
   "display_name": "Python 3 (ipykernel)",
   "language": "python",
   "name": "python3"
  },
  "language_info": {
   "codemirror_mode": {
    "name": "ipython",
    "version": 3
   },
   "file_extension": ".py",
   "mimetype": "text/x-python",
   "name": "python",
   "nbconvert_exporter": "python",
   "pygments_lexer": "ipython3",
   "version": "3.12.1"
  }
 },
 "nbformat": 4,
 "nbformat_minor": 4
}
