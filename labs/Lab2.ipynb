{
 "cells": [
  {
   "cell_type": "markdown",
   "metadata": {},
   "source": [
    "# Lab 2\n",
    "\n",
    "Labs in general are for you to solve short programming challenges in class. In contrast, homework assignments will involve more challenging and lengthy problems.\n",
    "\n",
    "Feel free to ask the TAs for help if there is anything you do not understand. The TAs will go through suggested solutions in the last 15 minutes of the lab - typically by solving them in a live demo. Your midterm exams will be like this, so it is highly beneficial for you to attend these labs.\n",
    "\n",
    "\n",
    "- You are not to use any 3rd party library such as numpy for this lab\n",
    "\n",
    "- Do this lab without using the web to search for solutions\n",
    "\n",
    "Please remember to submit the lab on Gradescope within 2 hours after the lab. "
   ]
  },
  {
   "cell_type": "markdown",
   "metadata": {},
   "source": [
    "### A few points to review\n",
    "1. Collections (list, tuple, set, dictionary)\n",
    "2. Control flows\n",
    "    - if statement\n",
    "    - for and while loop\n",
    "3. functions"
   ]
  },
  {
   "cell_type": "markdown",
   "metadata": {},
   "source": [
    "**1**. (1 point). Write a function `find_min_max(x)` that takes a list of numbers and returns the smallest and largest numbers in a new list.\n",
    "\n",
    "Print the result given the input list `[0.3, 5, 3, 4, 2, 3, 1]`"
   ]
  },
  {
   "cell_type": "code",
   "execution_count": 1,
   "metadata": {},
   "outputs": [],
   "source": [
    "def find_min_max(x: list[int]) -> int:\n",
    "    min_x: int = x[0]\n",
    "    max_x: int = x[0]\n",
    "    for n in x:\n",
    "        if n > max_x:\n",
    "            max_x = n\n",
    "        elif n < min_x:\n",
    "            min_x = n\n",
    "    return (min_x, max_x)"
   ]
  },
  {
   "cell_type": "code",
   "execution_count": 2,
   "metadata": {},
   "outputs": [
    {
     "name": "stdout",
     "output_type": "stream",
     "text": [
      "(0.3, 5)\n"
     ]
    }
   ],
   "source": [
    "x = [0.3, 5, 3, 4, 2, 3, 1]\n",
    "print(find_min_max(x))"
   ]
  },
  {
   "cell_type": "markdown",
   "metadata": {},
   "source": [
    "**2**. (1 points). Write a program to print all the numbers between 1000 and 2000 which are divisible by 7 but are not a multiple of 5."
   ]
  },
  {
   "cell_type": "code",
   "execution_count": 4,
   "metadata": {},
   "outputs": [
    {
     "name": "stdout",
     "output_type": "stream",
     "text": [
      "1001\n",
      "1008\n",
      "1022\n",
      "1029\n",
      "1036\n",
      "1043\n",
      "1057\n",
      "1064\n",
      "1071\n",
      "1078\n",
      "1092\n",
      "1099\n",
      "1106\n",
      "1113\n",
      "1127\n",
      "1134\n",
      "1141\n",
      "1148\n",
      "1162\n",
      "1169\n",
      "1176\n",
      "1183\n",
      "1197\n",
      "1204\n",
      "1211\n",
      "1218\n",
      "1232\n",
      "1239\n",
      "1246\n",
      "1253\n",
      "1267\n",
      "1274\n",
      "1281\n",
      "1288\n",
      "1302\n",
      "1309\n",
      "1316\n",
      "1323\n",
      "1337\n",
      "1344\n",
      "1351\n",
      "1358\n",
      "1372\n",
      "1379\n",
      "1386\n",
      "1393\n",
      "1407\n",
      "1414\n",
      "1421\n",
      "1428\n",
      "1442\n",
      "1449\n",
      "1456\n",
      "1463\n",
      "1477\n",
      "1484\n",
      "1491\n",
      "1498\n",
      "1512\n",
      "1519\n",
      "1526\n",
      "1533\n",
      "1547\n",
      "1554\n",
      "1561\n",
      "1568\n",
      "1582\n",
      "1589\n",
      "1596\n",
      "1603\n",
      "1617\n",
      "1624\n",
      "1631\n",
      "1638\n",
      "1652\n",
      "1659\n",
      "1666\n",
      "1673\n",
      "1687\n",
      "1694\n",
      "1701\n",
      "1708\n",
      "1722\n",
      "1729\n",
      "1736\n",
      "1743\n",
      "1757\n",
      "1764\n",
      "1771\n",
      "1778\n",
      "1792\n",
      "1799\n",
      "1806\n",
      "1813\n",
      "1827\n",
      "1834\n",
      "1841\n",
      "1848\n",
      "1862\n",
      "1869\n",
      "1876\n",
      "1883\n",
      "1897\n",
      "1904\n",
      "1911\n",
      "1918\n",
      "1932\n",
      "1939\n",
      "1946\n",
      "1953\n",
      "1967\n",
      "1974\n",
      "1981\n",
      "1988\n"
     ]
    }
   ],
   "source": [
    "def cond(x: int) -> bool:\n",
    "    if x % 7 == 0 and x % 5 != 0:\n",
    "        return True\n",
    "    else:\n",
    "        return False\n",
    "    \n",
    "for x in range(1000, 2001):\n",
    "    if cond(x):\n",
    "        print(x)"
   ]
  },
  {
   "cell_type": "markdown",
   "metadata": {},
   "source": [
    "**3**. (2 point). Write a function `factorial(x)` that takes a number and prints the factorial of the input number. Print the result given the input number equal to 10."
   ]
  },
  {
   "cell_type": "code",
   "execution_count": 7,
   "metadata": {},
   "outputs": [],
   "source": [
    "def factorial(x: int) -> int:\n",
    "    for n in range (1, x):\n",
    "        x *= n\n",
    "    print(x)"
   ]
  },
  {
   "cell_type": "code",
   "execution_count": 8,
   "metadata": {},
   "outputs": [
    {
     "name": "stdout",
     "output_type": "stream",
     "text": [
      "3628800\n"
     ]
    }
   ],
   "source": [
    "factorial(10)"
   ]
  },
  {
   "cell_type": "markdown",
   "metadata": {},
   "source": [
    "**4** (2 point). Given a list of tuple `x=[(3.0,6.9), (4.5, 6.8), (3.4, 5.7), (5.8, 0.1), (4.9, 3.3)]`, use `lambda` to sort a the list of tuples based on the second item in each tuple. "
   ]
  },
  {
   "cell_type": "code",
   "execution_count": 12,
   "metadata": {},
   "outputs": [],
   "source": [
    "x=[(3.0,6.9), (4.5, 6.8), (3.4, 5.7), (5.8, 0.1), (4.9, 3.3)]"
   ]
  },
  {
   "cell_type": "code",
   "execution_count": 14,
   "metadata": {},
   "outputs": [
    {
     "data": {
      "text/plain": [
       "[(5.8, 0.1), (4.9, 3.3), (3.4, 5.7), (4.5, 6.8), (3.0, 6.9)]"
      ]
     },
     "execution_count": 14,
     "metadata": {},
     "output_type": "execute_result"
    }
   ],
   "source": [
    "sorted(x, key = lambda y: y[1])"
   ]
  },
  {
   "cell_type": "markdown",
   "metadata": {},
   "source": [
    "**5**. (2 point). Given a list `x=[1,2,3,4,5]`, use `map` and `lambda` to create a new list with the square of each item. "
   ]
  },
  {
   "cell_type": "code",
   "execution_count": 26,
   "metadata": {},
   "outputs": [],
   "source": [
    "x = [1,2,3,4,5]\n",
    "y = lambda a: a**2\n",
    "y_of_x: list = list((map(y, x)))"
   ]
  },
  {
   "cell_type": "code",
   "execution_count": 27,
   "metadata": {},
   "outputs": [
    {
     "data": {
      "text/plain": [
       "[1, 4, 9, 16, 25]"
      ]
     },
     "execution_count": 27,
     "metadata": {},
     "output_type": "execute_result"
    }
   ],
   "source": [
    "y_of_x"
   ]
  },
  {
   "cell_type": "markdown",
   "metadata": {},
   "source": [
    "**6**. (2 point). Write a function `gcd(a, b)` that returns the greatest common divisor of two numbers."
   ]
  },
  {
   "cell_type": "code",
   "execution_count": 37,
   "metadata": {},
   "outputs": [],
   "source": [
    "def gcd(a: int, b: int) -> int:\n",
    "    gcd: int = 1\n",
    "    for n in range(1, a + 1):\n",
    "        if a % n == 0 and b % n == 0:\n",
    "            gcd = n\n",
    "    return gcd"
   ]
  },
  {
   "cell_type": "code",
   "execution_count": 45,
   "metadata": {},
   "outputs": [
    {
     "data": {
      "text/plain": [
       "1"
      ]
     },
     "execution_count": 45,
     "metadata": {},
     "output_type": "execute_result"
    }
   ],
   "source": [
    "gcd(777, 800)"
   ]
  },
  {
   "cell_type": "code",
   "execution_count": null,
   "metadata": {},
   "outputs": [],
   "source": []
  },
  {
   "cell_type": "code",
   "execution_count": null,
   "metadata": {},
   "outputs": [],
   "source": []
  }
 ],
 "metadata": {
  "kernelspec": {
   "display_name": "Python 3 (ipykernel)",
   "language": "python",
   "name": "python3"
  },
  "language_info": {
   "codemirror_mode": {
    "name": "ipython",
    "version": 3
   },
   "file_extension": ".py",
   "mimetype": "text/x-python",
   "name": "python",
   "nbconvert_exporter": "python",
   "pygments_lexer": "ipython3",
   "version": "3.12.1"
  }
 },
 "nbformat": 4,
 "nbformat_minor": 4
}
