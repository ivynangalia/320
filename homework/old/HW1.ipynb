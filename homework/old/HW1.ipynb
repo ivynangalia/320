{
 "cells": [
  {
   "cell_type": "markdown",
   "metadata": {},
   "source": [
    "# Homework 1\n",
    "\n",
    "Please submit the solution to gradescope by 11:59 PM, Sept 12, Thursday."
   ]
  },
  {
   "cell_type": "markdown",
   "metadata": {},
   "source": [
    "**Name**: Ivy Nangalia \n",
    "\n",
    "**PID**: 730670491\n"
   ]
  },
  {
   "cell_type": "code",
   "execution_count": 1,
   "metadata": {},
   "outputs": [],
   "source": [
    "import string"
   ]
  },
  {
   "cell_type": "markdown",
   "metadata": {},
   "source": [
    "## Problem 1 (25 points). \n",
    "\n",
    "**1.1** (20 points) Load a text file `file.txt`, clean its content by \n",
    "\n",
    "\n",
    " - removing all punctuation\n",
    " - removing extra white spaces\n",
    " - transforming the text to lowercase.\n",
    "\n",
    "Print the cleaned text. \n",
    "\n",
    "**1.2** (5 points) Count and print the number of vowels present in the cleaned text\n",
    "\n",
    "   Example input: `s = \"hello world\"`\n",
    "\n",
    "   Example output: `a = 0, e = 1, i = 0, o = 2, u = 0`"
   ]
  },
  {
   "cell_type": "code",
   "execution_count": 5,
   "metadata": {},
   "outputs": [
    {
     "name": "stdout",
     "output_type": "stream",
     "text": [
      "Writing file.txt\n"
     ]
    }
   ],
   "source": [
    "%%file file.txt \n",
    "\n",
    "Hello World!\n",
    "I'm doing my first STOR320 homework Assignment! \n",
    "How exciting."
   ]
  },
  {
   "cell_type": "code",
   "execution_count": 29,
   "metadata": {},
   "outputs": [
    {
     "name": "stdout",
     "output_type": "stream",
     "text": [
      "\n",
      "hello world\n",
      "im doing my first stor320 homework assignment \n",
      "how exciting\n"
     ]
    }
   ],
   "source": [
    "with open(\"file.txt\") as f:\n",
    "    f = f.read()\n",
    "f = f.translate(str.maketrans('', '', string.punctuation))\n",
    "f = f.lower()\n",
    "for line in f:\n",
    "    print(line, end='')\n",
    "    \n"
   ]
  },
  {
   "cell_type": "code",
   "execution_count": 32,
   "metadata": {},
   "outputs": [
    {
     "name": "stdout",
     "output_type": "stream",
     "text": [
      "a = 1, e = 4, i = 6, o = 7, u = 0\n"
     ]
    }
   ],
   "source": [
    "def vowel_count(x: str):\n",
    "    vc: dict = {\"a\": 0, \"e\": 0, \"i\": 0, \"o\": 0, \"u\": 0}\n",
    "    for y in x:\n",
    "        if y in vc:\n",
    "            vc[y] += 1\n",
    "    print(f\"a = {vc['a']}, e = {vc['e']}, i = {vc['i']}, o = {vc['o']}, u = {vc['u']}\")\n",
    "\n",
    "            \n",
    "vowel_count(f)"
   ]
  },
  {
   "cell_type": "markdown",
   "metadata": {},
   "source": [
    "## Problem 2. (25 point). \n",
    "\n",
    "You are organizing information about several data science courses. Given the nested list of tuples `courses = [(101, 'Intro to Data Science'), (201, 'Machine Learning'), (103, 'Data Visualization'), (102, 'Python Programming')]`, perform the following tasks:\n",
    "\n",
    "**2.1** (5 points) Convert the list of tuples into a dictionary where the course number is the key and the course name is the value.\n",
    "\n",
    "**2.2** (5 points) Add a new course `(202, 'Deep Learning')` to the dictionary.\n",
    "\n",
    "**2.3** (5 points) Sort the dictionary based on the course number. \n",
    "\n",
    "**2.4** (5 points) Update the dictionary based on the following instruction: `Intro to Data Science` course is combined with `Python Programming` course, called `Intro to Data Science with Python` and the course number is still `101`. Delete the course `Python Programming`.\n",
    "\n",
    "**2.5** (5 points) Extract the course numbers and course names from the updated dictionary and store them in separate lists, e.g., `[101, 102, 103, 201, 202]`, `['Intro to Data Science with Python', 'Data Visualization',...]`\n",
    "\n",
    "\n"
   ]
  },
  {
   "cell_type": "code",
   "execution_count": 44,
   "metadata": {},
   "outputs": [
    {
     "name": "stdout",
     "output_type": "stream",
     "text": [
      "{101: 'Intro to Data Science with Python', 103: 'Data Visualization', 201: 'Machine Learning', 202: 'Deep Learning'}\n",
      "[101, 103, 201, 202]\n",
      "['Intro to Data Science with Python', 'Data Visualization', 'Machine Learning', 'Deep Learning']\n"
     ]
    }
   ],
   "source": [
    "courses = [(101, 'Intro to Data Science'), (201, 'Machine Learning'), (103, 'Data Visualization'), (102, 'Python Programming')]\n",
    "courses = dict(sorted(courses))\n",
    "courses[202] = \"Deep Learning\"\n",
    "courses[101] = \"Intro to Data Science with Python\"\n",
    "courses.pop(102)\n",
    "\n",
    "print(courses)\n",
    "print(list(courses.keys()))\n",
    "print(list(courses.values()))\n",
    "\n"
   ]
  },
  {
   "cell_type": "markdown",
   "metadata": {},
   "source": [
    "## Problem 3 (25 points). \n",
    "\n",
    "You have two lists of student IDs enrolled in two different data science courses: `course1_ids = [101, 102, 102, 103, 104]` and `course2_ids = [103, 104, 104, 105, 106]`. Perform the following tasks:\n",
    "\n",
    "**3.1** (5 points) Convert the lists to sets to remove duplicate IDs.\n",
    "\n",
    "**3.2** (10 points) Find the union and intersection of the two sets to determine which students are in either or both courses.\n",
    "\n",
    "**3.3** (5 points) Convert the union and intersection sets to sorted lists.\n",
    "\n",
    "**3.4** (5 points) Create a dictionary where the keys are the student IDs from the union list and the values are True if the student is in both courses, otherwise False."
   ]
  },
  {
   "cell_type": "code",
   "execution_count": 59,
   "metadata": {},
   "outputs": [
    {
     "name": "stdout",
     "output_type": "stream",
     "text": [
      "Union: [101, 102, 103, 104]\n",
      "Intersection: [103, 104, 105, 106]\n",
      "{101: False, 102: False, 103: True, 104: True}\n"
     ]
    }
   ],
   "source": [
    "course1_ids = [101, 102, 102, 103, 104]\n",
    "course2_ids = [103, 104, 104, 105, 106]\n",
    "course1_ids = set(course1_ids)\n",
    "course2_ids = set(course2_ids)\n",
    "\n",
    "union = sorted(course1_ids or course2_ids)\n",
    "intersection = sorted(course1_ids and course2_ids) \n",
    "\n",
    "print(\"Union: \" + str(union))\n",
    "print(\"Intersection: \" + str(intersection))\n",
    "\n",
    "both_classes = {}\n",
    "for id in union:\n",
    "    if id in course1_ids and id in course2_ids:\n",
    "        both_classes[id] = True\n",
    "    else:\n",
    "        both_classes[id] = False\n",
    "\n",
    "print(both_classes)\n"
   ]
  },
  {
   "cell_type": "markdown",
   "metadata": {},
   "source": [
    "# Problem 4 (25 points)\n",
    "\n",
    "**4.1** (5 points) Install a package `sympy`. The `sympy` library is a Python library for symbolic mathematics. You do not have to install this library again if it is already installed. \n",
    "\n",
    "**4.2** (10 points) `isprime` function in `sympy` checks if a number is a prime number. For example, `isprime(7)` returns `True`. Based on this function, define a function to find the closest prime number of an integer. For example, if the input is 8, the function should return 7, as it is the closest prime number.\n",
    "\n",
    "\n",
    "\n",
    "**4.3** (5 points) Treat your PID number at UNC as an integer, and print its closest prime number.\n",
    "\n",
    "**4.4** (5 points) Given this sequence `[456,983,482,963,749,12,97]`, create a new list where each element is replaced by the closest prime number to that element, using the function defined in **4.2**.\n",
    "\n"
   ]
  },
  {
   "cell_type": "code",
   "execution_count": 73,
   "metadata": {},
   "outputs": [
    {
     "name": "stdout",
     "output_type": "stream",
     "text": [
      "730670477\n",
      "[457, 983, 479, 967, 751, 13, 97]\n"
     ]
    }
   ],
   "source": [
    "def closest_prime(n: int) -> int:\n",
    "    n_add = n\n",
    "    n_sub = n\n",
    "    from sympy import isprime\n",
    "    while isprime(n) == False:\n",
    "        while isprime(n_add) == False:\n",
    "            n_add += 1\n",
    "        while isprime(n_sub) == False:\n",
    "            n_sub -= 1\n",
    "        if (n_add - n) > (n - n_sub):\n",
    "            n = n_sub\n",
    "        else:\n",
    "            n = n_add\n",
    "    return n\n",
    "\n",
    "print(closest_prime(730670491))\n",
    "\n",
    "seq = [456,983,482,963,749,12,97]\n",
    "for x in range(0, len(seq)):\n",
    "    seq[x] = closest_prime(seq[x])\n",
    "\n",
    "print(seq)\n",
    "\n"
   ]
  },
  {
   "cell_type": "code",
   "execution_count": 117,
   "metadata": {},
   "outputs": [
    {
     "name": "stdout",
     "output_type": "stream",
     "text": [
      "[2, 3, 5, 7, 11, 13, 17, 19, 23, 29, 31, 37, 41, 43, 47]\n",
      "All prime!\n"
     ]
    }
   ],
   "source": [
    "# discovering prime numbers for fun\n",
    "\n",
    "def prime(n: int) -> bool:\n",
    "    divisable: bool\n",
    "    if n == 1:\n",
    "        return False\n",
    "    n_sub = n - 1\n",
    "    while n % n_sub != 0:\n",
    "        n_sub -= 1\n",
    "    if n_sub == 1:\n",
    "        divisable = False\n",
    "    else:\n",
    "        divisable = True\n",
    "    return not divisable\n",
    "\n",
    "primes = []\n",
    "\n",
    "for x in range(1, 50):\n",
    "    if prime(x) == True:\n",
    "        primes.append(x)\n",
    "\n",
    "print(primes)\n",
    "\n",
    "flags = []\n",
    "for x in primes:\n",
    "    if not isprime(x):\n",
    "        flags.append(x)\n",
    "if len(flags) == 0:\n",
    "    print(\"All prime!\")\n",
    "else:\n",
    "    print(\"Flags: \" + str(flags))\n",
    "    \n",
    "    "
   ]
  },
  {
   "cell_type": "code",
   "execution_count": null,
   "metadata": {},
   "outputs": [],
   "source": []
  }
 ],
 "metadata": {
  "kernelspec": {
   "display_name": "Python 3 (ipykernel)",
   "language": "python",
   "name": "python3"
  },
  "language_info": {
   "codemirror_mode": {
    "name": "ipython",
    "version": 3
   },
   "file_extension": ".py",
   "mimetype": "text/x-python",
   "name": "python",
   "nbconvert_exporter": "python",
   "pygments_lexer": "ipython3",
   "version": "3.12.1"
  }
 },
 "nbformat": 4,
 "nbformat_minor": 4
}
