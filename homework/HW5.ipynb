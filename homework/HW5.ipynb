{
 "cells": [
  {
   "cell_type": "markdown",
   "id": "91e5d13a",
   "metadata": {},
   "source": [
    "# STOR 320 Homework 5: Visualization and Linear Regression\n",
    "\n",
    "Please submit the solution to gradescope by 11:59 PM, Nov 7, Thursday."
   ]
  },
  {
   "cell_type": "markdown",
   "id": "96503059",
   "metadata": {},
   "source": [
    "**Name**: \n",
    "\n",
    "**PID**: \n"
   ]
  },
  {
   "cell_type": "code",
   "execution_count": 67,
   "id": "d35a1dee",
   "metadata": {},
   "outputs": [],
   "source": [
    "import pandas as pd\n",
    "import numpy as np\n",
    "import matplotlib.pyplot as plt\n",
    "import seaborn as sns\n",
    "from wordcloud import WordCloud\n",
    "import requests\n",
    "from bs4 import BeautifulSoup\n",
    "from sklearn.model_selection import train_test_split\n",
    "import statsmodels.formula.api as smf\n",
    "import statsmodels.api as sm\n",
    "from statsmodels.stats.outliers_influence import variance_inflation_factor"
   ]
  },
  {
   "cell_type": "markdown",
   "id": "e251b709",
   "metadata": {},
   "source": [
    "## Problem 1. (5 points). \n",
    "\n",
    "A random walk is a mathematical concept that describes a path consisting of a series of random steps. A random walk progresses in discrete steps. In each step, the position either increases or decreases by a certain amount, typically +1 or -1.\n",
    "\n",
    "- 1.1 Generate 10 random walks, each starting at 0 and having 100 steps. Each step should be randomly either -1 or +1. Store each random walk as a separate line in a 2D array or list. Set random seed as `42`. (3 points)\n",
    "- 1.2 Visualize the 10 random walks in a single plot. Each random walk should have its own color and be labeled as Walk 1, Walk 2, ..., Walk 10. (2 points)"
   ]
  },
  {
   "cell_type": "code",
   "execution_count": null,
   "id": "435dcba7",
   "metadata": {},
   "outputs": [],
   "source": []
  },
  {
   "cell_type": "code",
   "execution_count": null,
   "id": "6a4dd1e2",
   "metadata": {},
   "outputs": [],
   "source": []
  },
  {
   "cell_type": "markdown",
   "id": "887c2bbc",
   "metadata": {},
   "source": [
    "## Problem 2. Recreate the  ``pd.get_dummies()`` function from stratch. (20 points). \n",
    "\n",
    "- 2.1 Write a function called `convert_to_binary` **from scratch** that takes a pandas DataFrame of categorical features and returns a DataFrame where each feature is converted into multiple binary columns.  (8 points)\n",
    "\n",
    "* Each binary column should represent a feature-category combination.\n",
    "* The column names should follow the format feature_category. For example, if the feature `Color` has values `E`, `I`, and `J`, the new columns should be `Color_E`, `Color_I`, and `Color_J`.\n",
    "\n",
    "- 2.2 Apply the `convert_to_binary` to the `Color` and `Cut` columns in `diamonds-new.csv`. Print the converted dataframe. (4 points)\n",
    "\n",
    "- 2.3 Apply the `pd.get_dummies()` function to the same dataset, and check if the output of `convert_to_binary` is the same as `pd.get_dummies()`. (8 points)\n",
    "\n",
    "**Hint:** Use `np.allclose` to check if the outputs are the same.\n"
   ]
  },
  {
   "cell_type": "code",
   "execution_count": null,
   "id": "67c37a71",
   "metadata": {},
   "outputs": [],
   "source": []
  },
  {
   "cell_type": "code",
   "execution_count": null,
   "id": "931cdfee",
   "metadata": {},
   "outputs": [],
   "source": []
  },
  {
   "cell_type": "code",
   "execution_count": null,
   "id": "0ebc4546",
   "metadata": {},
   "outputs": [],
   "source": []
  },
  {
   "cell_type": "code",
   "execution_count": null,
   "id": "bda0d654",
   "metadata": {},
   "outputs": [],
   "source": []
  },
  {
   "cell_type": "markdown",
   "id": "4f6402d0",
   "metadata": {},
   "source": [
    "# Problem 3: Simple linear regression with `penguins` dataset (15 points)"
   ]
  },
  {
   "cell_type": "markdown",
   "id": "8c6d4f58",
   "metadata": {},
   "source": [
    "The dataset `penguins`contains measurements for different penguin species. The dataset includes the following relevant columns:\n",
    "\n",
    "- bill_length_mm: Length of the penguin's bill in millimeters.\n",
    "\n",
    "- bill_depth_mm: Depth of the penguin's bill in millimeters.\n",
    "\n",
    "- species: Species of the penguin (e.g., Adelie, Gentoo, Chinstrap).\n",
    "\n",
    "* **3.1** Create a scatter plot with a linear regression line for the entire dataset. X-axis is the `bill_length_mm` and y-axis is the `bill_depth_mm`. (3 points)\n",
    "\n",
    "* **3.2** Based on your plot, describe the relationship between bill length and bill depth. What is the meaning of the slope of the line in the plot? (3 points)\n",
    "\n",
    "* **3.3** Create a similar scatter plot with a linear regression line grouping by species. X-axis is the `bill_length_mm` and y-axis is the `bill_depth_mm`. (4 points)\n",
    "\n",
    "* **3.4** Based on your plot, describe the relationship between bill length and bill depth. Describe the differences of plots between 3.1 and 3.3 (5 points)"
   ]
  },
  {
   "cell_type": "code",
   "execution_count": null,
   "id": "7f8c765d",
   "metadata": {},
   "outputs": [],
   "source": [
    "penguins = sns.load_dataset('penguins')"
   ]
  },
  {
   "cell_type": "code",
   "execution_count": null,
   "id": "55d84421",
   "metadata": {},
   "outputs": [],
   "source": []
  },
  {
   "cell_type": "code",
   "execution_count": null,
   "id": "0b693e72",
   "metadata": {},
   "outputs": [],
   "source": []
  },
  {
   "cell_type": "code",
   "execution_count": null,
   "id": "597a75ee",
   "metadata": {},
   "outputs": [],
   "source": []
  },
  {
   "cell_type": "code",
   "execution_count": null,
   "id": "c2ae19db",
   "metadata": {},
   "outputs": [],
   "source": []
  },
  {
   "cell_type": "markdown",
   "id": "1161e33e",
   "metadata": {},
   "source": [
    "# Problem 4: Linear regression with `diamonds-new.csv`. (60 points)"
   ]
  },
  {
   "cell_type": "markdown",
   "id": "dfba88e4",
   "metadata": {},
   "source": [
    "* 4.1 Read the `diamonds-new.csv`, check if there is any missing value. How many missing values are there? (3 points)\n",
    "* 4.2 Remove the rows with missing values. Check if there is any missing value in the new table. (2 points)\n",
    "* 4.3 Create a histgram of the price distribution. What do you observe?  (5 points)\n",
    "* 4.4 Create a scatter plot between `Price` and `Carat`, grouping by the level of `Cut`. What difference do you observe for different `Cut` levels? Do you observe a linear trend? (5 points)\n",
    "\n",
    "* 4.5 Create a scatter plot between `Price` and `depth`, grouping by the level of `Cut`. Do you observe a linear trend? (5 points)\n",
    "\n",
    "* 4.6 Create a barplot between `Price` and `Color`, grouping by the level of `Cut`. Which type of `Color` and `Cut` combination has the largest average price? (5 points)\n",
    "\n",
    "* 4.7 Use `train_test_split` to split the whole dataset into training set and testing set, according to the ratio 80% and 20%. How many rows in the training set? How many rows in the test set? (5 points)\n",
    "\n",
    "* 4.8 Build a linear regression model to predict the prices based on all other columns. What is the value of in-sample R-squared?  (5 points)\n",
    "\n",
    "* 4.9 Calculate the VIF values for each column within `['Carat', 'depth', 'table', 'x', 'y', 'z']`. Is there any multicollinearity within these columns? (5 points)\n",
    "\n",
    "* 4.10 Remove proper columns within `['Carat', 'depth', 'table', 'x', 'y', 'z']` based on the values of VIF. (5 points)\n",
    "\n",
    "* 4.11 Build a new linear regression model using the selected columns in 4.10. What is the value of in-sample R-squared? Write down the math formulation for predicting the price of a diamonds based on the coefficient in this model. (5 points)\n",
    "\n",
    "* 4.12 Calculate the out-of-sample R-squared for the model in 4.11. (5 points)\n",
    "\n",
    "* 4.13 Visualize the prediction error as a function of the predicted prices. Add a horizontal line representing residual = 0. What do you observe? (5 points)\n",
    "\n"
   ]
  },
  {
   "cell_type": "code",
   "execution_count": null,
   "id": "25854a03",
   "metadata": {},
   "outputs": [],
   "source": []
  },
  {
   "cell_type": "code",
   "execution_count": null,
   "id": "91c55912",
   "metadata": {},
   "outputs": [],
   "source": []
  }
 ],
 "metadata": {
  "kernelspec": {
   "display_name": "Python 3 (ipykernel)",
   "language": "python",
   "name": "python3"
  },
  "language_info": {
   "codemirror_mode": {
    "name": "ipython",
    "version": 3
   },
   "file_extension": ".py",
   "mimetype": "text/x-python",
   "name": "python",
   "nbconvert_exporter": "python",
   "pygments_lexer": "ipython3",
   "version": "3.11.4"
  }
 },
 "nbformat": 4,
 "nbformat_minor": 5
}
