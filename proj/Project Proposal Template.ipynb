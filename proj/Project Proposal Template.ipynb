{
 "cells": [
  {
   "cell_type": "markdown",
   "id": "90b5bf0e",
   "metadata": {},
   "source": [
    "# STOR 320: Introduction to Data Science\n",
    "## 2024 Fall\n",
    "## Project Proposal Group 7"
   ]
  },
  {
   "cell_type": "markdown",
   "id": "e15d0f56",
   "metadata": {},
   "source": [
    "## Project Roles\n",
    "\n",
    "- **Creator:** Ivy Nangalia, [ivyn@unc.edu](ivyn@unc.edu), 730670491\n",
    "- **Interpreter:** Alisha Nazir, [anazir@unc.edu](anazir@unc.edu), 730824666\n",
    "- **Interpreter:** Kharan Joshi, [kharanj@unc.edu](kharanj@unc.edu), 730569817\n",
    "- **Deliverer:** Ximing Sun, [ximsun@unc.edu](ximsun@unc.edu), 730824666"
   ]
  },
  {
   "cell_type": "markdown",
   "id": "2b144712",
   "metadata": {},
   "source": [
    "## Datasets\n",
    "\n",
    "[2007 - 2023 Point-in-Time Estimates by CoC](https://www.huduser.gov/portal/datasets/ahar/2023-ahar-part-1-pit-estimates-of-homelessness-in-the-us.html)  \n",
    "- Plan to download\n",
    "\n",
    "[Chapel Hill Census](https://www.census.gov/quickfacts/fact/table/chapelhilltownnorthcarolina/LFE041222)\n",
    "- Plan to download\n",
    "\n",
    "[North Carolina Census](https://www.census.gov/quickfacts/fact/table/NC/HCN010217)\n",
    "- Plan to download\n",
    "\n",
    "[Eviction Data across America Per Month](https://evictionlab.org/eviction-tracking/get-the-data/)\n",
    "- Plan to download"
   ]
  },
  {
   "cell_type": "markdown",
   "id": "2bf30c77",
   "metadata": {},
   "source": [
    "## Initial Questions (At least 10 questions)\n",
    "\n",
    "- **Question 1:** What demographics of people are more likely to be homeless today?\n",
    "- **Question 2:** How have the demographics of the homeless population changed over time and are there notable changes in the number of homeless people in specific over time?\n",
    "- **Question 3:** What are the primary factors correlated with homelessness in Chapel Hill/NC and how do they vary by race, gender, etc. Do these differ from nationwide trends?\n",
    "- **Question 4:** Is there a relationship between eviction rates and race/gender?\n",
    "- **Question 5:** How do individual CoCs compare in terms of change in homeless counts over the years?\n",
    "- **Question 6:** What trends do we see in racial segregation?\n",
    "- **Question 7:** How has the demographics of the homeless population changed over time and are there notable changes in the number of homeless in specific over time?\n",
    "- **Question 8:** Can we predict future trends in homelessness count based on historical data? What kind of model would best suit that?\n",
    "- **Question 9:** How do the demographics of homelessness compare to the general population?\n",
    "- **Question 10:** How has COVID affected housing stability for different demographic groups?"
   ]
  }
 ],
 "metadata": {
  "kernelspec": {
   "display_name": "Python 3 (ipykernel)",
   "language": "python",
   "name": "python3"
  },
  "language_info": {
   "codemirror_mode": {
    "name": "ipython",
    "version": 3
   },
   "file_extension": ".py",
   "mimetype": "text/x-python",
   "name": "python",
   "nbconvert_exporter": "python",
   "pygments_lexer": "ipython3",
   "version": "3.11.4"
  }
 },
 "nbformat": 4,
 "nbformat_minor": 5
}
