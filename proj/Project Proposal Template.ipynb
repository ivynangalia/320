{
 "cells": [
  {
   "cell_type": "markdown",
   "id": "90b5bf0e",
   "metadata": {},
   "source": [
    "# STOR 320: Introduction to Data Science\n",
    "## 2024 Fall\n",
    "## Project Proposal Group 7"
   ]
  },
  {
   "cell_type": "markdown",
   "id": "e15d0f56",
   "metadata": {},
   "source": [
    "## Project Roles\n",
    "\n",
    "- **Creator:** Ivy Nangalia, [ivyn@unc.edu](ivyn@unc.edu), 730670491\n",
    "- **Interpreter:** Alisha Nazir, [anazir@unc.edu](anazir@unc.edu), 730824666\n",
    "- **Interpreter:** FIRSTNAME LASTNAME, Email, PID\n",
    "- **Deliverer:** FIRSTNAME LASTNAME, Email, PID"
   ]
  },
  {
   "cell_type": "markdown",
   "id": "2b144712",
   "metadata": {},
   "source": [
    "## Datasets\n",
    "\n",
    "[NAME_OF_DATASET](URL_HYPERLINK_TO_WEBSITE_WHERE_DATA_IS)  \n",
    "- Plan to [scrape or download]\n",
    "\n",
    "[NAME_OF_DATASET](URL_HYPERLINK_TO_WEBSITE_WHERE_DATA_IS)\n",
    "- Plan to [scrape or download]"
   ]
  },
  {
   "cell_type": "markdown",
   "id": "2bf30c77",
   "metadata": {},
   "source": [
    "## Initial Questions (At least 10 questions)\n",
    "\n",
    "- **Question 1:** (Ex. What is the relationship between percent of people wearing masks and the percent of people with the virus?)\n",
    "- **Question 2:**\n",
    "- **Question 3:**\n",
    "- **Question 4:**\n",
    "- **Question 5:**\n",
    "- **Question 6:**\n",
    "- **Question 7:**\n",
    "- **Question 8:**\n",
    "- **Question 9:**\n",
    "- **Question 10:**"
   ]
  },
  {
   "cell_type": "code",
   "execution_count": null,
   "id": "33f1ce46",
   "metadata": {},
   "outputs": [],
   "source": []
  }
 ],
 "metadata": {
  "kernelspec": {
   "display_name": "Python 3 (ipykernel)",
   "language": "python",
   "name": "python3"
  },
  "language_info": {
   "codemirror_mode": {
    "name": "ipython",
    "version": 3
   },
   "file_extension": ".py",
   "mimetype": "text/x-python",
   "name": "python",
   "nbconvert_exporter": "python",
   "pygments_lexer": "ipython3",
   "version": "3.11.4"
  }
 },
 "nbformat": 4,
 "nbformat_minor": 5
}
