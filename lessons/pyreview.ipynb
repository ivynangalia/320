{
 "cells": [
  {
   "cell_type": "markdown",
   "id": "6fe420a9",
   "metadata": {},
   "source": [
    "# Collections"
   ]
  },
  {
   "cell_type": "markdown",
   "id": "706651ff",
   "metadata": {},
   "source": [
    "Python has 4 built-in data types to store collections of data. \n",
    "- List\n",
    "- Tuple\n",
    "- Set\n",
    "- Dictionary\n",
    "\n",
    "Useful reference: https://docs.python.org/3/tutorial/datastructures.html"
   ]
  },
  {
   "cell_type": "markdown",
   "id": "f19924d1",
   "metadata": {},
   "source": [
    "## List\n",
    "\n",
    "- A list is a collection of elements in a particular **order**. \n",
    "- A list can include the letters of the alphabet, the digits from 0–9, etc. Elements in a list can have **different types**. \n",
    "- `[]` indicates a list, and individual elements in the list are separated by commas. \n",
    "- A list allows **duplicates**. "
   ]
  },
  {
   "cell_type": "code",
   "execution_count": 37,
   "id": "723d6c35",
   "metadata": {},
   "outputs": [
    {
     "data": {
      "text/plain": [
       "[1, 2, 3]"
      ]
     },
     "execution_count": 37,
     "metadata": {},
     "output_type": "execute_result"
    }
   ],
   "source": [
    "[1,2,3]"
   ]
  },
  {
   "cell_type": "code",
   "execution_count": 38,
   "id": "0b435b95",
   "metadata": {},
   "outputs": [
    {
     "data": {
      "text/plain": [
       "['apple', 'banana', 'orange']"
      ]
     },
     "execution_count": 38,
     "metadata": {},
     "output_type": "execute_result"
    }
   ],
   "source": [
    "x = [\"apple\", \"banana\", \"orange\"]\n",
    "x"
   ]
  },
  {
   "cell_type": "code",
   "execution_count": 39,
   "id": "9cc98f6c",
   "metadata": {},
   "outputs": [
    {
     "data": {
      "text/plain": [
       "[1, 2.379, 'apple']"
      ]
     },
     "execution_count": 39,
     "metadata": {},
     "output_type": "execute_result"
    }
   ],
   "source": [
    "x = [1, 2.379, \"apple\"] # you can have multiple data types!!!!!\n",
    "x"
   ]
  },
  {
   "cell_type": "code",
   "execution_count": 40,
   "id": "9729ded0",
   "metadata": {},
   "outputs": [
    {
     "data": {
      "text/plain": [
       "[[1, 2], ['apple', 'bannana']]"
      ]
     },
     "execution_count": 40,
     "metadata": {},
     "output_type": "execute_result"
    }
   ],
   "source": [
    "# list of lists\n",
    "[ [1, 2], [\"apple\", \"bannana\"] ]"
   ]
  },
  {
   "cell_type": "markdown",
   "id": "be1917f6",
   "metadata": {},
   "source": [
    "### Create a numerical list using `range()`"
   ]
  },
  {
   "cell_type": "code",
   "execution_count": 41,
   "id": "d494e58f",
   "metadata": {},
   "outputs": [
    {
     "data": {
      "text/plain": [
       "[0,\n",
       " 1,\n",
       " 2,\n",
       " 3,\n",
       " 4,\n",
       " 5,\n",
       " 6,\n",
       " 7,\n",
       " 8,\n",
       " 9,\n",
       " 10,\n",
       " 11,\n",
       " 12,\n",
       " 13,\n",
       " 14,\n",
       " 15,\n",
       " 16,\n",
       " 17,\n",
       " 18,\n",
       " 19,\n",
       " 20,\n",
       " 21,\n",
       " 22,\n",
       " 23,\n",
       " 24,\n",
       " 25,\n",
       " 26,\n",
       " 27,\n",
       " 28,\n",
       " 29,\n",
       " 30,\n",
       " 31,\n",
       " 32,\n",
       " 33,\n",
       " 34,\n",
       " 35,\n",
       " 36,\n",
       " 37,\n",
       " 38,\n",
       " 39,\n",
       " 40,\n",
       " 41,\n",
       " 42,\n",
       " 43,\n",
       " 44,\n",
       " 45,\n",
       " 46,\n",
       " 47,\n",
       " 48,\n",
       " 49,\n",
       " 50,\n",
       " 51,\n",
       " 52,\n",
       " 53,\n",
       " 54,\n",
       " 55,\n",
       " 56,\n",
       " 57,\n",
       " 58,\n",
       " 59,\n",
       " 60,\n",
       " 61,\n",
       " 62,\n",
       " 63,\n",
       " 64,\n",
       " 65,\n",
       " 66,\n",
       " 67,\n",
       " 68,\n",
       " 69,\n",
       " 70,\n",
       " 71,\n",
       " 72,\n",
       " 73,\n",
       " 74,\n",
       " 75,\n",
       " 76,\n",
       " 77,\n",
       " 78,\n",
       " 79,\n",
       " 80,\n",
       " 81,\n",
       " 82,\n",
       " 83,\n",
       " 84,\n",
       " 85,\n",
       " 86,\n",
       " 87,\n",
       " 88,\n",
       " 89,\n",
       " 90,\n",
       " 91,\n",
       " 92,\n",
       " 93,\n",
       " 94,\n",
       " 95,\n",
       " 96,\n",
       " 97,\n",
       " 98,\n",
       " 99]"
      ]
     },
     "execution_count": 41,
     "metadata": {},
     "output_type": "execute_result"
    }
   ],
   "source": [
    "# create a list from 0 ... 100\n",
    "s = list(range(0,100))\n",
    "s"
   ]
  },
  {
   "cell_type": "code",
   "execution_count": 42,
   "id": "95e0b5ca",
   "metadata": {},
   "outputs": [
    {
     "data": {
      "text/plain": [
       "100"
      ]
     },
     "execution_count": 42,
     "metadata": {},
     "output_type": "execute_result"
    }
   ],
   "source": [
    "# length of a list is the number of elements in a list\n",
    "len(s)"
   ]
  },
  {
   "cell_type": "code",
   "execution_count": 43,
   "id": "f6147024",
   "metadata": {},
   "outputs": [
    {
     "data": {
      "text/plain": [
       "2"
      ]
     },
     "execution_count": 43,
     "metadata": {},
     "output_type": "execute_result"
    }
   ],
   "source": [
    "y = [ [1, 2], [\"apple\", \"bannana\"] ] \n",
    "len(y)"
   ]
  },
  {
   "cell_type": "markdown",
   "id": "7410eab4",
   "metadata": {},
   "source": [
    "### Indexing elements in a list\n",
    "\n",
    "**Index positions start at 0, not 1.** From left to right, 0, 1, 2, .... From right to left, -1, -2, ..."
   ]
  },
  {
   "cell_type": "code",
   "execution_count": 44,
   "id": "39d264f4",
   "metadata": {},
   "outputs": [
    {
     "data": {
      "text/plain": [
       "([1, 2], ['apple', 'bannana'])"
      ]
     },
     "execution_count": 44,
     "metadata": {},
     "output_type": "execute_result"
    }
   ],
   "source": [
    "y = [ [1, 2], [\"apple\", \"bannana\"] ]\n",
    "y[0], y[1]"
   ]
  },
  {
   "cell_type": "markdown",
   "id": "034f3fb8",
   "metadata": {},
   "source": [
    "### Slicing a list\n",
    "Specify the index of the first and last elements you want to work with. Python stops one item before the second index you specify."
   ]
  },
  {
   "cell_type": "code",
   "execution_count": 45,
   "id": "c81c7010",
   "metadata": {},
   "outputs": [
    {
     "data": {
      "text/plain": [
       "[20,\n",
       " 21,\n",
       " 22,\n",
       " 23,\n",
       " 24,\n",
       " 25,\n",
       " 26,\n",
       " 27,\n",
       " 28,\n",
       " 29,\n",
       " 30,\n",
       " 31,\n",
       " 32,\n",
       " 33,\n",
       " 34,\n",
       " 35,\n",
       " 36,\n",
       " 37,\n",
       " 38,\n",
       " 39,\n",
       " 40,\n",
       " 41,\n",
       " 42,\n",
       " 43,\n",
       " 44,\n",
       " 45,\n",
       " 46,\n",
       " 47,\n",
       " 48,\n",
       " 49,\n",
       " 50,\n",
       " 51,\n",
       " 52,\n",
       " 53,\n",
       " 54,\n",
       " 55,\n",
       " 56,\n",
       " 57,\n",
       " 58,\n",
       " 59,\n",
       " 60]"
      ]
     },
     "execution_count": 45,
     "metadata": {},
     "output_type": "execute_result"
    }
   ],
   "source": [
    "s = list(range(1,100))\n",
    "s[19:60]"
   ]
  },
  {
   "cell_type": "markdown",
   "id": "6771fe18",
   "metadata": {},
   "source": [
    "### Changing elements in a list\n",
    "\n",
    "Use the name of the list followed by the index of the element you want to change, and then provide the new value you want that item to have."
   ]
  },
  {
   "cell_type": "code",
   "execution_count": 46,
   "id": "ab03aeb6",
   "metadata": {},
   "outputs": [
    {
     "data": {
      "text/plain": [
       "[1, 2.379, 'banana']"
      ]
     },
     "execution_count": 46,
     "metadata": {},
     "output_type": "execute_result"
    }
   ],
   "source": [
    "x = [1, 2.379, \"apple\"]\n",
    "x[2] = \"banana\"\n",
    "x"
   ]
  },
  {
   "cell_type": "markdown",
   "id": "44812fef",
   "metadata": {},
   "source": [
    "### Adding elements to a list\n",
    "1. `append()` elements to the end of a list\n",
    "2.  `insert()` a new element at a specified position. Need to specify the index and value of the new element. "
   ]
  },
  {
   "cell_type": "code",
   "execution_count": 47,
   "id": "f9ee8c69",
   "metadata": {},
   "outputs": [],
   "source": [
    "x.append(\"brat\")"
   ]
  },
  {
   "cell_type": "code",
   "execution_count": 48,
   "id": "3ad37ada",
   "metadata": {},
   "outputs": [
    {
     "data": {
      "text/plain": [
       "[1000, 1, 2.379, 'banana', 'brat']"
      ]
     },
     "execution_count": 48,
     "metadata": {},
     "output_type": "execute_result"
    }
   ],
   "source": [
    "x.insert(0, 1000)\n",
    "x"
   ]
  },
  {
   "cell_type": "code",
   "execution_count": 49,
   "id": "19c1fa7d",
   "metadata": {},
   "outputs": [
    {
     "data": {
      "text/plain": [
       "[1000, 1, 2.379, 'banana', 'apple', 'brat']"
      ]
     },
     "execution_count": 49,
     "metadata": {},
     "output_type": "execute_result"
    }
   ],
   "source": [
    "x.insert(4, \"apple\") # insert AT the 4th position\n",
    "x"
   ]
  },
  {
   "cell_type": "markdown",
   "id": "f2a1bbc0",
   "metadata": {},
   "source": [
    "### Removing elements from a list\n",
    " \n",
    "1. Use `del` to remove an element according to its position. \n",
    "2. Use `pop()` to remove an element in a list at a specified position, and it will return the poped element. If no index is provided, pop out the last element. \n",
    "3. Use `remove()` to remove an element by value. Note the `remove()` method deletes only the first occurrence of the value you specify."
   ]
  },
  {
   "cell_type": "code",
   "execution_count": 50,
   "id": "b6649a50",
   "metadata": {},
   "outputs": [
    {
     "data": {
      "text/plain": [
       "('brat', [1000, 1, 2.379, 'banana', 'apple'])"
      ]
     },
     "execution_count": 50,
     "metadata": {},
     "output_type": "execute_result"
    }
   ],
   "source": [
    "a = x.pop() # removes last value\n",
    "a, x"
   ]
  },
  {
   "cell_type": "code",
   "execution_count": 51,
   "id": "2af9e457",
   "metadata": {},
   "outputs": [
    {
     "data": {
      "text/plain": [
       "(1, [1000, 2.379, 'banana', 'apple'])"
      ]
     },
     "execution_count": 51,
     "metadata": {},
     "output_type": "execute_result"
    }
   ],
   "source": [
    "a = x.pop(1) # argument removes specific value\n",
    "a, x"
   ]
  },
  {
   "cell_type": "code",
   "execution_count": 68,
   "id": "3cd29541",
   "metadata": {},
   "outputs": [],
   "source": [
    "x = [\"apple\", \"banana\", \"orange\", \"peach\", \"apple\"]"
   ]
  },
  {
   "cell_type": "code",
   "execution_count": 69,
   "id": "f62e37d1",
   "metadata": {},
   "outputs": [
    {
     "data": {
      "text/plain": [
       "(None, ['banana', 'orange', 'peach', 'apple'])"
      ]
     },
     "execution_count": 69,
     "metadata": {},
     "output_type": "execute_result"
    }
   ],
   "source": [
    "a = x.remove(\"apple\") # only removes one\n",
    "a, x"
   ]
  },
  {
   "cell_type": "code",
   "execution_count": 70,
   "id": "78650e3f",
   "metadata": {},
   "outputs": [
    {
     "data": {
      "text/plain": [
       "['banana', 'orange', 'peach']"
      ]
     },
     "execution_count": 70,
     "metadata": {},
     "output_type": "execute_result"
    }
   ],
   "source": [
    "x = [\"apple\", \"banana\", \"orange\", \"peach\", \"apple\"]\n",
    "while \"apple\" in x:\n",
    "    x.remove(\"apple\")\n",
    "x"
   ]
  },
  {
   "cell_type": "markdown",
   "id": "9dffe662",
   "metadata": {},
   "source": [
    "### Joining multiple lists "
   ]
  },
  {
   "cell_type": "code",
   "execution_count": 72,
   "id": "f840d94f",
   "metadata": {},
   "outputs": [
    {
     "data": {
      "text/plain": [
       "[0, 1, 2, 3, 4, 10, 11, 12, 13, 14]"
      ]
     },
     "execution_count": 72,
     "metadata": {},
     "output_type": "execute_result"
    }
   ],
   "source": [
    "a = list(range(5))\n",
    "b = list(range(10,15))\n",
    "c = a+b\n",
    "c"
   ]
  },
  {
   "cell_type": "code",
   "execution_count": 73,
   "id": "deb4a366",
   "metadata": {},
   "outputs": [
    {
     "data": {
      "text/plain": [
       "[0, 1, 2, 3, 4, 10, 11, 12, 13, 14]"
      ]
     },
     "execution_count": 73,
     "metadata": {},
     "output_type": "execute_result"
    }
   ],
   "source": [
    "a.extend(b)\n",
    "a"
   ]
  },
  {
   "cell_type": "markdown",
   "id": "bb8d7108",
   "metadata": {},
   "source": [
    "### Ordering a list\n",
    "1. Use `sort()` to sort a list permanently\n",
    "2. Use `sorted()` to temporarily sort a list\n",
    "3. Reverse the list by `reverse()` or slicing"
   ]
  },
  {
   "cell_type": "code",
   "execution_count": 74,
   "id": "4a62ee42",
   "metadata": {},
   "outputs": [
    {
     "data": {
      "text/plain": [
       "[0, 1, 44, 67, 78]"
      ]
     },
     "execution_count": 74,
     "metadata": {},
     "output_type": "execute_result"
    }
   ],
   "source": [
    "x = [67, 78, 0, 1, 44]\n",
    "x.sort()\n",
    "x"
   ]
  },
  {
   "cell_type": "code",
   "execution_count": 75,
   "id": "8168c92f",
   "metadata": {},
   "outputs": [
    {
     "data": {
      "text/plain": [
       "[0, 1, 44, 67, 78]"
      ]
     },
     "execution_count": 75,
     "metadata": {},
     "output_type": "execute_result"
    }
   ],
   "source": [
    "x = [67, 78, 0, 1, 44]\n",
    "sorted(x)"
   ]
  },
  {
   "cell_type": "code",
   "execution_count": 76,
   "id": "7015d5b4",
   "metadata": {},
   "outputs": [
    {
     "data": {
      "text/plain": [
       "[67, 78, 0, 1, 44]"
      ]
     },
     "execution_count": 76,
     "metadata": {},
     "output_type": "execute_result"
    }
   ],
   "source": [
    "x"
   ]
  },
  {
   "cell_type": "code",
   "execution_count": 77,
   "id": "81e2908d",
   "metadata": {},
   "outputs": [
    {
     "data": {
      "text/plain": [
       "[78, 67, 44, 1, 0]"
      ]
     },
     "execution_count": 77,
     "metadata": {},
     "output_type": "execute_result"
    }
   ],
   "source": [
    "sorted(x, reverse=True)"
   ]
  },
  {
   "cell_type": "code",
   "execution_count": 78,
   "id": "a05ed980",
   "metadata": {},
   "outputs": [
    {
     "data": {
      "text/plain": [
       "[44, 1, 0, 78, 67]"
      ]
     },
     "execution_count": 78,
     "metadata": {},
     "output_type": "execute_result"
    }
   ],
   "source": [
    "x = [67, 78, 0, 1, 44]\n",
    "x.reverse() # sticky reverse\n",
    "x"
   ]
  },
  {
   "cell_type": "code",
   "execution_count": 79,
   "id": "cec8f334",
   "metadata": {},
   "outputs": [
    {
     "data": {
      "text/plain": [
       "[67, 78, 0, 1, 44]"
      ]
     },
     "execution_count": 79,
     "metadata": {},
     "output_type": "execute_result"
    }
   ],
   "source": [
    "x[::-1] # reverse it but not sticky"
   ]
  },
  {
   "cell_type": "code",
   "execution_count": 80,
   "id": "c7d45de5",
   "metadata": {},
   "outputs": [
    {
     "data": {
      "text/plain": [
       "[44, 1, 0]"
      ]
     },
     "execution_count": 80,
     "metadata": {},
     "output_type": "execute_result"
    }
   ],
   "source": [
    "x[:3]"
   ]
  },
  {
   "cell_type": "markdown",
   "id": "b7873471",
   "metadata": {},
   "source": [
    "## Tuple\n",
    "\n",
    "- A tuple is **immutable**. It can be viewed as immutable list. \n",
    "- `()` indicates a tuple and indidual elements in the tuple are separated by commas. \n",
    "- Elements in a tuple can be indexed, but tuple object does not support item assignment."
   ]
  },
  {
   "cell_type": "code",
   "execution_count": 84,
   "id": "a47b92bf",
   "metadata": {},
   "outputs": [
    {
     "data": {
      "text/plain": [
       "(1, 3.14, 'hello')"
      ]
     },
     "execution_count": 84,
     "metadata": {},
     "output_type": "execute_result"
    }
   ],
   "source": [
    "x = (1, 3.14, \"hello\")\n",
    "x"
   ]
  },
  {
   "cell_type": "code",
   "execution_count": 85,
   "id": "bff1f157",
   "metadata": {},
   "outputs": [
    {
     "data": {
      "text/plain": [
       "1"
      ]
     },
     "execution_count": 85,
     "metadata": {},
     "output_type": "execute_result"
    }
   ],
   "source": [
    "x[0]"
   ]
  },
  {
   "cell_type": "code",
   "execution_count": 86,
   "id": "0e3fc7b2",
   "metadata": {},
   "outputs": [
    {
     "ename": "TypeError",
     "evalue": "'tuple' object does not support item assignment",
     "output_type": "error",
     "traceback": [
      "\u001b[0;31m---------------------------------------------------------------------------\u001b[0m",
      "\u001b[0;31mTypeError\u001b[0m                                 Traceback (most recent call last)",
      "Cell \u001b[0;32mIn[86], line 1\u001b[0m\n\u001b[0;32m----> 1\u001b[0m \u001b[43mx\u001b[49m\u001b[43m[\u001b[49m\u001b[38;5;241;43m0\u001b[39;49m\u001b[43m]\u001b[49m \u001b[38;5;241m=\u001b[39m \u001b[38;5;241m100\u001b[39m\n",
      "\u001b[0;31mTypeError\u001b[0m: 'tuple' object does not support item assignment"
     ]
    }
   ],
   "source": [
    "x[0] = 100"
   ]
  },
  {
   "cell_type": "markdown",
   "id": "c072f129",
   "metadata": {},
   "source": [
    "## Set\n",
    "\n",
    "- A set is an **unordered** collection with **no duplicate** elements. \n",
    "- Basic uses include membership testing and eliminating duplicate entries.\n",
    "- Set objects also support mathematical operations like union, intersection, difference, and symmetric difference.\n",
    "- Use `set()` or `{}` to create a set. Note: to create an empty set you have to use `set()`, not `{}`; the latter creates an empty dictionary. "
   ]
  },
  {
   "cell_type": "code",
   "execution_count": 87,
   "id": "50227114",
   "metadata": {},
   "outputs": [
    {
     "data": {
      "text/plain": [
       "{0, 1, 2, 3, 4, 5, 6, 7, 8, 9}"
      ]
     },
     "execution_count": 87,
     "metadata": {},
     "output_type": "execute_result"
    }
   ],
   "source": [
    "x = set()\n",
    "for i in range(10):\n",
    "    x.add(i)\n",
    "x"
   ]
  },
  {
   "cell_type": "code",
   "execution_count": 88,
   "id": "95fc6107",
   "metadata": {},
   "outputs": [
    {
     "data": {
      "text/plain": [
       "{1, 2, 3, 4}"
      ]
     },
     "execution_count": 88,
     "metadata": {},
     "output_type": "execute_result"
    }
   ],
   "source": [
    "x = set([1,1,2,2,3,3,4]) # may be time consuming if list is long\n",
    "x"
   ]
  },
  {
   "cell_type": "code",
   "execution_count": 97,
   "id": "2f6cf5e1",
   "metadata": {},
   "outputs": [],
   "source": [
    "y = {2,3,8}"
   ]
  },
  {
   "cell_type": "code",
   "execution_count": 98,
   "id": "33970515",
   "metadata": {},
   "outputs": [
    {
     "data": {
      "text/plain": [
       "{1, 4}"
      ]
     },
     "execution_count": 98,
     "metadata": {},
     "output_type": "execute_result"
    }
   ],
   "source": [
    "# Set operation\n",
    "x - y # removes contents of y from x"
   ]
  },
  {
   "cell_type": "code",
   "execution_count": 99,
   "id": "b799889a",
   "metadata": {},
   "outputs": [
    {
     "data": {
      "text/plain": [
       "{2, 3}"
      ]
     },
     "execution_count": 99,
     "metadata": {},
     "output_type": "execute_result"
    }
   ],
   "source": [
    "x & y # returns common contents of x & y"
   ]
  },
  {
   "cell_type": "code",
   "execution_count": 100,
   "id": "044834fd",
   "metadata": {},
   "outputs": [
    {
     "data": {
      "text/plain": [
       "{1, 2, 3, 4}"
      ]
     },
     "execution_count": 100,
     "metadata": {},
     "output_type": "execute_result"
    }
   ],
   "source": [
    "x or y"
   ]
  },
  {
   "cell_type": "code",
   "execution_count": null,
   "id": "1377b4a9",
   "metadata": {},
   "outputs": [],
   "source": []
  },
  {
   "cell_type": "markdown",
   "id": "2c56cdba",
   "metadata": {},
   "source": [
    "## Dictionary\n",
    "\n",
    "- A dictionary is a collection of **key-value** pairs. \n",
    "- Use a key to access the value associated with that key. \n",
    "- Keys in a dictionary should be unique. "
   ]
  },
  {
   "cell_type": "markdown",
   "id": "03883020",
   "metadata": {},
   "source": [
    "### Creating, indexing, modifying, adding, and removing"
   ]
  },
  {
   "cell_type": "code",
   "execution_count": null,
   "id": "5e253579",
   "metadata": {},
   "outputs": [],
   "source": [
    "x = {\"name\": \"Pikachu\", \"Type\": \"Electric\", \"height\": 40, \"weight\": 6}\n",
    "x"
   ]
  },
  {
   "cell_type": "code",
   "execution_count": 1,
   "id": "d6ae56ce",
   "metadata": {},
   "outputs": [
    {
     "data": {
      "text/plain": [
       "{'name': 'Pikachu', 'type': 'Electric', 'height': 40, 'weight': 6}"
      ]
     },
     "execution_count": 1,
     "metadata": {},
     "output_type": "execute_result"
    }
   ],
   "source": [
    "# create from keys\n",
    "x = {}\n",
    "x['name'] = \"Pikachu\"\n",
    "x['type'] = \"Electric\"\n",
    "x['height'] = 40\n",
    "x['weight'] = 6\n",
    "x"
   ]
  },
  {
   "cell_type": "code",
   "execution_count": 2,
   "id": "8df3996b",
   "metadata": {},
   "outputs": [
    {
     "data": {
      "text/plain": [
       "dict_keys(['name', 'type', 'height', 'weight'])"
      ]
     },
     "execution_count": 2,
     "metadata": {},
     "output_type": "execute_result"
    }
   ],
   "source": [
    "x.keys()"
   ]
  },
  {
   "cell_type": "code",
   "execution_count": 3,
   "id": "4c21545e",
   "metadata": {},
   "outputs": [
    {
     "data": {
      "text/plain": [
       "dict_values(['Pikachu', 'Electric', 40, 6])"
      ]
     },
     "execution_count": 3,
     "metadata": {},
     "output_type": "execute_result"
    }
   ],
   "source": [
    "x.values()"
   ]
  },
  {
   "cell_type": "code",
   "execution_count": 4,
   "id": "3d962bdb",
   "metadata": {},
   "outputs": [
    {
     "data": {
      "text/plain": [
       "'Pikachu'"
      ]
     },
     "execution_count": 4,
     "metadata": {},
     "output_type": "execute_result"
    }
   ],
   "source": [
    "x[\"name\"]"
   ]
  },
  {
   "cell_type": "code",
   "execution_count": 5,
   "id": "edec436a",
   "metadata": {},
   "outputs": [
    {
     "data": {
      "text/plain": [
       "{'name': 'Pikachu', 'type': 'Electric', 'height': 40, 'weight': 10}"
      ]
     },
     "execution_count": 5,
     "metadata": {},
     "output_type": "execute_result"
    }
   ],
   "source": [
    "x[\"weight\"] = 10\n",
    "x"
   ]
  },
  {
   "cell_type": "code",
   "execution_count": 6,
   "id": "f766e799",
   "metadata": {},
   "outputs": [],
   "source": [
    "x[\"attack\"] = [\"thunderbolt\", \"quick attack\", \"iron tail\"]"
   ]
  },
  {
   "cell_type": "code",
   "execution_count": 7,
   "id": "8e0a97b3",
   "metadata": {},
   "outputs": [
    {
     "data": {
      "text/plain": [
       "{'name': 'Pikachu'}"
      ]
     },
     "execution_count": 7,
     "metadata": {},
     "output_type": "execute_result"
    }
   ],
   "source": [
    "x = {}\n",
    "x[\"name\"] = \"Pikachu\"\n",
    "x"
   ]
  },
  {
   "cell_type": "code",
   "execution_count": 8,
   "id": "01795ea8",
   "metadata": {},
   "outputs": [
    {
     "data": {
      "text/plain": [
       "{'name': 'Pikachu', 'type': 'electric'}"
      ]
     },
     "execution_count": 8,
     "metadata": {},
     "output_type": "execute_result"
    }
   ],
   "source": [
    "x[\"type\"] = \"electric\"\n",
    "x"
   ]
  },
  {
   "cell_type": "code",
   "execution_count": 9,
   "id": "41094dc2",
   "metadata": {},
   "outputs": [
    {
     "data": {
      "text/plain": [
       "{'name': 'Pikachu'}"
      ]
     },
     "execution_count": 9,
     "metadata": {},
     "output_type": "execute_result"
    }
   ],
   "source": [
    "del x[\"type\"]\n",
    "x"
   ]
  },
  {
   "cell_type": "code",
   "execution_count": 12,
   "id": "054a1904",
   "metadata": {},
   "outputs": [
    {
     "data": {
      "text/plain": [
       "{'Pikachu': {'type': 'electric', 'height': 0.4, 'weight': 6}}"
      ]
     },
     "execution_count": 12,
     "metadata": {},
     "output_type": "execute_result"
    }
   ],
   "source": [
    "# nested dictionary\n",
    "pokemon_collection = {} # empty dictionary\n",
    "pokemon_collection[\"Pikachu\"] = {\"type\": \"electric\", \"height\": 0.4, \"weight\": 6} # add pikachu to empty dictionary\n",
    "pokemon_collection"
   ]
  },
  {
   "cell_type": "code",
   "execution_count": 13,
   "id": "cb94466b",
   "metadata": {},
   "outputs": [
    {
     "data": {
      "text/plain": [
       "{'Pikachu': {'type': 'electric', 'height': 0.4, 'weight': 6},\n",
       " 'Eevee': {'type': 'normal', 'height': 0.3, 'weight': 6.5}}"
      ]
     },
     "execution_count": 13,
     "metadata": {},
     "output_type": "execute_result"
    }
   ],
   "source": [
    "pokemon_collection[\"Eevee\"] = {\"type\": \"normal\", \"height\": 0.3, \"weight\": 6.5}\n",
    "pokemon_collection"
   ]
  },
  {
   "cell_type": "code",
   "execution_count": null,
   "id": "c82d2c23",
   "metadata": {},
   "outputs": [],
   "source": []
  },
  {
   "cell_type": "markdown",
   "id": "df80ee37",
   "metadata": {},
   "source": [
    "### Using `get()` to Access Values"
   ]
  },
  {
   "cell_type": "code",
   "execution_count": 14,
   "id": "f18a3e99",
   "metadata": {},
   "outputs": [
    {
     "ename": "KeyError",
     "evalue": "'Bulbasaur'",
     "output_type": "error",
     "traceback": [
      "\u001b[0;31m---------------------------------------------------------------------------\u001b[0m",
      "\u001b[0;31mKeyError\u001b[0m                                  Traceback (most recent call last)",
      "Cell \u001b[0;32mIn[14], line 1\u001b[0m\n\u001b[0;32m----> 1\u001b[0m \u001b[43mpokemon_collection\u001b[49m\u001b[43m[\u001b[49m\u001b[38;5;124;43m\"\u001b[39;49m\u001b[38;5;124;43mBulbasaur\u001b[39;49m\u001b[38;5;124;43m\"\u001b[39;49m\u001b[43m]\u001b[49m\n",
      "\u001b[0;31mKeyError\u001b[0m: 'Bulbasaur'"
     ]
    }
   ],
   "source": [
    "pokemon_collection[\"Bulbasaur\"] # returns KeyError"
   ]
  },
  {
   "cell_type": "code",
   "execution_count": 15,
   "id": "9f8a7b52",
   "metadata": {},
   "outputs": [],
   "source": [
    "pokemon_collection.get(\"Bulbasaur\") # returns nothing"
   ]
  },
  {
   "cell_type": "code",
   "execution_count": 16,
   "id": "59b8e299",
   "metadata": {},
   "outputs": [
    {
     "data": {
      "text/plain": [
       "{'type': 'electric', 'height': 0.4, 'weight': 6}"
      ]
     },
     "execution_count": 16,
     "metadata": {},
     "output_type": "execute_result"
    }
   ],
   "source": [
    "pokemon_collection.get(\"Pikachu\")"
   ]
  },
  {
   "cell_type": "code",
   "execution_count": 17,
   "id": "a3bc6ea3",
   "metadata": {},
   "outputs": [
    {
     "data": {
      "text/plain": [
       "{'type': 'electric', 'height': 0.4, 'weight': 6}"
      ]
     },
     "execution_count": 17,
     "metadata": {},
     "output_type": "execute_result"
    }
   ],
   "source": [
    "pokemon_collection[\"Pikachu\"]"
   ]
  },
  {
   "cell_type": "markdown",
   "id": "7cd856f3",
   "metadata": {},
   "source": [
    "# Control Flow"
   ]
  },
  {
   "cell_type": "markdown",
   "id": "42b168b7",
   "metadata": {},
   "source": [
    "- `if`, `if-else`, `if-elif-else`\n",
    "- `for` loop, `while` loop\n",
    "- `break` and `continue`\n",
    "- `pass`\n",
    "- More on iterations: list comprehension\n",
    "\n",
    "\n",
    "Useful reference: https://docs.python.org/3/tutorial/controlflow.html 4.1-4.5"
   ]
  },
  {
   "cell_type": "markdown",
   "id": "fc615499",
   "metadata": {},
   "source": [
    "### if statements\n",
    "\n",
    "`if` statement evaluates whether a **conditional test** is `True` or `False`.  \n",
    "If a conditional test evaluates to True, Python executes the code following the if statement. \n",
    "If the test evaluates to False, Python ignores the code following the if statement. "
   ]
  },
  {
   "cell_type": "code",
   "execution_count": 19,
   "id": "404b8860",
   "metadata": {},
   "outputs": [
    {
     "name": "stdout",
     "output_type": "stream",
     "text": [
      ":3\n"
     ]
    }
   ],
   "source": [
    "if 1+1 == 2:\n",
    "    print(\":3\")"
   ]
  },
  {
   "cell_type": "code",
   "execution_count": 20,
   "id": "b6ddeb03",
   "metadata": {},
   "outputs": [
    {
     "name": "stdout",
     "output_type": "stream",
     "text": [
      "positive value or zero\n"
     ]
    }
   ],
   "source": [
    "x = 1\n",
    "if x < 0 :\n",
    "    print(\"negative value\")\n",
    "else:\n",
    "    print(\"positive value or zero\")"
   ]
  },
  {
   "cell_type": "code",
   "execution_count": 21,
   "id": "ecf11e74",
   "metadata": {},
   "outputs": [
    {
     "name": "stdout",
     "output_type": "stream",
     "text": [
      "positive value\n"
     ]
    }
   ],
   "source": [
    "x = 1\n",
    "if x < 0 :\n",
    "    print(\"negative value\")\n",
    "elif x == 0:\n",
    "    print(\"zero\")\n",
    "else:\n",
    "    print(\"positive value\")"
   ]
  },
  {
   "cell_type": "code",
   "execution_count": 25,
   "id": "84688076",
   "metadata": {},
   "outputs": [
    {
     "name": "stdout",
     "output_type": "stream",
     "text": [
      "B\n"
     ]
    }
   ],
   "source": [
    "# multiple elif\n",
    "x = 85\n",
    "if x >= 90:\n",
    "    print(\"A\")\n",
    "elif x >= 80:\n",
    "    print(\"B\")\n",
    "elif x >= 70:\n",
    "    print(\"C\")\n",
    "else:\n",
    "    print(\"F\")"
   ]
  },
  {
   "cell_type": "code",
   "execution_count": 24,
   "id": "54a85604",
   "metadata": {},
   "outputs": [
    {
     "name": "stdout",
     "output_type": "stream",
     "text": [
      "C\n"
     ]
    }
   ],
   "source": [
    "if x >= 90:\n",
    "    print(\"A\")\n",
    "elif x >= 70: # changed order\n",
    "    print(\"C\")\n",
    "elif x >= 80:\n",
    "    print(\"B\")\n",
    "else:\n",
    "    print(\"F\")"
   ]
  },
  {
   "cell_type": "code",
   "execution_count": null,
   "id": "f6909811",
   "metadata": {},
   "outputs": [],
   "source": []
  },
  {
   "cell_type": "code",
   "execution_count": 26,
   "id": "5ffede8c",
   "metadata": {},
   "outputs": [],
   "source": [
    "fruits = [\"apple\", \"banana\", \"orange\", \"cherry\", \"blueberry\"]"
   ]
  },
  {
   "cell_type": "code",
   "execution_count": 27,
   "id": "7523a854",
   "metadata": {},
   "outputs": [
    {
     "name": "stdout",
     "output_type": "stream",
     "text": [
      "available\n"
     ]
    }
   ],
   "source": [
    "x = \"apple\"\n",
    "if x in fruits:\n",
    "    print(\"available\")\n",
    "else:\n",
    "    print(\"not available\")"
   ]
  },
  {
   "cell_type": "code",
   "execution_count": null,
   "id": "7fe7baa5",
   "metadata": {},
   "outputs": [],
   "source": []
  },
  {
   "cell_type": "code",
   "execution_count": 29,
   "id": "e96c2795",
   "metadata": {},
   "outputs": [
    {
     "name": "stdout",
     "output_type": "stream",
     "text": [
      ":-|\n"
     ]
    }
   ],
   "source": [
    "# multiple conditions\n",
    "x, y = \"apple\", \"pineapple\"\n",
    "if x in fruits and y in fruits:\n",
    "    print(\":)\")\n",
    "elif (x in fruits and y not in fruits) or (x not in fruits and y in fruits):\n",
    "    print(\":-|\")\n",
    "else:\n",
    "    print(\":( go shopping\")"
   ]
  },
  {
   "cell_type": "code",
   "execution_count": 30,
   "id": "5dffee22",
   "metadata": {},
   "outputs": [
    {
     "name": "stdout",
     "output_type": "stream",
     "text": [
      ":-|\n"
     ]
    }
   ],
   "source": [
    "# multiple conditions (optimized)\n",
    "x, y = \"apple\", \"pineapple\"\n",
    "if x in fruits and y in fruits:\n",
    "    print(\":)\")\n",
    "elif (x in fruits) or (y in fruits):\n",
    "    print(\":-|\")\n",
    "else:\n",
    "    print(\":( go shopping\")"
   ]
  },
  {
   "cell_type": "markdown",
   "id": "c2c289ca",
   "metadata": {},
   "source": [
    "### for loop\n",
    "\n",
    "A `for` loop is used for iterating over a sequence (that is either a list, a tuple, a dictionary, a set, or a string)."
   ]
  },
  {
   "cell_type": "code",
   "execution_count": 31,
   "id": "6ce28138",
   "metadata": {},
   "outputs": [
    {
     "name": "stdout",
     "output_type": "stream",
     "text": [
      "apple\n",
      "banana\n",
      "orange\n",
      "cherry\n",
      "blueberry\n"
     ]
    }
   ],
   "source": [
    "fruits = [\"apple\", \"banana\", \"orange\", \"cherry\", \"blueberry\"]\n",
    "for x in fruits:\n",
    "    print(x)"
   ]
  },
  {
   "cell_type": "code",
   "execution_count": 32,
   "id": "ca27e7be",
   "metadata": {},
   "outputs": [
    {
     "name": "stdout",
     "output_type": "stream",
     "text": [
      "0\n",
      "1\n",
      "2\n",
      "3\n",
      "4\n"
     ]
    }
   ],
   "source": [
    "for i in [0,1,2,3,4]:\n",
    "    print(i)"
   ]
  },
  {
   "cell_type": "code",
   "execution_count": 34,
   "id": "4279c020",
   "metadata": {},
   "outputs": [
    {
     "name": "stdout",
     "output_type": "stream",
     "text": [
      "0\n",
      "1\n",
      "2\n",
      "3\n",
      "4\n",
      "5\n",
      "6\n",
      "7\n",
      "8\n",
      "9\n"
     ]
    }
   ],
   "source": [
    "for i in list(range(10)):\n",
    "    print(i)"
   ]
  },
  {
   "cell_type": "code",
   "execution_count": 35,
   "id": "0178c2b4",
   "metadata": {},
   "outputs": [
    {
     "data": {
      "text/plain": [
       "10"
      ]
     },
     "execution_count": 35,
     "metadata": {},
     "output_type": "execute_result"
    }
   ],
   "source": [
    "count = 0\n",
    "for i in range(10):\n",
    "    count += 1\n",
    "count"
   ]
  },
  {
   "cell_type": "code",
   "execution_count": null,
   "id": "f59d8043",
   "metadata": {},
   "outputs": [],
   "source": [
    "total = 0\n",
    "for i in range(10):\n",
    "    total += i\n",
    "total"
   ]
  },
  {
   "cell_type": "code",
   "execution_count": 39,
   "id": "74cee467",
   "metadata": {},
   "outputs": [
    {
     "data": {
      "text/plain": [
       "4.5"
      ]
     },
     "execution_count": 39,
     "metadata": {},
     "output_type": "execute_result"
    }
   ],
   "source": [
    "count = 0\n",
    "total = 0\n",
    "for i in range(10):\n",
    "    count += 1\n",
    "    total += i\n",
    "avg = total/count\n",
    "avg"
   ]
  },
  {
   "cell_type": "markdown",
   "id": "43d83d11",
   "metadata": {},
   "source": [
    "$$\\frac{\\sum_{i=0}^{9}i}{9}$$"
   ]
  },
  {
   "cell_type": "code",
   "execution_count": null,
   "id": "2c38da12",
   "metadata": {},
   "outputs": [],
   "source": []
  },
  {
   "cell_type": "code",
   "execution_count": 36,
   "id": "0050c927",
   "metadata": {},
   "outputs": [
    {
     "name": "stdout",
     "output_type": "stream",
     "text": [
      "0 10\n",
      "1 11\n",
      "2 12\n",
      "3 13\n",
      "4 14\n",
      "5 15\n",
      "6 16\n",
      "7 17\n",
      "8 18\n",
      "9 19\n"
     ]
    }
   ],
   "source": [
    "for i, j in enumerate(range(10,20)):\n",
    "    print(i,j)"
   ]
  },
  {
   "cell_type": "code",
   "execution_count": 40,
   "id": "b111f3fb",
   "metadata": {},
   "outputs": [
    {
     "name": "stdout",
     "output_type": "stream",
     "text": [
      "0 1\n",
      "1 4\n",
      "2 9\n",
      "3 16\n"
     ]
    }
   ],
   "source": [
    "for i, j in enumerate(range(1,5)):\n",
    "    print(i, j**2)"
   ]
  },
  {
   "cell_type": "code",
   "execution_count": null,
   "id": "7567779d",
   "metadata": {},
   "outputs": [],
   "source": []
  },
  {
   "cell_type": "code",
   "execution_count": 38,
   "id": "c781887a",
   "metadata": {},
   "outputs": [
    {
     "name": "stdout",
     "output_type": "stream",
     "text": [
      "1\n",
      "4\n",
      "3\n",
      "16\n",
      "5\n",
      "36\n",
      "7\n",
      "64\n",
      "9\n"
     ]
    }
   ],
   "source": [
    "for i in range(1, 10):\n",
    "    if i % 2 == 0: # is i even?\n",
    "        print(i**2)\n",
    "    else:\n",
    "        print(i)"
   ]
  },
  {
   "cell_type": "code",
   "execution_count": null,
   "id": "a48154e6",
   "metadata": {},
   "outputs": [],
   "source": []
  },
  {
   "cell_type": "code",
   "execution_count": 44,
   "id": "4103ce91",
   "metadata": {},
   "outputs": [
    {
     "name": "stdout",
     "output_type": "stream",
     "text": [
      "name\n",
      "Pikachu\n",
      "Type\n",
      "Electric\n",
      "height\n",
      "40\n",
      "weight\n",
      "6\n"
     ]
    }
   ],
   "source": [
    "x = {\"name\": \"Pikachu\", \"Type\": \"Electric\", \"height\": 40, \"weight\": 6}\n",
    "for k, v in x.items(): # assumes you're talking about keys and values\n",
    "    print(k)\n",
    "    print(v)"
   ]
  },
  {
   "cell_type": "code",
   "execution_count": null,
   "id": "b9be1b32",
   "metadata": {},
   "outputs": [],
   "source": []
  },
  {
   "cell_type": "markdown",
   "id": "a85f3399",
   "metadata": {},
   "source": [
    "### While loop\n",
    "\n",
    "`while` loop requires a condition. We can execute a set of statements as long as the condition is true."
   ]
  },
  {
   "cell_type": "code",
   "execution_count": 45,
   "id": "80de5f6d",
   "metadata": {},
   "outputs": [
    {
     "name": "stdout",
     "output_type": "stream",
     "text": [
      "1\n",
      "2\n",
      "3\n",
      "4\n",
      "5\n"
     ]
    }
   ],
   "source": [
    "i = 1\n",
    "while i < 6:\n",
    "    print(i)\n",
    "    i += 1"
   ]
  },
  {
   "cell_type": "code",
   "execution_count": 48,
   "id": "d6665a01",
   "metadata": {},
   "outputs": [
    {
     "ename": "SyntaxError",
     "evalue": "incomplete input (3921199960.py, line 4)",
     "output_type": "error",
     "traceback": [
      "\u001b[0;36m  Cell \u001b[0;32mIn[48], line 4\u001b[0;36m\u001b[0m\n\u001b[0;31m    # print(i)\u001b[0m\n\u001b[0m              ^\u001b[0m\n\u001b[0;31mSyntaxError\u001b[0m\u001b[0;31m:\u001b[0m incomplete input\n"
     ]
    }
   ],
   "source": [
    "# be careful to avoid infinite loop\n",
    "i = 1\n",
    "while i < 6:\n",
    "    # print(i) <- commented out so it doesn't create an infinite loop"
   ]
  },
  {
   "cell_type": "code",
   "execution_count": null,
   "id": "308c0ca2",
   "metadata": {},
   "outputs": [],
   "source": []
  },
  {
   "cell_type": "code",
   "execution_count": 51,
   "id": "33128408",
   "metadata": {},
   "outputs": [
    {
     "data": {
      "text/plain": [
       "6"
      ]
     },
     "execution_count": 51,
     "metadata": {},
     "output_type": "execute_result"
    }
   ],
   "source": [
    "# Using a flag\n",
    "end = False\n",
    "i = 1\n",
    "\n",
    "while not end:\n",
    "    i += 1\n",
    "    end = i > 5 # bool statement changes value of end\n",
    "i"
   ]
  },
  {
   "cell_type": "code",
   "execution_count": null,
   "id": "7b234c5b",
   "metadata": {},
   "outputs": [],
   "source": []
  },
  {
   "cell_type": "code",
   "execution_count": 54,
   "id": "bb5242dc",
   "metadata": {},
   "outputs": [
    {
     "data": {
      "text/plain": [
       "729"
      ]
     },
     "execution_count": 54,
     "metadata": {},
     "output_type": "execute_result"
    }
   ],
   "source": [
    "# find a largest power of 3 <= 1000\n",
    "x = 1\n",
    "while 3*x <= 1000:\n",
    "    x = 3*x\n",
    "x"
   ]
  },
  {
   "cell_type": "code",
   "execution_count": 55,
   "id": "61a4d107",
   "metadata": {},
   "outputs": [
    {
     "data": {
      "text/plain": [
       "(729, 6)"
      ]
     },
     "execution_count": 55,
     "metadata": {},
     "output_type": "execute_result"
    }
   ],
   "source": [
    "x = 1\n",
    "itr = 0\n",
    "while 3*x <= 1000:\n",
    "    x = 3*x\n",
    "    itr += 1\n",
    "x, itr # -> learn that it's the power of 6 by counting iterations"
   ]
  },
  {
   "cell_type": "code",
   "execution_count": null,
   "id": "c0ea7b4d",
   "metadata": {},
   "outputs": [],
   "source": []
  },
  {
   "cell_type": "markdown",
   "id": "e49886b2",
   "metadata": {},
   "source": [
    "### Break, continue, pass\n",
    "- Use `break` statement to exit a `for` loop or `while` loop immediately without running any remaining code in the loop. \n",
    "- Use `continue` statement to stop the current iteration, and continue with the next. \n",
    "- `pass` statement does nothing. It can be used when a statement is required syntactically but the program requires no action."
   ]
  },
  {
   "cell_type": "code",
   "execution_count": 57,
   "id": "5ab09b80",
   "metadata": {},
   "outputs": [
    {
     "name": "stdout",
     "output_type": "stream",
     "text": [
      "1\n"
     ]
    }
   ],
   "source": [
    "for i in range(1, 10):\n",
    "    if i % 2 == 0:\n",
    "        break\n",
    "    print(i)"
   ]
  },
  {
   "cell_type": "code",
   "execution_count": 58,
   "id": "6ba4cbe8",
   "metadata": {},
   "outputs": [
    {
     "name": "stdout",
     "output_type": "stream",
     "text": [
      "1\n",
      "3\n",
      "5\n",
      "7\n",
      "9\n"
     ]
    }
   ],
   "source": [
    "for i in range(1, 10):\n",
    "    if i % 2 == 0:\n",
    "        continue\n",
    "    print(i)"
   ]
  },
  {
   "cell_type": "code",
   "execution_count": 61,
   "id": "66802add",
   "metadata": {},
   "outputs": [
    {
     "name": "stdout",
     "output_type": "stream",
     "text": [
      "1\n",
      "pass\n",
      "2\n",
      "3\n",
      "pass\n",
      "4\n",
      "5\n",
      "pass\n",
      "6\n",
      "7\n",
      "pass\n",
      "8\n",
      "9\n"
     ]
    }
   ],
   "source": [
    "for i in range(1, 10):\n",
    "    if i % 2 == 0:\n",
    "        print(\"pass\")\n",
    "        pass\n",
    "    print(i)"
   ]
  },
  {
   "cell_type": "code",
   "execution_count": 62,
   "id": "cb5bd40d",
   "metadata": {},
   "outputs": [
    {
     "name": "stdout",
     "output_type": "stream",
     "text": [
      "1\n"
     ]
    }
   ],
   "source": [
    "i = 0\n",
    "while i < 10:\n",
    "    i += 1\n",
    "    if i % 2 == 0:\n",
    "        break\n",
    "    print(i)"
   ]
  },
  {
   "cell_type": "code",
   "execution_count": 63,
   "id": "401c8190",
   "metadata": {},
   "outputs": [
    {
     "name": "stdout",
     "output_type": "stream",
     "text": [
      "1\n",
      "3\n",
      "5\n",
      "7\n",
      "9\n"
     ]
    }
   ],
   "source": [
    "i = 0\n",
    "while i < 10:\n",
    "    i += 1\n",
    "    if i % 2 == 0:\n",
    "        continue\n",
    "    print(i)"
   ]
  },
  {
   "cell_type": "code",
   "execution_count": null,
   "id": "00c6dda0",
   "metadata": {},
   "outputs": [],
   "source": []
  },
  {
   "cell_type": "markdown",
   "id": "00a52816",
   "metadata": {},
   "source": [
    "### List comprehension\n",
    "\n",
    "A list comprehension combines the for loop and the creation of new elements into one line, and automatically appends each new element. "
   ]
  },
  {
   "cell_type": "code",
   "execution_count": 64,
   "id": "500ec33a",
   "metadata": {},
   "outputs": [
    {
     "data": {
      "text/plain": [
       "[1, 4, 9, 16, 25, 36, 49, 64, 81, 100]"
      ]
     },
     "execution_count": 64,
     "metadata": {},
     "output_type": "execute_result"
    }
   ],
   "source": [
    "squares = [x**2 for x in range(1,11)]\n",
    "squares"
   ]
  },
  {
   "cell_type": "code",
   "execution_count": 65,
   "id": "7f8932ad",
   "metadata": {},
   "outputs": [
    {
     "data": {
      "text/plain": [
       "[1, 9, 25, 49, 81]"
      ]
     },
     "execution_count": 65,
     "metadata": {},
     "output_type": "execute_result"
    }
   ],
   "source": [
    "[x**2 for x in range(1,11) if x % 2 != 0 ]"
   ]
  },
  {
   "cell_type": "code",
   "execution_count": 66,
   "id": "d3e93bcc",
   "metadata": {},
   "outputs": [
    {
     "data": {
      "text/plain": [
       "[1, 1, 9, 1, 25, 1, 49, 1, 81, 1]"
      ]
     },
     "execution_count": 66,
     "metadata": {},
     "output_type": "execute_result"
    }
   ],
   "source": [
    "[x**2 if x % 2 != 0 else 1 for x in range(1,11)]"
   ]
  },
  {
   "cell_type": "code",
   "execution_count": 67,
   "id": "d680fab0",
   "metadata": {},
   "outputs": [
    {
     "data": {
      "text/plain": [
       "{0: 5, 1: 4, 2: 3, 3: 2, 4: 1}"
      ]
     },
     "execution_count": 67,
     "metadata": {},
     "output_type": "execute_result"
    }
   ],
   "source": [
    "{k:v for k, v in enumerate(range(5,0,-1))}"
   ]
  },
  {
   "cell_type": "code",
   "execution_count": 80,
   "id": "8684c120",
   "metadata": {},
   "outputs": [
    {
     "data": {
      "text/plain": [
       "{0: 'a', 1: 'b', 2: 'c', 3: 'd'}"
      ]
     },
     "execution_count": 80,
     "metadata": {},
     "output_type": "execute_result"
    }
   ],
   "source": [
    "{k:v for k, v in enumerate(\"abcd\")}"
   ]
  },
  {
   "cell_type": "code",
   "execution_count": 82,
   "id": "92d4797b",
   "metadata": {},
   "outputs": [],
   "source": [
    "x = [\"apple\", \"banana\", \"orange\", \"peach\", \"apple\"]"
   ]
  },
  {
   "cell_type": "code",
   "execution_count": 83,
   "id": "724c8f23",
   "metadata": {},
   "outputs": [
    {
     "data": {
      "text/plain": [
       "['banana', 'orange', 'peach']"
      ]
     },
     "execution_count": 83,
     "metadata": {},
     "output_type": "execute_result"
    }
   ],
   "source": [
    "[i for i in x if i != \"apple\"]"
   ]
  },
  {
   "cell_type": "markdown",
   "id": "fd7def7e",
   "metadata": {},
   "source": [
    "# exercise\n",
    "2. Write a program that prints the numbers from 1 to 100. But for multiples of three print “Fizz” instead of the number and for the multiples of five print “Buzz”. For numbers which are multiples of both three and five print “FizzBuzz”.\n",
    "3. Write a program to print all the numbers between 1000 and 2000 which are divisible by 7 but are not a multiple of 5.\n",
    "4. Write a program to calculate factorial of a number.\n",
    "5. Fibonacci Sequence. Write a program that asks the user for a positive integer n and prints the first n numbers of the Fibonacci sequence.\n",
    "6. List Processing. Write a program that takes a list of numbers and prints the largest and smallest numbers in the list.\n"
   ]
  },
  {
   "cell_type": "code",
   "execution_count": 87,
   "id": "bfb74b99",
   "metadata": {},
   "outputs": [
    {
     "name": "stdout",
     "output_type": "stream",
     "text": [
      "1\n",
      "2\n",
      "Fizz\n",
      "4\n",
      "Buzz\n",
      "Fizz\n",
      "7\n",
      "8\n",
      "Fizz\n",
      "Buzz\n",
      "11\n",
      "Fizz\n",
      "13\n",
      "14\n",
      "FizzBuzz\n",
      "16\n",
      "17\n",
      "Fizz\n",
      "19\n",
      "Buzz\n",
      "Fizz\n",
      "22\n",
      "23\n",
      "Fizz\n",
      "Buzz\n",
      "26\n",
      "Fizz\n",
      "28\n",
      "29\n",
      "FizzBuzz\n",
      "31\n",
      "32\n",
      "Fizz\n",
      "34\n",
      "Buzz\n",
      "Fizz\n",
      "37\n",
      "38\n",
      "Fizz\n",
      "Buzz\n",
      "41\n",
      "Fizz\n",
      "43\n",
      "44\n",
      "FizzBuzz\n",
      "46\n",
      "47\n",
      "Fizz\n",
      "49\n",
      "Buzz\n",
      "Fizz\n",
      "52\n",
      "53\n",
      "Fizz\n",
      "Buzz\n",
      "56\n",
      "Fizz\n",
      "58\n",
      "59\n",
      "FizzBuzz\n",
      "61\n",
      "62\n",
      "Fizz\n",
      "64\n",
      "Buzz\n",
      "Fizz\n",
      "67\n",
      "68\n",
      "Fizz\n",
      "Buzz\n",
      "71\n",
      "Fizz\n",
      "73\n",
      "74\n",
      "FizzBuzz\n",
      "76\n",
      "77\n",
      "Fizz\n",
      "79\n",
      "Buzz\n",
      "Fizz\n",
      "82\n",
      "83\n",
      "Fizz\n",
      "Buzz\n",
      "86\n",
      "Fizz\n",
      "88\n",
      "89\n",
      "FizzBuzz\n",
      "91\n",
      "92\n",
      "Fizz\n",
      "94\n",
      "Buzz\n",
      "Fizz\n",
      "97\n",
      "98\n",
      "Fizz\n",
      "Buzz\n"
     ]
    }
   ],
   "source": [
    "for i in range(1, 101):\n",
    "    if i % 15 == 0:\n",
    "        print(\"FizzBuzz\")\n",
    "    elif i % 5 == 0:\n",
    "        print(\"Buzz\")\n",
    "    elif i % 3 == 0:\n",
    "        print(\"Fizz\")\n",
    "    else:\n",
    "        print(i)"
   ]
  },
  {
   "cell_type": "code",
   "execution_count": 89,
   "id": "9101679c",
   "metadata": {},
   "outputs": [
    {
     "name": "stdout",
     "output_type": "stream",
     "text": [
      "1001\n",
      "1008\n",
      "1022\n",
      "1029\n",
      "1036\n",
      "1043\n",
      "1057\n",
      "1064\n",
      "1071\n",
      "1078\n",
      "1092\n",
      "1099\n",
      "1106\n",
      "1113\n",
      "1127\n",
      "1134\n",
      "1141\n",
      "1148\n",
      "1162\n",
      "1169\n",
      "1176\n",
      "1183\n",
      "1197\n",
      "1204\n",
      "1211\n",
      "1218\n",
      "1232\n",
      "1239\n",
      "1246\n",
      "1253\n",
      "1267\n",
      "1274\n",
      "1281\n",
      "1288\n",
      "1302\n",
      "1309\n",
      "1316\n",
      "1323\n",
      "1337\n",
      "1344\n",
      "1351\n",
      "1358\n",
      "1372\n",
      "1379\n",
      "1386\n",
      "1393\n",
      "1407\n",
      "1414\n",
      "1421\n",
      "1428\n",
      "1442\n",
      "1449\n",
      "1456\n",
      "1463\n",
      "1477\n",
      "1484\n",
      "1491\n",
      "1498\n",
      "1512\n",
      "1519\n",
      "1526\n",
      "1533\n",
      "1547\n",
      "1554\n",
      "1561\n",
      "1568\n",
      "1582\n",
      "1589\n",
      "1596\n",
      "1603\n",
      "1617\n",
      "1624\n",
      "1631\n",
      "1638\n",
      "1652\n",
      "1659\n",
      "1666\n",
      "1673\n",
      "1687\n",
      "1694\n",
      "1701\n",
      "1708\n",
      "1722\n",
      "1729\n",
      "1736\n",
      "1743\n",
      "1757\n",
      "1764\n",
      "1771\n",
      "1778\n",
      "1792\n",
      "1799\n",
      "1806\n",
      "1813\n",
      "1827\n",
      "1834\n",
      "1841\n",
      "1848\n",
      "1862\n",
      "1869\n",
      "1876\n",
      "1883\n",
      "1897\n",
      "1904\n",
      "1911\n",
      "1918\n",
      "1932\n",
      "1939\n",
      "1946\n",
      "1953\n",
      "1967\n",
      "1974\n",
      "1981\n",
      "1988\n"
     ]
    }
   ],
   "source": [
    "for i in range(1000, 2000):\n",
    "    if i % 7 == 0 and i % 5 != 0:\n",
    "        print(i)"
   ]
  },
  {
   "cell_type": "code",
   "execution_count": 2,
   "id": "d1484305",
   "metadata": {},
   "outputs": [
    {
     "data": {
      "text/plain": [
       "3628800"
      ]
     },
     "execution_count": 2,
     "metadata": {},
     "output_type": "execute_result"
    }
   ],
   "source": [
    "def factorial(n: int) -> int:\n",
    "    \"\"\"Finds the factorial of a number.\"\"\"\n",
    "    fac_n = n\n",
    "    n -= 1\n",
    "    while n > 0:\n",
    "        fac_n *= n\n",
    "        n -= 1\n",
    "    return fac_n\n",
    "\n",
    "factorial(10)"
   ]
  },
  {
   "cell_type": "code",
   "execution_count": 1,
   "id": "adf43976",
   "metadata": {},
   "outputs": [
    {
     "data": {
      "text/plain": [
       "[0, 1, 1, 2, 3, 5, 8, 13, 21, 34, 55, 89, 144, 233, 377, 610, 987, 1597, 2584]"
      ]
     },
     "execution_count": 1,
     "metadata": {},
     "output_type": "execute_result"
    }
   ],
   "source": [
    "def fibonacci(n: int) -> list[int]:\n",
    "    f = [0, 1]\n",
    "    for i in range(1, n + 1):\n",
    "        f.append(f[i - 1] + f[i])\n",
    "    return f[0:n-1]\n",
    "\n",
    "fibonacci(20)"
   ]
  },
  {
   "cell_type": "code",
   "execution_count": 112,
   "id": "39ee1ee9",
   "metadata": {},
   "outputs": [
    {
     "data": {
      "text/plain": [
       "(11, 55)"
      ]
     },
     "execution_count": 112,
     "metadata": {},
     "output_type": "execute_result"
    }
   ],
   "source": [
    "def minmax(l: list[int]) -> int:\n",
    "    min = l[0]\n",
    "    max = l[0]\n",
    "    for i in l:\n",
    "        if i > max:\n",
    "            max = i\n",
    "        elif i < min:\n",
    "            min = i\n",
    "    return min, max\n",
    "\n",
    "minmax([23, 22, 33, 11, 55, 11, 32])"
   ]
  },
  {
   "cell_type": "markdown",
   "id": "3b12562d",
   "metadata": {},
   "source": [
    "# Functions"
   ]
  },
  {
   "cell_type": "markdown",
   "id": "b63796cb",
   "metadata": {},
   "source": [
    "A function is a block of reusable code that performs a specific task. Functions help organize code into manageable sections, make the code more readable, and allow for code reuse.\n",
    "\n",
    "- `def function_name():` function definition, followed by the name of this funciton. Use meaning function names. The parentheses hold the information the function needs to do the job. Finally, the definition ends in a colon.\n",
    "- indentation is important. \n",
    "- docstring "
   ]
  },
  {
   "cell_type": "code",
   "execution_count": 3,
   "id": "bbfe066d",
   "metadata": {},
   "outputs": [],
   "source": [
    "def greeting():\n",
    "    print(\"hello world!\")"
   ]
  },
  {
   "cell_type": "code",
   "execution_count": 4,
   "id": "95f20c40",
   "metadata": {},
   "outputs": [
    {
     "name": "stdout",
     "output_type": "stream",
     "text": [
      "hello world!\n"
     ]
    }
   ],
   "source": [
    "greeting()"
   ]
  },
  {
   "cell_type": "code",
   "execution_count": null,
   "id": "5dd77f62",
   "metadata": {},
   "outputs": [],
   "source": []
  },
  {
   "cell_type": "code",
   "execution_count": 5,
   "id": "2483bb52",
   "metadata": {},
   "outputs": [],
   "source": [
    "def f(a, b):\n",
    "    \"\"\"\n",
    "    Do something with a and b.\n",
    "    \"\"\"\n",
    "    \n",
    "    return 2*a + 3*b"
   ]
  },
  {
   "cell_type": "code",
   "execution_count": 6,
   "id": "7d3fcfc4",
   "metadata": {},
   "outputs": [
    {
     "data": {
      "text/plain": [
       "8"
      ]
     },
     "execution_count": 6,
     "metadata": {},
     "output_type": "execute_result"
    }
   ],
   "source": [
    "f(1,2)"
   ]
  },
  {
   "cell_type": "code",
   "execution_count": null,
   "id": "738aecca",
   "metadata": {},
   "outputs": [],
   "source": [
    "# match each argument in the function call with a parameter in the function definition"
   ]
  },
  {
   "cell_type": "code",
   "execution_count": 7,
   "id": "da79ab5a",
   "metadata": {},
   "outputs": [
    {
     "data": {
      "text/plain": [
       "7"
      ]
     },
     "execution_count": 7,
     "metadata": {},
     "output_type": "execute_result"
    }
   ],
   "source": [
    "f(a=2, b=1)"
   ]
  },
  {
   "cell_type": "code",
   "execution_count": 8,
   "id": "cff56897",
   "metadata": {},
   "outputs": [
    {
     "data": {
      "text/plain": [
       "7"
      ]
     },
     "execution_count": 8,
     "metadata": {},
     "output_type": "execute_result"
    }
   ],
   "source": [
    "f(b=1, a=2)"
   ]
  },
  {
   "cell_type": "code",
   "execution_count": 9,
   "id": "4951ac2a",
   "metadata": {},
   "outputs": [
    {
     "ename": "TypeError",
     "evalue": "f() missing 2 required positional arguments: 'a' and 'b'",
     "output_type": "error",
     "traceback": [
      "\u001b[0;31m---------------------------------------------------------------------------\u001b[0m",
      "\u001b[0;31mTypeError\u001b[0m                                 Traceback (most recent call last)",
      "Cell \u001b[0;32mIn[9], line 1\u001b[0m\n\u001b[0;32m----> 1\u001b[0m \u001b[43mf\u001b[49m\u001b[43m(\u001b[49m\u001b[43m)\u001b[49m\n",
      "\u001b[0;31mTypeError\u001b[0m: f() missing 2 required positional arguments: 'a' and 'b'"
     ]
    }
   ],
   "source": [
    "f()"
   ]
  },
  {
   "cell_type": "code",
   "execution_count": 11,
   "id": "0301c9d0",
   "metadata": {},
   "outputs": [
    {
     "data": {
      "text/plain": [
       "8"
      ]
     },
     "execution_count": 11,
     "metadata": {},
     "output_type": "execute_result"
    }
   ],
   "source": [
    "# default parameter value\n",
    "def f(a, b = 4):\n",
    "    return 4*a + 2*b\n",
    "    \n",
    "f(0)"
   ]
  },
  {
   "cell_type": "code",
   "execution_count": 12,
   "id": "c7a45d47",
   "metadata": {},
   "outputs": [],
   "source": [
    "def f(a, b, c=10):\n",
    "    return 2*a + 3*b - c"
   ]
  },
  {
   "cell_type": "code",
   "execution_count": 13,
   "id": "45841115",
   "metadata": {},
   "outputs": [
    {
     "data": {
      "text/plain": [
       "3"
      ]
     },
     "execution_count": 13,
     "metadata": {},
     "output_type": "execute_result"
    }
   ],
   "source": [
    "f(2,3)"
   ]
  },
  {
   "cell_type": "code",
   "execution_count": 14,
   "id": "978b6cdc",
   "metadata": {},
   "outputs": [
    {
     "data": {
      "text/plain": [
       "-7"
      ]
     },
     "execution_count": 14,
     "metadata": {},
     "output_type": "execute_result"
    }
   ],
   "source": [
    "f(2,3,20)"
   ]
  },
  {
   "cell_type": "markdown",
   "id": "0912df20",
   "metadata": {},
   "source": [
    "When you use default values, any parameter with a default value needs to be listed after all the parameters that don’t have default values. This allows Python to continue interpreting positional arguments correctly."
   ]
  },
  {
   "cell_type": "code",
   "execution_count": 15,
   "id": "c7078a25",
   "metadata": {},
   "outputs": [
    {
     "ename": "TypeError",
     "evalue": "unsupported operand type(s) for -: 'str' and 'int'",
     "output_type": "error",
     "traceback": [
      "\u001b[0;31m---------------------------------------------------------------------------\u001b[0m",
      "\u001b[0;31mTypeError\u001b[0m                                 Traceback (most recent call last)",
      "Cell \u001b[0;32mIn[15], line 2\u001b[0m\n\u001b[1;32m      1\u001b[0m \u001b[38;5;66;03m# match parameter types\u001b[39;00m\n\u001b[0;32m----> 2\u001b[0m \u001b[43mf\u001b[49m\u001b[43m(\u001b[49m\u001b[38;5;124;43m'\u001b[39;49m\u001b[38;5;124;43mhello\u001b[39;49m\u001b[38;5;124;43m'\u001b[39;49m\u001b[43m,\u001b[49m\u001b[43m \u001b[49m\u001b[38;5;124;43m'\u001b[39;49m\u001b[38;5;124;43mworld\u001b[39;49m\u001b[38;5;124;43m'\u001b[39;49m\u001b[43m)\u001b[49m\n",
      "Cell \u001b[0;32mIn[12], line 2\u001b[0m, in \u001b[0;36mf\u001b[0;34m(a, b, c)\u001b[0m\n\u001b[1;32m      1\u001b[0m \u001b[38;5;28;01mdef\u001b[39;00m \u001b[38;5;21mf\u001b[39m(a, b, c\u001b[38;5;241m=\u001b[39m\u001b[38;5;241m10\u001b[39m):\n\u001b[0;32m----> 2\u001b[0m     \u001b[38;5;28;01mreturn\u001b[39;00m \u001b[38;5;241;43m2\u001b[39;49m\u001b[38;5;241;43m*\u001b[39;49m\u001b[43ma\u001b[49m\u001b[43m \u001b[49m\u001b[38;5;241;43m+\u001b[39;49m\u001b[43m \u001b[49m\u001b[38;5;241;43m3\u001b[39;49m\u001b[38;5;241;43m*\u001b[39;49m\u001b[43mb\u001b[49m\u001b[43m \u001b[49m\u001b[38;5;241;43m-\u001b[39;49m\u001b[43m \u001b[49m\u001b[43mc\u001b[49m\n",
      "\u001b[0;31mTypeError\u001b[0m: unsupported operand type(s) for -: 'str' and 'int'"
     ]
    }
   ],
   "source": [
    "# match parameter types\n",
    "f('hello', 'world')"
   ]
  },
  {
   "cell_type": "code",
   "execution_count": 16,
   "id": "91fcf7ee",
   "metadata": {},
   "outputs": [
    {
     "ename": "TypeError",
     "evalue": "unsupported operand type(s) for -: 'list' and 'int'",
     "output_type": "error",
     "traceback": [
      "\u001b[0;31m---------------------------------------------------------------------------\u001b[0m",
      "\u001b[0;31mTypeError\u001b[0m                                 Traceback (most recent call last)",
      "Cell \u001b[0;32mIn[16], line 1\u001b[0m\n\u001b[0;32m----> 1\u001b[0m \u001b[43mf\u001b[49m\u001b[43m(\u001b[49m\u001b[43m[\u001b[49m\u001b[38;5;241;43m1\u001b[39;49m\u001b[43m,\u001b[49m\u001b[38;5;241;43m2\u001b[39;49m\u001b[43m,\u001b[49m\u001b[38;5;241;43m3\u001b[39;49m\u001b[43m]\u001b[49m\u001b[43m,\u001b[49m\u001b[43m \u001b[49m\u001b[43m[\u001b[49m\u001b[38;5;124;43m'\u001b[39;49m\u001b[38;5;124;43ma\u001b[39;49m\u001b[38;5;124;43m'\u001b[39;49m\u001b[43m,\u001b[49m\u001b[43m \u001b[49m\u001b[38;5;124;43m'\u001b[39;49m\u001b[38;5;124;43mb\u001b[39;49m\u001b[38;5;124;43m'\u001b[39;49m\u001b[43m,\u001b[49m\u001b[43m \u001b[49m\u001b[38;5;124;43m'\u001b[39;49m\u001b[38;5;124;43mc\u001b[39;49m\u001b[38;5;124;43m'\u001b[39;49m\u001b[43m]\u001b[49m\u001b[43m)\u001b[49m\n",
      "Cell \u001b[0;32mIn[12], line 2\u001b[0m, in \u001b[0;36mf\u001b[0;34m(a, b, c)\u001b[0m\n\u001b[1;32m      1\u001b[0m \u001b[38;5;28;01mdef\u001b[39;00m \u001b[38;5;21mf\u001b[39m(a, b, c\u001b[38;5;241m=\u001b[39m\u001b[38;5;241m10\u001b[39m):\n\u001b[0;32m----> 2\u001b[0m     \u001b[38;5;28;01mreturn\u001b[39;00m \u001b[38;5;241;43m2\u001b[39;49m\u001b[38;5;241;43m*\u001b[39;49m\u001b[43ma\u001b[49m\u001b[43m \u001b[49m\u001b[38;5;241;43m+\u001b[39;49m\u001b[43m \u001b[49m\u001b[38;5;241;43m3\u001b[39;49m\u001b[38;5;241;43m*\u001b[39;49m\u001b[43mb\u001b[49m\u001b[43m \u001b[49m\u001b[38;5;241;43m-\u001b[39;49m\u001b[43m \u001b[49m\u001b[43mc\u001b[49m\n",
      "\u001b[0;31mTypeError\u001b[0m: unsupported operand type(s) for -: 'list' and 'int'"
     ]
    }
   ],
   "source": [
    "f([1,2,3], ['a', 'b', 'c'])"
   ]
  },
  {
   "cell_type": "code",
   "execution_count": 17,
   "id": "5164ba27",
   "metadata": {},
   "outputs": [
    {
     "data": {
      "text/plain": [
       "4"
      ]
     },
     "execution_count": 17,
     "metadata": {},
     "output_type": "execute_result"
    }
   ],
   "source": [
    "# variables\n",
    "x = 3\n",
    "def f(a,b):\n",
    "    return a+b-x\n",
    "\n",
    "f(2,5)"
   ]
  },
  {
   "cell_type": "code",
   "execution_count": 18,
   "id": "fc4cdca0",
   "metadata": {},
   "outputs": [
    {
     "ename": "NameError",
     "evalue": "name 'y' is not defined",
     "output_type": "error",
     "traceback": [
      "\u001b[0;31m---------------------------------------------------------------------------\u001b[0m",
      "\u001b[0;31mNameError\u001b[0m                                 Traceback (most recent call last)",
      "Cell \u001b[0;32mIn[18], line 3\u001b[0m\n\u001b[1;32m      1\u001b[0m \u001b[38;5;28;01mdef\u001b[39;00m \u001b[38;5;21mf\u001b[39m(a,b):\n\u001b[1;32m      2\u001b[0m     \u001b[38;5;28;01mreturn\u001b[39;00m a\u001b[38;5;241m+\u001b[39mb\u001b[38;5;241m-\u001b[39my\n\u001b[0;32m----> 3\u001b[0m \u001b[43mf\u001b[49m\u001b[43m(\u001b[49m\u001b[38;5;241;43m2\u001b[39;49m\u001b[43m,\u001b[49m\u001b[38;5;241;43m5\u001b[39;49m\u001b[43m)\u001b[49m\n",
      "Cell \u001b[0;32mIn[18], line 2\u001b[0m, in \u001b[0;36mf\u001b[0;34m(a, b)\u001b[0m\n\u001b[1;32m      1\u001b[0m \u001b[38;5;28;01mdef\u001b[39;00m \u001b[38;5;21mf\u001b[39m(a,b):\n\u001b[0;32m----> 2\u001b[0m     \u001b[38;5;28;01mreturn\u001b[39;00m a\u001b[38;5;241m+\u001b[39mb\u001b[38;5;241m-\u001b[39m\u001b[43my\u001b[49m\n",
      "\u001b[0;31mNameError\u001b[0m: name 'y' is not defined"
     ]
    }
   ],
   "source": [
    "def f(a,b):\n",
    "    return a+b-y\n",
    "f(2,5)"
   ]
  },
  {
   "cell_type": "code",
   "execution_count": 19,
   "id": "d0eb82fb",
   "metadata": {},
   "outputs": [
    {
     "data": {
      "text/plain": [
       "-15"
      ]
     },
     "execution_count": 19,
     "metadata": {},
     "output_type": "execute_result"
    }
   ],
   "source": [
    "# variables defined within a function are not available within the global scope\n",
    "def f(a,b):\n",
    "    y = 10\n",
    "    return a + b -2*y\n",
    "f(2,3)"
   ]
  },
  {
   "cell_type": "code",
   "execution_count": 20,
   "id": "5d0ade9d",
   "metadata": {},
   "outputs": [
    {
     "ename": "NameError",
     "evalue": "name 'y' is not defined",
     "output_type": "error",
     "traceback": [
      "\u001b[0;31m---------------------------------------------------------------------------\u001b[0m",
      "\u001b[0;31mNameError\u001b[0m                                 Traceback (most recent call last)",
      "Cell \u001b[0;32mIn[20], line 1\u001b[0m\n\u001b[0;32m----> 1\u001b[0m \u001b[43my\u001b[49m\n",
      "\u001b[0;31mNameError\u001b[0m: name 'y' is not defined"
     ]
    }
   ],
   "source": [
    "y"
   ]
  },
  {
   "cell_type": "code",
   "execution_count": 21,
   "id": "9c6c21d9",
   "metadata": {},
   "outputs": [],
   "source": [
    "# return "
   ]
  },
  {
   "cell_type": "code",
   "execution_count": 22,
   "id": "8d71dedf",
   "metadata": {},
   "outputs": [],
   "source": [
    "def f(a,b):\n",
    "    y = 10\n",
    "    res = a + b -2*y\n",
    "    return res"
   ]
  },
  {
   "cell_type": "code",
   "execution_count": 23,
   "id": "dc10a8bf",
   "metadata": {},
   "outputs": [
    {
     "data": {
      "text/plain": [
       "(2, 3, 13)"
      ]
     },
     "execution_count": 23,
     "metadata": {},
     "output_type": "execute_result"
    }
   ],
   "source": [
    "def f(a,b):\n",
    "    return a, b, 2*a + 3*b\n",
    "f(2,3)"
   ]
  },
  {
   "cell_type": "code",
   "execution_count": 24,
   "id": "2c22610c",
   "metadata": {},
   "outputs": [
    {
     "name": "stdout",
     "output_type": "stream",
     "text": [
      "2 3 13\n"
     ]
    }
   ],
   "source": [
    "x, y, z = f(2,3)\n",
    "print(x, y, z)"
   ]
  },
  {
   "cell_type": "code",
   "execution_count": null,
   "id": "7873b186",
   "metadata": {},
   "outputs": [],
   "source": []
  },
  {
   "cell_type": "code",
   "execution_count": null,
   "id": "51fc9e1b",
   "metadata": {},
   "outputs": [],
   "source": [
    "# write if-statement, for loop, ... in the function"
   ]
  },
  {
   "cell_type": "code",
   "execution_count": 25,
   "id": "6bcb4158",
   "metadata": {},
   "outputs": [],
   "source": [
    "def is_odd(x):\n",
    "    if x % 2 == 1:\n",
    "        return True\n",
    "    else:\n",
    "        return False"
   ]
  },
  {
   "cell_type": "code",
   "execution_count": 26,
   "id": "fd2a1ecf",
   "metadata": {},
   "outputs": [
    {
     "data": {
      "text/plain": [
       "True"
      ]
     },
     "execution_count": 26,
     "metadata": {},
     "output_type": "execute_result"
    }
   ],
   "source": [
    "is_odd(3)"
   ]
  },
  {
   "cell_type": "code",
   "execution_count": 27,
   "id": "b4d200f3",
   "metadata": {},
   "outputs": [
    {
     "data": {
      "text/plain": [
       "False"
      ]
     },
     "execution_count": 27,
     "metadata": {},
     "output_type": "execute_result"
    }
   ],
   "source": [
    "is_odd(4)"
   ]
  },
  {
   "cell_type": "code",
   "execution_count": null,
   "id": "a9470477",
   "metadata": {},
   "outputs": [],
   "source": []
  },
  {
   "cell_type": "code",
   "execution_count": 28,
   "id": "50a22112",
   "metadata": {},
   "outputs": [],
   "source": [
    "# calculate the avergae score for each session\n",
    "def avg_score(x):\n",
    "    \"\"\"\n",
    "    Input: \n",
    "    x: a list of scores for one session\n",
    "    \n",
    "    Output:\n",
    "    average score of this session\n",
    "    \"\"\"\n",
    "    total_score = 0\n",
    "    num = 0\n",
    "    for i in x:\n",
    "        total_score += i\n",
    "        num += 1\n",
    "    \n",
    "    avg_score = total_score/num\n",
    "    return avg_score"
   ]
  },
  {
   "cell_type": "code",
   "execution_count": 29,
   "id": "098fd05a",
   "metadata": {},
   "outputs": [
    {
     "data": {
      "text/plain": [
       "83.0"
      ]
     },
     "execution_count": 29,
     "metadata": {},
     "output_type": "execute_result"
    }
   ],
   "source": [
    "avg_score([100,90,80, 85, 60])"
   ]
  },
  {
   "cell_type": "code",
   "execution_count": 30,
   "id": "8d49f8e6",
   "metadata": {},
   "outputs": [],
   "source": [
    "def largest_power_below(a, max_num=1000):\n",
    "    num = 1\n",
    "    while a*num <= max_num:\n",
    "        num *= a\n",
    "    return num"
   ]
  },
  {
   "cell_type": "code",
   "execution_count": 31,
   "id": "60956c85",
   "metadata": {},
   "outputs": [
    {
     "data": {
      "text/plain": [
       "729"
      ]
     },
     "execution_count": 31,
     "metadata": {},
     "output_type": "execute_result"
    }
   ],
   "source": [
    "largest_power_below(3)"
   ]
  },
  {
   "cell_type": "code",
   "execution_count": 32,
   "id": "8f1d08ea",
   "metadata": {},
   "outputs": [
    {
     "data": {
      "text/plain": [
       "2187"
      ]
     },
     "execution_count": 32,
     "metadata": {},
     "output_type": "execute_result"
    }
   ],
   "source": [
    "largest_power_below(3, 5000)"
   ]
  },
  {
   "cell_type": "code",
   "execution_count": null,
   "id": "7920592d",
   "metadata": {},
   "outputs": [],
   "source": []
  },
  {
   "cell_type": "markdown",
   "id": "50c5b3e8",
   "metadata": {},
   "source": [
    "The special `*args` argument can be passed to the function. `*arg` tells Python to make an empty tuple and pack whatever values it receives into this tuple. "
   ]
  },
  {
   "cell_type": "code",
   "execution_count": 33,
   "id": "d38fd5a7",
   "metadata": {},
   "outputs": [],
   "source": [
    "def better_sum(*args):\n",
    "    total = 0\n",
    "    for i in args:\n",
    "        total += i\n",
    "    return total"
   ]
  },
  {
   "cell_type": "code",
   "execution_count": 34,
   "id": "8be38b8b",
   "metadata": {},
   "outputs": [
    {
     "data": {
      "text/plain": [
       "1"
      ]
     },
     "execution_count": 34,
     "metadata": {},
     "output_type": "execute_result"
    }
   ],
   "source": [
    "better_sum(1)"
   ]
  },
  {
   "cell_type": "code",
   "execution_count": 35,
   "id": "65d54cff",
   "metadata": {},
   "outputs": [
    {
     "data": {
      "text/plain": [
       "13"
      ]
     },
     "execution_count": 35,
     "metadata": {},
     "output_type": "execute_result"
    }
   ],
   "source": [
    "better_sum(1,5,7)"
   ]
  },
  {
   "cell_type": "code",
   "execution_count": null,
   "id": "5a376947",
   "metadata": {},
   "outputs": [],
   "source": []
  },
  {
   "cell_type": "markdown",
   "id": "fc7c2a0d",
   "metadata": {},
   "source": [
    "Sometimes you’ll want to accept an arbitrary number of arguments, but you won’t know ahead of time what kind of information will be passed to the function. `**kwargs` allows writing functions that accept as many key-value pairs as the calling statement provides. "
   ]
  },
  {
   "cell_type": "code",
   "execution_count": 36,
   "id": "739d62b4",
   "metadata": {},
   "outputs": [
    {
     "name": "stdout",
     "output_type": "stream",
     "text": [
      "produce lettuce\n",
      "fruit apple\n"
     ]
    }
   ],
   "source": [
    "def shopping(**kwargs):    \n",
    "    for key, val in kwargs.items():\n",
    "        print(key, val)\n",
    "\n",
    "shopping(produce = \"lettuce\", fruit = \"apple\")"
   ]
  },
  {
   "cell_type": "markdown",
   "id": "c2f9ee87",
   "metadata": {},
   "source": [
    "We will see more examples later. "
   ]
  },
  {
   "cell_type": "code",
   "execution_count": null,
   "id": "7ff1a691",
   "metadata": {},
   "outputs": [],
   "source": []
  },
  {
   "cell_type": "markdown",
   "id": "13de2d43",
   "metadata": {},
   "source": [
    "### Store functions in modules\n",
    "\n",
    "We can store functions in a separate file called *module*, and then use `import` to import that module into the main program when we need it. An `import` statement tells Python to make the code in a module available in the currently running program file. \n",
    "\n",
    "Advantages: \n",
    "1. focus on higher-level logic in programming\n",
    "2. reuse functions in many different programs\n",
    "3. easy to share a single file without sharing the entire program. \n",
    "4. Knowing how to import functions also allows us to use libraries of functions that other programmers have written."
   ]
  },
  {
   "cell_type": "code",
   "execution_count": 37,
   "id": "2a16427e",
   "metadata": {},
   "outputs": [
    {
     "name": "stdout",
     "output_type": "stream",
     "text": [
      "Writing grades.py\n"
     ]
    }
   ],
   "source": [
    "%%file grades.py\n",
    "\n",
    "def avg_score(x):\n",
    "    return sum(x)/len(x)"
   ]
  },
  {
   "cell_type": "code",
   "execution_count": 38,
   "id": "161a6c71",
   "metadata": {},
   "outputs": [],
   "source": [
    "scores = [100,94.6, 93.2, 85, 78]"
   ]
  },
  {
   "cell_type": "code",
   "execution_count": 39,
   "id": "58ea8736",
   "metadata": {},
   "outputs": [
    {
     "data": {
      "text/plain": [
       "90.16"
      ]
     },
     "execution_count": 39,
     "metadata": {},
     "output_type": "execute_result"
    }
   ],
   "source": [
    "import grades\n",
    "grades.avg_score(scores)"
   ]
  },
  {
   "cell_type": "code",
   "execution_count": null,
   "id": "390c4863",
   "metadata": {},
   "outputs": [],
   "source": [
    "from grades import avg_score\n",
    "avg_score(scores)"
   ]
  },
  {
   "cell_type": "code",
   "execution_count": 40,
   "id": "b13d8e52",
   "metadata": {},
   "outputs": [
    {
     "data": {
      "text/plain": [
       "90.16"
      ]
     },
     "execution_count": 40,
     "metadata": {},
     "output_type": "execute_result"
    }
   ],
   "source": [
    "from grades import *\n",
    "avg_score([100,94.6, 93.2, 85, 78])"
   ]
  },
  {
   "cell_type": "code",
   "execution_count": 41,
   "id": "eb1bb698",
   "metadata": {},
   "outputs": [
    {
     "data": {
      "text/plain": [
       "90.16"
      ]
     },
     "execution_count": 41,
     "metadata": {},
     "output_type": "execute_result"
    }
   ],
   "source": [
    "import grades as gr\n",
    "gr.avg_score(scores)"
   ]
  },
  {
   "cell_type": "code",
   "execution_count": null,
   "id": "9497d639",
   "metadata": {},
   "outputs": [],
   "source": []
  },
  {
   "cell_type": "code",
   "execution_count": 42,
   "id": "b50f6bb6",
   "metadata": {},
   "outputs": [],
   "source": [
    "import numpy as np\n",
    "import pandas as pd\n",
    "from matplotlib import pyplot as plt"
   ]
  },
  {
   "cell_type": "code",
   "execution_count": null,
   "id": "c17cdef2",
   "metadata": {},
   "outputs": [],
   "source": []
  },
  {
   "cell_type": "markdown",
   "id": "bb0eee49",
   "metadata": {},
   "source": [
    "Recursive functions\n",
    "Anonymous functions\n",
    "Lazy evaluation\n",
    "Higher-order functions\n",
    "Decorators\n",
    "Partial application\n",
    "Using operator\n",
    "Using functional\n",
    "Using itertools\n",
    "Pipelines with toolz"
   ]
  },
  {
   "cell_type": "markdown",
   "id": "8f62295f",
   "metadata": {},
   "source": [
    "### Recursive functions\n",
    "\n",
    "A recursive function is one that calls itself. It's quite useful for some data structures such as trees. But be careful. "
   ]
  },
  {
   "cell_type": "code",
   "execution_count": 43,
   "id": "8ca1e905",
   "metadata": {},
   "outputs": [],
   "source": [
    "def fibonacci(n):\n",
    "    if n == 0:\n",
    "        return 0\n",
    "    elif n == 1:\n",
    "        return 1\n",
    "    else:\n",
    "        return fibonacci(n-1) + fibonacci(n-2)"
   ]
  },
  {
   "cell_type": "code",
   "execution_count": 44,
   "id": "c5720fc2",
   "metadata": {},
   "outputs": [
    {
     "data": {
      "text/plain": [
       "55"
      ]
     },
     "execution_count": 44,
     "metadata": {},
     "output_type": "execute_result"
    }
   ],
   "source": [
    "fibonacci(10)"
   ]
  },
  {
   "cell_type": "code",
   "execution_count": null,
   "id": "b1cf668a",
   "metadata": {},
   "outputs": [],
   "source": []
  },
  {
   "cell_type": "markdown",
   "id": "f2ebd3bc",
   "metadata": {},
   "source": [
    "### Anonymous functions\n",
    "\n",
    "An anonymous function in Python is a function without a name. A `lambda` function is a small anonymous function, i.e., `lambda arguments : expression`. It can take any number of arguments, but can only have one expression."
   ]
  },
  {
   "cell_type": "code",
   "execution_count": 47,
   "id": "83cb1b49",
   "metadata": {},
   "outputs": [
    {
     "data": {
      "text/plain": [
       "32"
      ]
     },
     "execution_count": 47,
     "metadata": {},
     "output_type": "execute_result"
    }
   ],
   "source": [
    "x = lambda a: 2**a\n",
    "x(5)"
   ]
  },
  {
   "cell_type": "code",
   "execution_count": null,
   "id": "704871b9",
   "metadata": {},
   "outputs": [],
   "source": [
    "text = \"hello world\"\n",
    "\n",
    "upper = lambda string: string.upper()\n",
    "print(upper(text))"
   ]
  },
  {
   "cell_type": "code",
   "execution_count": null,
   "id": "88c84ac9",
   "metadata": {},
   "outputs": [],
   "source": [
    "add = lambda x, y: x+y\n",
    "add(5, 8)"
   ]
  },
  {
   "cell_type": "code",
   "execution_count": null,
   "id": "f2e6d38a",
   "metadata": {},
   "outputs": [],
   "source": [
    "get_min = lambda x, y: x if x < y else y\n",
    "get_min(7, 5)"
   ]
  },
  {
   "cell_type": "code",
   "execution_count": null,
   "id": "7020318f",
   "metadata": {},
   "outputs": [],
   "source": [
    "x = [1,2,4,5,3,7,8,3]\n",
    "sorted(x, key = lambda x: x%2 == 0)"
   ]
  },
  {
   "cell_type": "code",
   "execution_count": null,
   "id": "6652ad98",
   "metadata": {},
   "outputs": [],
   "source": [
    "student_tuples = [\n",
    "    ('john', 'A', 15),\n",
    "    ('jane', 'B', 12),\n",
    "    ('dave', 'B', 10),\n",
    "]\n",
    "sorted(student_tuples, key=lambda student: student[2])   "
   ]
  },
  {
   "cell_type": "code",
   "execution_count": null,
   "id": "963d72ff",
   "metadata": {},
   "outputs": [],
   "source": [
    "x = {\"a\": [1,2,3, 4], \"b\": [1,3,4], \"c\": [1,2,3,4,5]}\n",
    "x_new = dict(sorted(x.items(), key = lambda item: len(item[1]), reverse=True))\n",
    "x_new"
   ]
  },
  {
   "cell_type": "code",
   "execution_count": null,
   "id": "1dad12cd",
   "metadata": {},
   "outputs": [],
   "source": [
    "# map, zip, filter"
   ]
  }
 ],
 "metadata": {
  "kernelspec": {
   "display_name": "Python 3 (ipykernel)",
   "language": "python",
   "name": "python3"
  },
  "language_info": {
   "codemirror_mode": {
    "name": "ipython",
    "version": 3
   },
   "file_extension": ".py",
   "mimetype": "text/x-python",
   "name": "python",
   "nbconvert_exporter": "python",
   "pygments_lexer": "ipython3",
   "version": "3.12.1"
  }
 },
 "nbformat": 4,
 "nbformat_minor": 5
}
