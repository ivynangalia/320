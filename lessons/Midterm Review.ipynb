{
 "cells": [
  {
   "cell_type": "code",
   "execution_count": null,
   "id": "be219a92",
   "metadata": {},
   "outputs": [],
   "source": [
    "# What topics we have covered so far?"
   ]
  },
  {
   "cell_type": "code",
   "execution_count": null,
   "id": "09d5120d",
   "metadata": {},
   "outputs": [],
   "source": []
  },
  {
   "cell_type": "code",
   "execution_count": null,
   "id": "6f7a4dd6",
   "metadata": {},
   "outputs": [],
   "source": [
    "# How to import packages and read data file?"
   ]
  },
  {
   "cell_type": "code",
   "execution_count": null,
   "id": "d4642fe5",
   "metadata": {},
   "outputs": [],
   "source": []
  },
  {
   "cell_type": "code",
   "execution_count": null,
   "id": "f46a121d",
   "metadata": {},
   "outputs": [],
   "source": [
    "# How to display a table or variable?"
   ]
  },
  {
   "cell_type": "code",
   "execution_count": null,
   "id": "115ec866",
   "metadata": {},
   "outputs": [],
   "source": []
  },
  {
   "cell_type": "code",
   "execution_count": null,
   "id": "99af55ca",
   "metadata": {},
   "outputs": [],
   "source": [
    "# How to generate initialize a vector in numpy?"
   ]
  },
  {
   "cell_type": "code",
   "execution_count": null,
   "id": "dc17da6a",
   "metadata": {},
   "outputs": [],
   "source": []
  },
  {
   "cell_type": "code",
   "execution_count": null,
   "id": "7e79acd3",
   "metadata": {},
   "outputs": [],
   "source": [
    "# How to initialize a random variable in numpy?"
   ]
  },
  {
   "cell_type": "code",
   "execution_count": null,
   "id": "772bb0d5",
   "metadata": {},
   "outputs": [],
   "source": []
  },
  {
   "cell_type": "code",
   "execution_count": null,
   "id": "bff93fe1",
   "metadata": {},
   "outputs": [],
   "source": [
    "# How to change the shape of a matrix?"
   ]
  },
  {
   "cell_type": "code",
   "execution_count": null,
   "id": "ab1d3a0b",
   "metadata": {},
   "outputs": [],
   "source": []
  },
  {
   "cell_type": "code",
   "execution_count": null,
   "id": "c5aee510",
   "metadata": {},
   "outputs": [],
   "source": [
    "# How to creat a histogram using sns?"
   ]
  },
  {
   "cell_type": "code",
   "execution_count": null,
   "id": "4fe25ae0",
   "metadata": {},
   "outputs": [],
   "source": []
  },
  {
   "cell_type": "code",
   "execution_count": null,
   "id": "d2cbd4d8",
   "metadata": {},
   "outputs": [],
   "source": [
    "# How to extract the first 100 rows of a table?"
   ]
  },
  {
   "cell_type": "code",
   "execution_count": null,
   "id": "9ba987ce",
   "metadata": {},
   "outputs": [],
   "source": []
  },
  {
   "cell_type": "code",
   "execution_count": null,
   "id": "7e78ec26",
   "metadata": {},
   "outputs": [],
   "source": [
    "# How to extract a subset of rows and columns from a table based on some conditions?"
   ]
  },
  {
   "cell_type": "code",
   "execution_count": null,
   "id": "a5a7aed2",
   "metadata": {
    "scrolled": true
   },
   "outputs": [],
   "source": []
  },
  {
   "cell_type": "code",
   "execution_count": null,
   "id": "2e7df6fb",
   "metadata": {},
   "outputs": [],
   "source": [
    "# How to merge tables?"
   ]
  },
  {
   "cell_type": "code",
   "execution_count": null,
   "id": "3b8c316c",
   "metadata": {},
   "outputs": [],
   "source": []
  },
  {
   "cell_type": "code",
   "execution_count": null,
   "id": "61e79736",
   "metadata": {},
   "outputs": [],
   "source": [
    "# How to change column names?"
   ]
  },
  {
   "cell_type": "code",
   "execution_count": null,
   "id": "3972237b",
   "metadata": {},
   "outputs": [],
   "source": []
  },
  {
   "cell_type": "code",
   "execution_count": null,
   "id": "e9a9ed65",
   "metadata": {},
   "outputs": [],
   "source": [
    "# How to use the universal function?"
   ]
  },
  {
   "cell_type": "code",
   "execution_count": null,
   "id": "e9aedee8",
   "metadata": {},
   "outputs": [],
   "source": []
  },
  {
   "cell_type": "code",
   "execution_count": null,
   "id": "9bd36972",
   "metadata": {},
   "outputs": [],
   "source": []
  }
 ],
 "metadata": {
  "kernelspec": {
   "display_name": "Python 3 (ipykernel)",
   "language": "python",
   "name": "python3"
  },
  "language_info": {
   "codemirror_mode": {
    "name": "ipython",
    "version": 3
   },
   "file_extension": ".py",
   "mimetype": "text/x-python",
   "name": "python",
   "nbconvert_exporter": "python",
   "pygments_lexer": "ipython3",
   "version": "3.11.4"
  }
 },
 "nbformat": 4,
 "nbformat_minor": 5
}
