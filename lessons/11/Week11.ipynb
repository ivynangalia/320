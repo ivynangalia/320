{
 "cells": [
  {
   "cell_type": "markdown",
   "metadata": {},
   "source": [
    "# STOR 320 Introduction to Data Science\n",
    "\n",
    "## Week 10: Cross validation"
   ]
  },
  {
   "cell_type": "code",
   "execution_count": 1,
   "metadata": {},
   "outputs": [],
   "source": [
    "import numpy as np\n",
    "import pandas as pd\n",
    "import matplotlib.pyplot as plt\n",
    "import seaborn as sns\n",
    "import statsmodels.formula.api as smf\n",
    "import statsmodels.api as sm\n",
    "from statsmodels.stats.outliers_influence import variance_inflation_factor"
   ]
  },
  {
   "cell_type": "markdown",
   "metadata": {},
   "source": [
    "### Helper Functions"
   ]
  },
  {
   "cell_type": "code",
   "execution_count": 2,
   "metadata": {},
   "outputs": [],
   "source": [
    "def OSR2(y_train, y_test, y_pred):\n",
    "    \n",
    "    SSE = np.sum((y_test - y_pred)**2)\n",
    "    SST = np.sum((y_test - np.mean(y_train))**2)\n",
    "                 \n",
    "    return (1 - SSE/SST)"
   ]
  },
  {
   "cell_type": "code",
   "execution_count": 3,
   "metadata": {},
   "outputs": [],
   "source": [
    "def MAE(y_test, y_pred):\n",
    "    \n",
    "    return (np.mean(abs(y_test - y_pred)))"
   ]
  },
  {
   "cell_type": "code",
   "execution_count": 4,
   "metadata": {},
   "outputs": [],
   "source": [
    "def RMSE(y_test, y_pred):\n",
    "    \n",
    "    return np.sqrt(np.mean((y_test - y_pred)**2))"
   ]
  },
  {
   "cell_type": "code",
   "execution_count": 5,
   "metadata": {},
   "outputs": [],
   "source": [
    "def print_metrics(model, X_train, y_train, X_test, y_test, flag_log_sale_price=False):\n",
    "\n",
    "    if (flag_log_sale_price == True):\n",
    "        \n",
    "        y_pred_train = pd.Series(model.predict(X_train)).reset_index(drop=True)\n",
    "        y_pred_test = pd.Series(model.predict(X_test)).reset_index(drop=True)\n",
    "        y_train = y_train.copy().reset_index(drop=True)\n",
    "        y_test = y_test.copy().reset_index(drop=True)\n",
    "        \n",
    "        print(\"\\nMetrics for Log(Sale Price):\\n\")\n",
    "        \n",
    "    elif (flag_log_sale_price == False):\n",
    "        \n",
    "        y_pred_train = pd.Series(model.predict(X_train)).apply(np.exp).reset_index(drop=True)\n",
    "        y_pred_test = pd.Series(model.predict(X_test)).apply(np.exp).reset_index(drop=True)\n",
    "        y_train = y_train.copy().apply(np.exp).reset_index(drop=True)\n",
    "        y_test = y_test.copy().apply(np.exp).reset_index(drop=True)\n",
    "        \n",
    "        print(\"\\nMetrics for Sale Price:\\n\")\n",
    "\n",
    "    print('Training R2', OSR2(y_train, y_train, y_pred_train))\n",
    "    print('Training MAE', MAE(y_train, y_pred_train))\n",
    "    print('Training RMSE', RMSE(y_train, y_pred_train))\n",
    "\n",
    "    print('Out-of-sample R2', OSR2(y_train, y_test, y_pred_test))\n",
    "    print('Out-of-sample MAE', MAE(y_test, y_pred_test))\n",
    "    print('Out-of-sample RMSE', RMSE(y_test, y_pred_test))\n",
    "    \n",
    "    return None"
   ]
  },
  {
   "cell_type": "code",
   "execution_count": null,
   "metadata": {},
   "outputs": [],
   "source": []
  },
  {
   "cell_type": "code",
   "execution_count": 6,
   "metadata": {},
   "outputs": [
    {
     "name": "stdout",
     "output_type": "stream",
     "text": [
      "<class 'pandas.core.frame.DataFrame'>\n",
      "RangeIndex: 2765 entries, 0 to 2764\n",
      "Columns: 105 entries, Unnamed: 0 to YearsSince1950GarageBuilt\n",
      "dtypes: float64(21), int64(45), object(39)\n",
      "memory usage: 2.2+ MB\n"
     ]
    }
   ],
   "source": [
    "ames = pd.read_csv('cleaned_Ames.csv')\n",
    "ames.info()"
   ]
  },
  {
   "cell_type": "code",
   "execution_count": 7,
   "metadata": {},
   "outputs": [
    {
     "data": {
      "text/html": [
       "<div>\n",
       "<style scoped>\n",
       "    .dataframe tbody tr th:only-of-type {\n",
       "        vertical-align: middle;\n",
       "    }\n",
       "\n",
       "    .dataframe tbody tr th {\n",
       "        vertical-align: top;\n",
       "    }\n",
       "\n",
       "    .dataframe thead th {\n",
       "        text-align: right;\n",
       "    }\n",
       "</style>\n",
       "<table border=\"1\" class=\"dataframe\">\n",
       "  <thead>\n",
       "    <tr style=\"text-align: right;\">\n",
       "      <th></th>\n",
       "      <th>LogSalePrice</th>\n",
       "      <th>MSSubClass</th>\n",
       "      <th>MSZoning</th>\n",
       "      <th>LotFrontage</th>\n",
       "      <th>LotArea</th>\n",
       "      <th>Street</th>\n",
       "      <th>Alley</th>\n",
       "      <th>LotShape</th>\n",
       "      <th>LandContour</th>\n",
       "      <th>Utilities</th>\n",
       "      <th>...</th>\n",
       "      <th>PreCast</th>\n",
       "      <th>Stone</th>\n",
       "      <th>Stucco</th>\n",
       "      <th>VinylSd</th>\n",
       "      <th>WdSdng</th>\n",
       "      <th>WdShing</th>\n",
       "      <th>WdShng</th>\n",
       "      <th>YearsSince1950Built</th>\n",
       "      <th>YearsSince1950Remod</th>\n",
       "      <th>YearsSince1950GarageBuilt</th>\n",
       "    </tr>\n",
       "  </thead>\n",
       "  <tbody>\n",
       "    <tr>\n",
       "      <th>0</th>\n",
       "      <td>12.278393</td>\n",
       "      <td>20</td>\n",
       "      <td>RL</td>\n",
       "      <td>141.0</td>\n",
       "      <td>31770.0</td>\n",
       "      <td>Pave</td>\n",
       "      <td>NoAccess</td>\n",
       "      <td>IR1</td>\n",
       "      <td>Lvl</td>\n",
       "      <td>AllPub</td>\n",
       "      <td>...</td>\n",
       "      <td>0</td>\n",
       "      <td>0</td>\n",
       "      <td>0</td>\n",
       "      <td>0</td>\n",
       "      <td>0</td>\n",
       "      <td>0</td>\n",
       "      <td>0</td>\n",
       "      <td>10</td>\n",
       "      <td>10</td>\n",
       "      <td>10.0</td>\n",
       "    </tr>\n",
       "    <tr>\n",
       "      <th>1</th>\n",
       "      <td>11.561716</td>\n",
       "      <td>20</td>\n",
       "      <td>RH</td>\n",
       "      <td>80.0</td>\n",
       "      <td>11622.0</td>\n",
       "      <td>Pave</td>\n",
       "      <td>NoAccess</td>\n",
       "      <td>Reg</td>\n",
       "      <td>Lvl</td>\n",
       "      <td>AllPub</td>\n",
       "      <td>...</td>\n",
       "      <td>0</td>\n",
       "      <td>0</td>\n",
       "      <td>0</td>\n",
       "      <td>1</td>\n",
       "      <td>0</td>\n",
       "      <td>0</td>\n",
       "      <td>0</td>\n",
       "      <td>11</td>\n",
       "      <td>11</td>\n",
       "      <td>11.0</td>\n",
       "    </tr>\n",
       "    <tr>\n",
       "      <th>2</th>\n",
       "      <td>12.055250</td>\n",
       "      <td>20</td>\n",
       "      <td>RL</td>\n",
       "      <td>81.0</td>\n",
       "      <td>14267.0</td>\n",
       "      <td>Pave</td>\n",
       "      <td>NoAccess</td>\n",
       "      <td>IR1</td>\n",
       "      <td>Lvl</td>\n",
       "      <td>AllPub</td>\n",
       "      <td>...</td>\n",
       "      <td>0</td>\n",
       "      <td>0</td>\n",
       "      <td>0</td>\n",
       "      <td>0</td>\n",
       "      <td>1</td>\n",
       "      <td>0</td>\n",
       "      <td>0</td>\n",
       "      <td>8</td>\n",
       "      <td>8</td>\n",
       "      <td>8.0</td>\n",
       "    </tr>\n",
       "    <tr>\n",
       "      <th>3</th>\n",
       "      <td>12.404924</td>\n",
       "      <td>20</td>\n",
       "      <td>RL</td>\n",
       "      <td>93.0</td>\n",
       "      <td>11160.0</td>\n",
       "      <td>Pave</td>\n",
       "      <td>NoAccess</td>\n",
       "      <td>Reg</td>\n",
       "      <td>Lvl</td>\n",
       "      <td>AllPub</td>\n",
       "      <td>...</td>\n",
       "      <td>0</td>\n",
       "      <td>0</td>\n",
       "      <td>0</td>\n",
       "      <td>0</td>\n",
       "      <td>0</td>\n",
       "      <td>0</td>\n",
       "      <td>0</td>\n",
       "      <td>18</td>\n",
       "      <td>18</td>\n",
       "      <td>18.0</td>\n",
       "    </tr>\n",
       "    <tr>\n",
       "      <th>4</th>\n",
       "      <td>12.154253</td>\n",
       "      <td>60</td>\n",
       "      <td>RL</td>\n",
       "      <td>74.0</td>\n",
       "      <td>13830.0</td>\n",
       "      <td>Pave</td>\n",
       "      <td>NoAccess</td>\n",
       "      <td>IR1</td>\n",
       "      <td>Lvl</td>\n",
       "      <td>AllPub</td>\n",
       "      <td>...</td>\n",
       "      <td>0</td>\n",
       "      <td>0</td>\n",
       "      <td>0</td>\n",
       "      <td>1</td>\n",
       "      <td>0</td>\n",
       "      <td>0</td>\n",
       "      <td>0</td>\n",
       "      <td>47</td>\n",
       "      <td>48</td>\n",
       "      <td>47.0</td>\n",
       "    </tr>\n",
       "    <tr>\n",
       "      <th>...</th>\n",
       "      <td>...</td>\n",
       "      <td>...</td>\n",
       "      <td>...</td>\n",
       "      <td>...</td>\n",
       "      <td>...</td>\n",
       "      <td>...</td>\n",
       "      <td>...</td>\n",
       "      <td>...</td>\n",
       "      <td>...</td>\n",
       "      <td>...</td>\n",
       "      <td>...</td>\n",
       "      <td>...</td>\n",
       "      <td>...</td>\n",
       "      <td>...</td>\n",
       "      <td>...</td>\n",
       "      <td>...</td>\n",
       "      <td>...</td>\n",
       "      <td>...</td>\n",
       "      <td>...</td>\n",
       "      <td>...</td>\n",
       "      <td>...</td>\n",
       "    </tr>\n",
       "    <tr>\n",
       "      <th>2924</th>\n",
       "      <td>11.782953</td>\n",
       "      <td>20</td>\n",
       "      <td>RL</td>\n",
       "      <td>160.0</td>\n",
       "      <td>20000.0</td>\n",
       "      <td>Pave</td>\n",
       "      <td>NoAccess</td>\n",
       "      <td>Reg</td>\n",
       "      <td>Lvl</td>\n",
       "      <td>AllPub</td>\n",
       "      <td>...</td>\n",
       "      <td>0</td>\n",
       "      <td>0</td>\n",
       "      <td>0</td>\n",
       "      <td>1</td>\n",
       "      <td>0</td>\n",
       "      <td>0</td>\n",
       "      <td>0</td>\n",
       "      <td>10</td>\n",
       "      <td>46</td>\n",
       "      <td>10.0</td>\n",
       "    </tr>\n",
       "    <tr>\n",
       "      <th>2925</th>\n",
       "      <td>11.867097</td>\n",
       "      <td>80</td>\n",
       "      <td>RL</td>\n",
       "      <td>37.0</td>\n",
       "      <td>7937.0</td>\n",
       "      <td>Pave</td>\n",
       "      <td>NoAccess</td>\n",
       "      <td>IR1</td>\n",
       "      <td>Lvl</td>\n",
       "      <td>AllPub</td>\n",
       "      <td>...</td>\n",
       "      <td>0</td>\n",
       "      <td>0</td>\n",
       "      <td>0</td>\n",
       "      <td>0</td>\n",
       "      <td>0</td>\n",
       "      <td>0</td>\n",
       "      <td>0</td>\n",
       "      <td>34</td>\n",
       "      <td>34</td>\n",
       "      <td>34.0</td>\n",
       "    </tr>\n",
       "    <tr>\n",
       "      <th>2926</th>\n",
       "      <td>11.782953</td>\n",
       "      <td>20</td>\n",
       "      <td>RL</td>\n",
       "      <td>0.0</td>\n",
       "      <td>8885.0</td>\n",
       "      <td>Pave</td>\n",
       "      <td>NoAccess</td>\n",
       "      <td>IR1</td>\n",
       "      <td>Low</td>\n",
       "      <td>AllPub</td>\n",
       "      <td>...</td>\n",
       "      <td>0</td>\n",
       "      <td>0</td>\n",
       "      <td>0</td>\n",
       "      <td>0</td>\n",
       "      <td>0</td>\n",
       "      <td>0</td>\n",
       "      <td>0</td>\n",
       "      <td>33</td>\n",
       "      <td>33</td>\n",
       "      <td>33.0</td>\n",
       "    </tr>\n",
       "    <tr>\n",
       "      <th>2928</th>\n",
       "      <td>12.043554</td>\n",
       "      <td>20</td>\n",
       "      <td>RL</td>\n",
       "      <td>77.0</td>\n",
       "      <td>10010.0</td>\n",
       "      <td>Pave</td>\n",
       "      <td>NoAccess</td>\n",
       "      <td>Reg</td>\n",
       "      <td>Lvl</td>\n",
       "      <td>AllPub</td>\n",
       "      <td>...</td>\n",
       "      <td>0</td>\n",
       "      <td>0</td>\n",
       "      <td>0</td>\n",
       "      <td>0</td>\n",
       "      <td>0</td>\n",
       "      <td>0</td>\n",
       "      <td>0</td>\n",
       "      <td>24</td>\n",
       "      <td>25</td>\n",
       "      <td>25.0</td>\n",
       "    </tr>\n",
       "    <tr>\n",
       "      <th>2929</th>\n",
       "      <td>12.144197</td>\n",
       "      <td>60</td>\n",
       "      <td>RL</td>\n",
       "      <td>74.0</td>\n",
       "      <td>9627.0</td>\n",
       "      <td>Pave</td>\n",
       "      <td>NoAccess</td>\n",
       "      <td>Reg</td>\n",
       "      <td>Lvl</td>\n",
       "      <td>AllPub</td>\n",
       "      <td>...</td>\n",
       "      <td>0</td>\n",
       "      <td>0</td>\n",
       "      <td>0</td>\n",
       "      <td>0</td>\n",
       "      <td>0</td>\n",
       "      <td>0</td>\n",
       "      <td>0</td>\n",
       "      <td>43</td>\n",
       "      <td>44</td>\n",
       "      <td>43.0</td>\n",
       "    </tr>\n",
       "  </tbody>\n",
       "</table>\n",
       "<p>2765 rows × 105 columns</p>\n",
       "</div>"
      ],
      "text/plain": [
       "      LogSalePrice MSSubClass MSZoning  LotFrontage  LotArea Street     Alley  \\\n",
       "0        12.278393         20       RL        141.0  31770.0   Pave  NoAccess   \n",
       "1        11.561716         20       RH         80.0  11622.0   Pave  NoAccess   \n",
       "2        12.055250         20       RL         81.0  14267.0   Pave  NoAccess   \n",
       "3        12.404924         20       RL         93.0  11160.0   Pave  NoAccess   \n",
       "4        12.154253         60       RL         74.0  13830.0   Pave  NoAccess   \n",
       "...            ...        ...      ...          ...      ...    ...       ...   \n",
       "2924     11.782953         20       RL        160.0  20000.0   Pave  NoAccess   \n",
       "2925     11.867097         80       RL         37.0   7937.0   Pave  NoAccess   \n",
       "2926     11.782953         20       RL          0.0   8885.0   Pave  NoAccess   \n",
       "2928     12.043554         20       RL         77.0  10010.0   Pave  NoAccess   \n",
       "2929     12.144197         60       RL         74.0   9627.0   Pave  NoAccess   \n",
       "\n",
       "     LotShape LandContour Utilities  ... PreCast Stone Stucco VinylSd WdSdng  \\\n",
       "0         IR1         Lvl    AllPub  ...       0     0      0       0      0   \n",
       "1         Reg         Lvl    AllPub  ...       0     0      0       1      0   \n",
       "2         IR1         Lvl    AllPub  ...       0     0      0       0      1   \n",
       "3         Reg         Lvl    AllPub  ...       0     0      0       0      0   \n",
       "4         IR1         Lvl    AllPub  ...       0     0      0       1      0   \n",
       "...       ...         ...       ...  ...     ...   ...    ...     ...    ...   \n",
       "2924      Reg         Lvl    AllPub  ...       0     0      0       1      0   \n",
       "2925      IR1         Lvl    AllPub  ...       0     0      0       0      0   \n",
       "2926      IR1         Low    AllPub  ...       0     0      0       0      0   \n",
       "2928      Reg         Lvl    AllPub  ...       0     0      0       0      0   \n",
       "2929      Reg         Lvl    AllPub  ...       0     0      0       0      0   \n",
       "\n",
       "     WdShing WdShng YearsSince1950Built YearsSince1950Remod  \\\n",
       "0          0      0                  10                  10   \n",
       "1          0      0                  11                  11   \n",
       "2          0      0                   8                   8   \n",
       "3          0      0                  18                  18   \n",
       "4          0      0                  47                  48   \n",
       "...      ...    ...                 ...                 ...   \n",
       "2924       0      0                  10                  46   \n",
       "2925       0      0                  34                  34   \n",
       "2926       0      0                  33                  33   \n",
       "2928       0      0                  24                  25   \n",
       "2929       0      0                  43                  44   \n",
       "\n",
       "     YearsSince1950GarageBuilt  \n",
       "0                         10.0  \n",
       "1                         11.0  \n",
       "2                          8.0  \n",
       "3                         18.0  \n",
       "4                         47.0  \n",
       "...                        ...  \n",
       "2924                      10.0  \n",
       "2925                      34.0  \n",
       "2926                      33.0  \n",
       "2928                      25.0  \n",
       "2929                      43.0  \n",
       "\n",
       "[2765 rows x 105 columns]"
      ]
     },
     "execution_count": 7,
     "metadata": {},
     "output_type": "execute_result"
    }
   ],
   "source": [
    "ames = pd.read_feather('cleaned_ames.feather')\n",
    "ames"
   ]
  },
  {
   "cell_type": "code",
   "execution_count": 8,
   "metadata": {},
   "outputs": [
    {
     "name": "stdout",
     "output_type": "stream",
     "text": [
      "<class 'pandas.core.frame.DataFrame'>\n",
      "Index: 2765 entries, 0 to 2929\n",
      "Columns: 105 entries, LogSalePrice to YearsSince1950GarageBuilt\n",
      "dtypes: category(53), float64(21), int64(31)\n",
      "memory usage: 1.3 MB\n"
     ]
    }
   ],
   "source": [
    "ames.info()"
   ]
  },
  {
   "cell_type": "code",
   "execution_count": 9,
   "metadata": {},
   "outputs": [],
   "source": [
    "import warnings\n",
    "warnings.filterwarnings('ignore')"
   ]
  },
  {
   "cell_type": "code",
   "execution_count": 10,
   "metadata": {},
   "outputs": [
    {
     "name": "stdout",
     "output_type": "stream",
     "text": [
      "(2765, 104) (1828, 104) (937, 104)\n"
     ]
    }
   ],
   "source": [
    "ames_train = ames.loc[ames['YrSold'].isin([2006, 2007, 2008])]\n",
    "ames_test = ames.loc[ames['YrSold'].isin([2009, 2010])]\n",
    "\n",
    "ames = ames.drop(columns = ['YrSold'])\n",
    "ames_train = ames_train.drop(columns = ['YrSold'])\n",
    "ames_test = ames_test.drop(columns = ['YrSold'])\n",
    "\n",
    "y_train = ames_train['LogSalePrice']\n",
    "y_test = ames_test['LogSalePrice']\n",
    "\n",
    "print(ames.shape, ames_train.shape, ames_test.shape)"
   ]
  },
  {
   "cell_type": "markdown",
   "metadata": {},
   "source": [
    "### Simple Linear model with higher-order Variables\n"
   ]
  },
  {
   "cell_type": "code",
   "execution_count": 11,
   "metadata": {},
   "outputs": [],
   "source": [
    "def create_polynomial_features(df, n_degree):\n",
    "\n",
    "    new_df = None\n",
    "    \n",
    "    for i in range(2, n_degree+1):\n",
    "        \n",
    "        tmp = df.pow(i)\n",
    "        \n",
    "        affix = '_p'+str(i)\n",
    "        tmp.columns = list(map(lambda x: x + affix, df.columns))\n",
    "        \n",
    "        if new_df is not None:\n",
    "            new_df = pd.concat([new_df, tmp], axis=1)\n",
    "        else:\n",
    "            new_df = tmp\n",
    "    \n",
    "    return new_df"
   ]
  },
  {
   "cell_type": "markdown",
   "metadata": {},
   "source": [
    "<span style='color:blue'>\n",
    "    \n",
    "NOTE: An important consideration when creating higher-order variables is that the resulting features will tend to have some degree of linear dependence amongst themselves. This is normal as several new features are based on their zero-th power peer. Such correlation can also yield a high degree of multicollinearity in the regression models. The `sklearn` implementations that we will be using do not automatically account for this phenomenon, therefore we must be careful in selection the `n_degree`, and analyzing the model fit. \n",
    "\n",
    "</span>"
   ]
  },
  {
   "cell_type": "code",
   "execution_count": 12,
   "metadata": {},
   "outputs": [],
   "source": [
    "# We only choose a select list of variables to do polynomial transformation.\n",
    "poly_cols = ['LotFrontage', 'LotArea', 'MasVnrArea', 'BsmtFinSF1', 'BsmtFinSF2', 'BsmtUnfSF', 'TotalBsmtSF',\n",
    "             'X1stFlrSF', 'X2ndFlrSF', 'LowQualFinSF', 'GrLivArea', 'GarageArea', 'WoodDeckSF', 'OpenPorchSF',\n",
    "             'EnclosedPorch', 'X3SsnPorch', 'ScreenPorch', 'MiscVal', 'YearsSince1950Built',\n",
    "             'YearsSince1950Remod', 'YearsSince1950GarageBuilt']"
   ]
  },
  {
   "cell_type": "code",
   "execution_count": 13,
   "metadata": {},
   "outputs": [
    {
     "name": "stdout",
     "output_type": "stream",
     "text": [
      "(1828, 104) (937, 104)\n",
      "(1828, 21) (937, 21)\n",
      "(1828, 125) (937, 125)\n"
     ]
    }
   ],
   "source": [
    "n_degree = 2\n",
    "\n",
    "train_poly_temp = create_polynomial_features(ames_train[poly_cols], n_degree)\n",
    "test_poly_temp = create_polynomial_features(ames_test[poly_cols], n_degree)\n",
    "\n",
    "ames_train_poly = pd.concat([ames_train, train_poly_temp], axis=1)\n",
    "ames_test_poly = pd.concat([ames_test, test_poly_temp], axis=1)\n",
    "\n",
    "print(ames_train.shape, ames_test.shape)\n",
    "print(train_poly_temp.shape, test_poly_temp.shape)\n",
    "print(ames_train_poly.shape, ames_test_poly.shape)"
   ]
  },
  {
   "cell_type": "code",
   "execution_count": 14,
   "metadata": {
    "scrolled": true
   },
   "outputs": [
    {
     "name": "stdout",
     "output_type": "stream",
     "text": [
      "(1828, 125)\n",
      "LogSalePrice~Alley+Artery+AsbShng+AsphShn+BedroomAbvGr+BldgType+BrkCmn+BrkComm+BrkFace+BsmtCond+BsmtExposure+BsmtFinSF1+BsmtFinSF1_p2+BsmtFinSF2+BsmtFinSF2_p2+BsmtFinType1+BsmtFinType2+BsmtFullBath+BsmtHalfBath+BsmtQual+BsmtUnfSF+BsmtUnfSF_p2+CBlock+CemntBd+CentralAir+CmentBd+Electrical+EnclosedPorch+EnclosedPorch_p2+ExterCond+ExterQual+Feedr+Fence+FireplaceQu+Fireplaces+Foundation+FullBath+Functional+GarageArea+GarageArea_p2+GarageCars+GarageCond+GarageFinish+GarageQual+GarageType+GrLivArea+GrLivArea_p2+HalfBath+HdBoard+Heating+HeatingQC+HouseStyle+ImStucc+KitchenAbvGr+KitchenQual+LandContour+LandSlope+LotArea+LotArea_p2+LotConfig+LotFrontage+LotFrontage_p2+LotShape+LowQualFinSF+LowQualFinSF_p2+MSSubClass+MSZoning+MasVnrArea+MasVnrArea_p2+MasVnrType+MetalSd+MiscFeature+MiscVal+MiscVal_p2+MoSold+Neighborhood+Norm+OpenPorchSF+OpenPorchSF_p2+Other+OverallCond+OverallQual+PavedDrive+Plywood+PoolArea+PoolQC+PosA+PosN+PreCast+RRAe+RRAn+RRNe+RRNn+RoofMatl+RoofStyle+SaleCondition+SaleType+ScreenPorch+ScreenPorch_p2+Stone+Street+Stucco+TotRmsAbvGrd+TotalBsmtSF+TotalBsmtSF_p2+Utilities+VinylSd+WdSdng+WdShing+WdShng+WoodDeckSF+WoodDeckSF_p2+X1stFlrSF+X1stFlrSF_p2+X2ndFlrSF+X2ndFlrSF_p2+X3SsnPorch+X3SsnPorch_p2+YearsSince1950Built+YearsSince1950Built_p2+YearsSince1950GarageBuilt+YearsSince1950GarageBuilt_p2+YearsSince1950Remod+YearsSince1950Remod_p2-1\n",
      "                            OLS Regression Results                            \n",
      "==============================================================================\n",
      "Dep. Variable:           LogSalePrice   R-squared:                       0.962\n",
      "Model:                            OLS   Adj. R-squared:                  0.954\n",
      "Method:                 Least Squares   F-statistic:                     118.8\n",
      "Date:                Tue, 05 Nov 2024   Prob (F-statistic):               0.00\n",
      "Time:                        14:27:42   Log-Likelihood:                 2140.1\n",
      "No. Observations:                1828   AIC:                            -3630.\n",
      "Df Residuals:                    1503   BIC:                            -1839.\n",
      "Df Model:                         324                                         \n",
      "Covariance Type:            nonrobust                                         \n",
      "================================================================================================\n",
      "                                   coef    std err          t      P>|t|      [0.025      0.975]\n",
      "------------------------------------------------------------------------------------------------\n",
      "Alley[Grvl]                      4.9635      0.140     35.451      0.000       4.689       5.238\n",
      "Alley[NoAccess]                  4.9859      0.139     35.754      0.000       4.712       5.259\n",
      "Alley[Pave]                      4.9939      0.140     35.609      0.000       4.719       5.269\n",
      "BedroomAbvGr[T.1]               -0.0107      0.074     -0.145      0.885      -0.155       0.134\n",
      "BedroomAbvGr[T.2]               -0.0093      0.074     -0.126      0.900      -0.154       0.136\n",
      "BedroomAbvGr[T.3]               -0.0123      0.074     -0.165      0.869      -0.158       0.133\n",
      "BedroomAbvGr[T.4]               -0.0144      0.075     -0.193      0.847      -0.161       0.132\n",
      "BedroomAbvGr[T.5]               -0.0677      0.077     -0.880      0.379      -0.218       0.083\n",
      "BedroomAbvGr[T.6]                0.0342      0.088      0.389      0.697      -0.138       0.206\n",
      "BldgType[T.2fmCon]              -0.1128      0.106     -1.061      0.289      -0.321       0.096\n",
      "BldgType[T.Duplex]              -0.0287      0.017     -1.726      0.085      -0.061       0.004\n",
      "BldgType[T.Twnhs]               -0.0321      0.042     -0.764      0.445      -0.115       0.050\n",
      "BldgType[T.TwnhsE]               0.0022      0.039      0.057      0.954      -0.074       0.079\n",
      "BsmtCond[T.Fa]                   0.0069      0.055      0.127      0.899      -0.100       0.114\n",
      "BsmtCond[T.Gd]                   0.0116      0.054      0.215      0.830      -0.094       0.117\n",
      "BsmtCond[T.NaN]                 -0.7545      0.043    -17.473      0.000      -0.839      -0.670\n",
      "BsmtCond[T.NoBasement]          -0.0166      0.014     -1.153      0.249      -0.045       0.012\n",
      "BsmtCond[T.Po]                  -0.1085      0.089     -1.216      0.224      -0.284       0.067\n",
      "BsmtCond[T.TA]                   0.0084      0.053      0.158      0.875      -0.096       0.112\n",
      "BsmtExposure[T.Gd]               0.0269      0.010      2.826      0.005       0.008       0.046\n",
      "BsmtExposure[T.Mn]              -0.0260      0.010     -2.672      0.008      -0.045      -0.007\n",
      "BsmtExposure[T.NaN]              0.0131      0.061      0.215      0.830      -0.107       0.133\n",
      "BsmtExposure[T.No]              -0.0217      0.007     -2.959      0.003      -0.036      -0.007\n",
      "BsmtExposure[T.NoBasement]      -0.0166      0.014     -1.153      0.249      -0.045       0.012\n",
      "BsmtFinType1[T.BLQ]             -0.0129      0.009     -1.366      0.172      -0.031       0.006\n",
      "BsmtFinType1[T.GLQ]              0.0008      0.008      0.095      0.924      -0.016       0.017\n",
      "BsmtFinType1[T.LwQ]             -0.0370      0.012     -3.138      0.002      -0.060      -0.014\n",
      "BsmtFinType1[T.NaN]             -0.7545      0.043    -17.473      0.000      -0.839      -0.670\n",
      "BsmtFinType1[T.NoBasement]      -0.0166      0.014     -1.153      0.249      -0.045       0.012\n",
      "BsmtFinType1[T.Rec]             -0.0333      0.009     -3.594      0.000      -0.052      -0.015\n",
      "BsmtFinType1[T.Unf]             -0.0155      0.011     -1.378      0.168      -0.037       0.007\n",
      "BsmtFinType2[T.BLQ]             -0.0291      0.023     -1.248      0.212      -0.075       0.017\n",
      "BsmtFinType2[T.GLQ]             -0.0021      0.027     -0.078      0.938      -0.056       0.051\n",
      "BsmtFinType2[T.LwQ]             -0.0309      0.022     -1.406      0.160      -0.074       0.012\n",
      "BsmtFinType2[T.NaN]             -0.7545      0.043    -17.473      0.000      -0.839      -0.670\n",
      "BsmtFinType2[T.NoBasement]      -0.0166      0.014     -1.153      0.249      -0.045       0.012\n",
      "BsmtFinType2[T.Rec]             -0.0371      0.021     -1.762      0.078      -0.078       0.004\n",
      "BsmtFinType2[T.Unf]             -0.0284      0.025     -1.138      0.255      -0.077       0.021\n",
      "BsmtFullBath[T.1]                0.0120      0.007      1.798      0.072      -0.001       0.025\n",
      "BsmtFullBath[T.2]                0.0812      0.033      2.465      0.014       0.017       0.146\n",
      "BsmtHalfBath[T.1]                0.0145      0.010      1.454      0.146      -0.005       0.034\n",
      "BsmtHalfBath[T.2]                0.1422      0.120      1.187      0.235      -0.093       0.377\n",
      "BsmtQual[T.Fa]                  -0.0543      0.020     -2.696      0.007      -0.094      -0.015\n",
      "BsmtQual[T.Gd]                  -0.0198      0.011     -1.860      0.063      -0.041       0.001\n",
      "BsmtQual[T.NaN]                 -0.7545      0.043    -17.473      0.000      -0.839      -0.670\n",
      "BsmtQual[T.NoBasement]          -0.0166      0.014     -1.153      0.249      -0.045       0.012\n",
      "BsmtQual[T.Po]                   0.0744      0.089      0.836      0.403      -0.100       0.249\n",
      "BsmtQual[T.TA]                  -0.0123      0.014     -0.900      0.368      -0.039       0.015\n",
      "CentralAir[T.Y]                  0.0222      0.013      1.661      0.097      -0.004       0.048\n",
      "Electrical[T.FuseF]             -0.0063      0.022     -0.288      0.774      -0.049       0.037\n",
      "Electrical[T.FuseP]              0.0237      0.056      0.420      0.674      -0.087       0.134\n",
      "Electrical[T.Mix]               -0.1085      0.089     -1.216      0.224      -0.284       0.067\n",
      "Electrical[T.NaN]                0.0382      0.088      0.434      0.664      -0.135       0.211\n",
      "Electrical[T.SBrkr]             -0.0080      0.010     -0.786      0.432      -0.028       0.012\n",
      "ExterCond[T.Fa]                 -0.0025      0.041     -0.060      0.952      -0.084       0.079\n",
      "ExterCond[T.Gd]                  0.0187      0.036      0.516      0.606      -0.052       0.090\n",
      "ExterCond[T.Po]                  1.4030      0.234      6.000      0.000       0.944       1.862\n",
      "ExterCond[T.TA]                  0.0310      0.036      0.861      0.390      -0.040       0.102\n",
      "ExterQual[T.Fa]                 -0.0100      0.039     -0.256      0.798      -0.087       0.067\n",
      "ExterQual[T.Gd]                 -0.0005      0.018     -0.030      0.976      -0.035       0.034\n",
      "ExterQual[T.TA]                 -0.0108      0.019     -0.554      0.580      -0.049       0.027\n",
      "Fence[T.GdWo]                    0.0020      0.016      0.119      0.905      -0.030       0.034\n",
      "Fence[T.MnPrv]                  -0.0081      0.013     -0.613      0.540      -0.034       0.018\n",
      "Fence[T.MnWw]                   -0.0169      0.031     -0.549      0.583      -0.077       0.043\n",
      "Fence[T.NoFence]                -0.0032      0.012     -0.273      0.785      -0.026       0.020\n",
      "FireplaceQu[T.Fa]               -0.0012      0.023     -0.052      0.958      -0.046       0.044\n",
      "FireplaceQu[T.Gd]                0.0051      0.018      0.278      0.781      -0.031       0.041\n",
      "FireplaceQu[T.NoFirePlace]       2.9952      0.082     36.637      0.000       2.835       3.156\n",
      "FireplaceQu[T.Po]               -0.0172      0.025     -0.677      0.499      -0.067       0.033\n",
      "FireplaceQu[T.TA]               -0.0043      0.019     -0.223      0.824      -0.042       0.033\n",
      "Fireplaces[T.1]                  3.0216      0.082     36.907      0.000       2.861       3.182\n",
      "Fireplaces[T.2]                  3.0565      0.082     37.086      0.000       2.895       3.218\n",
      "Fireplaces[T.3]                  3.0135      0.087     34.716      0.000       2.843       3.184\n",
      "Fireplaces[T.4]                  2.8565      0.186     15.394      0.000       2.493       3.220\n",
      "Foundation[T.CBlock]             0.0216      0.011      1.943      0.052      -0.000       0.043\n",
      "Foundation[T.PConc]              0.0242      0.012      2.056      0.040       0.001       0.047\n",
      "Foundation[T.Slab]               0.0018      0.036      0.049      0.961      -0.068       0.072\n",
      "Foundation[T.Stone]             -0.0180      0.047     -0.387      0.698      -0.109       0.073\n",
      "Foundation[T.Wood]               0.0413      0.064      0.641      0.521      -0.085       0.168\n",
      "FullBath[T.1]                    0.0427      0.076      0.565      0.572      -0.105       0.191\n",
      "FullBath[T.2]                    0.0605      0.076      0.792      0.429      -0.089       0.210\n",
      "FullBath[T.3]                    0.1131      0.078      1.448      0.148      -0.040       0.266\n",
      "FullBath[T.4]                  2.24e-14   1.46e-15     15.327      0.000    1.95e-14    2.53e-14\n",
      "Functional[T.Maj2]               0.0230      0.069      0.334      0.739      -0.112       0.158\n",
      "Functional[T.Min1]               0.0628      0.033      1.920      0.055      -0.001       0.127\n",
      "Functional[T.Min2]               0.0276      0.034      0.821      0.412      -0.038       0.094\n",
      "Functional[T.Mod]                0.0274      0.037      0.749      0.454      -0.044       0.099\n",
      "Functional[T.Sal]               -0.3687      0.152     -2.433      0.015      -0.666      -0.071\n",
      "Functional[T.Sev]               -0.2319      0.109     -2.126      0.034      -0.446      -0.018\n",
      "Functional[T.Typ]                0.0875      0.029      3.020      0.003       0.031       0.144\n",
      "GarageCars[T.2]                  0.0186      0.010      1.856      0.064      -0.001       0.038\n",
      "GarageCars[T.3]                  0.0462      0.016      2.849      0.004       0.014       0.078\n",
      "GarageCars[T.4]                  0.0584      0.040      1.466      0.143      -0.020       0.137\n",
      "GarageCars[T.5]               2.698e-15   1.03e-15      2.622      0.009    6.79e-16    4.72e-15\n",
      "GarageCond[T.Fa]                 0.0675      0.082      0.822      0.411      -0.094       0.229\n",
      "GarageCond[T.Gd]                 0.0868      0.083      1.043      0.297      -0.076       0.250\n",
      "GarageCond[T.Po]                 0.1992      0.091      2.185      0.029       0.020       0.378\n",
      "GarageCond[T.TA]                 0.0833      0.081      1.033      0.302      -0.075       0.241\n",
      "GarageFinish[T.RFn]             -0.0010      0.006     -0.156      0.876      -0.013       0.011\n",
      "GarageFinish[T.Unf]             -0.0060      0.008     -0.781      0.435      -0.021       0.009\n",
      "GarageQual[T.Fa]                -0.1885      0.098     -1.923      0.055      -0.381       0.004\n",
      "GarageQual[T.Gd]                -0.1530      0.096     -1.597      0.110      -0.341       0.035\n",
      "GarageQual[T.Po]                -0.1660      0.129     -1.284      0.199      -0.420       0.088\n",
      "GarageQual[T.TA]                -0.1662      0.097     -1.715      0.086      -0.356       0.024\n",
      "GarageType[T.Attchd]             0.0432      0.024      1.821      0.069      -0.003       0.090\n",
      "GarageType[T.Basment]            0.0214      0.033      0.643      0.520      -0.044       0.087\n",
      "GarageType[T.BuiltIn]            0.0358      0.026      1.378      0.168      -0.015       0.087\n",
      "GarageType[T.CarPort]           -0.0107      0.040     -0.271      0.786      -0.088       0.067\n",
      "GarageType[T.Detchd]             0.0555      0.024      2.343      0.019       0.009       0.102\n",
      "HalfBath[T.1]                    0.0209      0.007      2.830      0.005       0.006       0.035\n",
      "HalfBath[T.2]                   -0.0971      0.033     -2.970      0.003      -0.161      -0.033\n",
      "Heating[T.GasA]                  0.1664      0.097      1.716      0.086      -0.024       0.357\n",
      "Heating[T.GasW]                  0.1591      0.100      1.593      0.111      -0.037       0.355\n",
      "Heating[T.Grav]                 -0.0336      0.158     -0.213      0.831      -0.343       0.276\n",
      "Heating[T.OthW]                  0.1002      0.135      0.742      0.458      -0.165       0.365\n",
      "Heating[T.Wall]                  0.1925      0.119      1.624      0.105      -0.040       0.425\n",
      "HeatingQC[T.Fa]                 -0.0532      0.016     -3.393      0.001      -0.084      -0.022\n",
      "HeatingQC[T.Gd]                 -0.0075      0.007     -1.114      0.265      -0.021       0.006\n",
      "HeatingQC[T.Po]                 -0.1181      0.069     -1.702      0.089      -0.254       0.018\n",
      "HeatingQC[T.TA]                 -0.0306      0.007     -4.461      0.000      -0.044      -0.017\n",
      "HouseStyle[T.1.5Unf]            -0.0012      0.074     -0.016      0.987      -0.146       0.144\n",
      "HouseStyle[T.1Story]             0.0209      0.033      0.636      0.525      -0.044       0.085\n",
      "HouseStyle[T.2.5Fin]            -0.0739      0.070     -1.055      0.292      -0.211       0.063\n",
      "HouseStyle[T.2.5Unf]             0.0440      0.046      0.957      0.339      -0.046       0.134\n",
      "HouseStyle[T.2Story]             0.0046      0.031      0.146      0.884      -0.057       0.066\n",
      "HouseStyle[T.SFoyer]             0.0292      0.045      0.652      0.515      -0.059       0.117\n",
      "HouseStyle[T.SLvl]               0.0588      0.047      1.262      0.207      -0.033       0.150\n",
      "KitchenAbvGr[T.1]               -0.1250      0.091     -1.367      0.172      -0.304       0.054\n",
      "KitchenAbvGr[T.2]               -0.1718      0.097     -1.778      0.076      -0.361       0.018\n",
      "KitchenAbvGr[T.3]            -4.375e-15   1.12e-15     -3.897      0.000   -6.58e-15   -2.17e-15\n",
      "KitchenQual[T.Fa]               -0.0534      0.022     -2.404      0.016      -0.097      -0.010\n",
      "KitchenQual[T.Gd]               -0.0446      0.012     -3.674      0.000      -0.068      -0.021\n",
      "KitchenQual[T.Po]             -5.42e-16   1.14e-15     -0.477      0.634   -2.77e-15    1.69e-15\n",
      "KitchenQual[T.TA]               -0.0542      0.014     -3.990      0.000      -0.081      -0.028\n",
      "LandContour[T.HLS]               0.0213      0.017      1.256      0.209      -0.012       0.055\n",
      "LandContour[T.Low]               0.0109      0.024      0.454      0.650      -0.036       0.058\n",
      "LandContour[T.Lvl]               0.0052      0.013      0.402      0.688      -0.020       0.030\n",
      "LandSlope[T.Mod]                 0.0163      0.014      1.191      0.234      -0.011       0.043\n",
      "LandSlope[T.Sev]                 0.0025      0.042      0.060      0.952      -0.081       0.086\n",
      "LotConfig[T.CulDSac]             0.0096      0.011      0.874      0.382      -0.012       0.031\n",
      "LotConfig[T.FR2]                -0.0247      0.014     -1.741      0.082      -0.053       0.003\n",
      "LotConfig[T.FR3]                -0.0092      0.028     -0.329      0.742      -0.064       0.046\n",
      "LotConfig[T.Inside]             -0.0009      0.006     -0.150      0.880      -0.013       0.011\n",
      "LotShape[T.IR2]                 -0.0044      0.013     -0.329      0.742      -0.031       0.022\n",
      "LotShape[T.IR3]                  0.0037      0.028      0.132      0.895      -0.051       0.059\n",
      "LotShape[T.Reg]                  0.0005      0.005      0.093      0.926      -0.010       0.011\n",
      "MSSubClass[T.30]                -0.0582      0.017     -3.491      0.000      -0.091      -0.026\n",
      "MSSubClass[T.40]                -0.0310      0.049     -0.626      0.531      -0.128       0.066\n",
      "MSSubClass[T.45]                 0.0251      0.076      0.330      0.742      -0.124       0.175\n",
      "MSSubClass[T.50]                 0.0112      0.031      0.357      0.721      -0.050       0.073\n",
      "MSSubClass[T.60]                -0.0209      0.031     -0.665      0.506      -0.082       0.041\n",
      "MSSubClass[T.70]                 0.0243      0.033      0.733      0.464      -0.041       0.090\n",
      "MSSubClass[T.75]                 0.0014      0.049      0.028      0.978      -0.095       0.098\n",
      "MSSubClass[T.80]                -0.0559      0.043     -1.305      0.192      -0.140       0.028\n",
      "MSSubClass[T.85]                 0.0159      0.039      0.412      0.680      -0.060       0.092\n",
      "MSSubClass[T.90]                -0.0287      0.017     -1.726      0.085      -0.061       0.004\n",
      "MSSubClass[T.120]               -0.0302      0.039     -0.766      0.444      -0.108       0.047\n",
      "MSSubClass[T.150]               -0.1521      0.118     -1.284      0.199      -0.384       0.080\n",
      "MSSubClass[T.160]               -0.1089      0.053     -2.065      0.039      -0.212      -0.005\n",
      "MSSubClass[T.180]               -0.0694      0.062     -1.116      0.265      -0.192       0.053\n",
      "MSSubClass[T.190]                0.0679      0.104      0.652      0.514      -0.136       0.272\n",
      "MSZoning[T.C]                    1.4713      0.059     24.956      0.000       1.356       1.587\n",
      "MSZoning[T.FV]                   1.7984      0.051     35.292      0.000       1.698       1.898\n",
      "MSZoning[T.I]                    1.4924      0.141     10.608      0.000       1.216       1.768\n",
      "MSZoning[T.RH]                   1.7684      0.053     33.281      0.000       1.664       1.873\n",
      "MSZoning[T.RL]                   1.7799      0.048     37.131      0.000       1.686       1.874\n",
      "MSZoning[T.RM]                   1.7332      0.049     35.721      0.000       1.638       1.828\n",
      "MasVnrType[T.BrkFace]            0.0196      0.023      0.862      0.389      -0.025       0.064\n",
      "MasVnrType[T.CBlock]            -0.3480      0.117     -2.965      0.003      -0.578      -0.118\n",
      "MasVnrType[T.NaN]                0.0277      0.024      1.180      0.238      -0.018       0.074\n",
      "MasVnrType[T.Stone]              0.0157      0.024      0.651      0.515      -0.032       0.063\n",
      "MiscFeature[T.NaN]               0.0236      0.087      0.272      0.786      -0.147       0.194\n",
      "MiscFeature[T.Othr]              0.0872      0.087      0.999      0.318      -0.084       0.258\n",
      "MiscFeature[T.Shed]             -0.0027      0.079     -0.034      0.973      -0.157       0.151\n",
      "MiscFeature[T.TenC]             -0.3784      0.162     -2.341      0.019      -0.695      -0.061\n",
      "MoSold[T.2]                     -0.0384      0.015     -2.507      0.012      -0.068      -0.008\n",
      "MoSold[T.3]                     -0.0219      0.014     -1.577      0.115      -0.049       0.005\n",
      "MoSold[T.4]                     -0.0083      0.014     -0.610      0.542      -0.035       0.018\n",
      "MoSold[T.5]                      0.0011      0.013      0.086      0.932      -0.024       0.026\n",
      "MoSold[T.6]                     -0.0017      0.012     -0.139      0.890      -0.026       0.023\n",
      "MoSold[T.7]                      0.0033      0.012      0.266      0.790      -0.021       0.028\n",
      "MoSold[T.8]                     -0.0147      0.013     -1.112      0.266      -0.041       0.011\n",
      "MoSold[T.9]                      0.0037      0.014      0.257      0.798      -0.024       0.032\n",
      "MoSold[T.10]                    -0.0216      0.014     -1.533      0.126      -0.049       0.006\n",
      "MoSold[T.11]                    -0.0103      0.014     -0.714      0.475      -0.038       0.018\n",
      "MoSold[T.12]                    -0.0104      0.015     -0.677      0.499      -0.040       0.020\n",
      "Neighborhood[T.Blueste]          0.1267      0.054      2.326      0.020       0.020       0.234\n",
      "Neighborhood[T.BrDale]           0.0042      0.039      0.107      0.915      -0.073       0.081\n",
      "Neighborhood[T.BrkSide]          0.0211      0.032      0.657      0.511      -0.042       0.084\n",
      "Neighborhood[T.ClearCr]          0.0209      0.034      0.621      0.534      -0.045       0.087\n",
      "Neighborhood[T.CollgCr]         -0.0314      0.025     -1.238      0.216      -0.081       0.018\n",
      "Neighborhood[T.Crawfor]          0.0772      0.029      2.663      0.008       0.020       0.134\n",
      "Neighborhood[T.Edwards]         -0.0495      0.028     -1.789      0.074      -0.104       0.005\n",
      "Neighborhood[T.Gilbert]         -0.0302      0.026     -1.154      0.249      -0.082       0.021\n",
      "Neighborhood[T.Greens]           0.0771      0.052      1.483      0.138      -0.025       0.179\n",
      "Neighborhood[T.GrnHill]          0.4596      0.069      6.657      0.000       0.324       0.595\n",
      "Neighborhood[T.IDOTRR]           0.0129      0.035      0.367      0.714      -0.056       0.082\n",
      "Neighborhood[T.Landmrk]          0.0131      0.094      0.139      0.890      -0.172       0.198\n",
      "Neighborhood[T.MeadowV]         -0.0561      0.041     -1.361      0.174      -0.137       0.025\n",
      "Neighborhood[T.Mitchel]         -0.0392      0.028     -1.384      0.166      -0.095       0.016\n",
      "Neighborhood[T.NAmes]           -0.0209      0.027     -0.773      0.440      -0.074       0.032\n",
      "Neighborhood[T.NPkVill]          0.0059      0.057      0.103      0.918      -0.106       0.118\n",
      "Neighborhood[T.NWAmes]          -0.0254      0.028     -0.901      0.368      -0.081       0.030\n",
      "Neighborhood[T.NoRidge]          0.0299      0.030      1.001      0.317      -0.029       0.089\n",
      "Neighborhood[T.NridgHt]          0.0288      0.026      1.104      0.270      -0.022       0.080\n",
      "Neighborhood[T.OldTown]         -0.0178      0.032     -0.551      0.581      -0.081       0.046\n",
      "Neighborhood[T.SWISU]           -0.0364      0.035     -1.046      0.296      -0.105       0.032\n",
      "Neighborhood[T.Sawyer]           0.0084      0.028      0.302      0.762      -0.046       0.063\n",
      "Neighborhood[T.SawyerW]         -0.0412      0.028     -1.487      0.137      -0.096       0.013\n",
      "Neighborhood[T.Somerst]          0.0144      0.030      0.488      0.626      -0.044       0.073\n",
      "Neighborhood[T.StoneBr]          0.0710      0.030      2.367      0.018       0.012       0.130\n",
      "Neighborhood[T.Timber]          -0.0154      0.027     -0.563      0.574      -0.069       0.038\n",
      "Neighborhood[T.Veenker]         -0.0114      0.034     -0.341      0.733      -0.077       0.054\n",
      "OverallCond[T.2]                 0.0450      0.158      0.284      0.776      -0.266       0.356\n",
      "OverallCond[T.3]                 0.0153      0.122      0.126      0.900      -0.224       0.255\n",
      "OverallCond[T.4]                 0.1183      0.122      0.971      0.332      -0.121       0.357\n",
      "OverallCond[T.5]                 0.2038      0.122      1.673      0.094      -0.035       0.443\n",
      "OverallCond[T.6]                 0.2354      0.122      1.926      0.054      -0.004       0.475\n",
      "OverallCond[T.7]                 0.2765      0.122      2.259      0.024       0.036       0.517\n",
      "OverallCond[T.8]                 0.2983      0.122      2.438      0.015       0.058       0.538\n",
      "OverallCond[T.9]                 0.3423      0.125      2.748      0.006       0.098       0.587\n",
      "OverallQual[T.2]                 0.7610      0.058     13.213      0.000       0.648       0.874\n",
      "OverallQual[T.3]                 1.0193      0.037     27.679      0.000       0.947       1.092\n",
      "OverallQual[T.4]                 1.0455      0.031     33.832      0.000       0.985       1.106\n",
      "OverallQual[T.5]                 1.1034      0.030     36.215      0.000       1.044       1.163\n",
      "OverallQual[T.6]                 1.1296      0.031     36.839      0.000       1.069       1.190\n",
      "OverallQual[T.7]                 1.1648      0.031     37.683      0.000       1.104       1.225\n",
      "OverallQual[T.8]                 1.2162      0.032     38.586      0.000       1.154       1.278\n",
      "OverallQual[T.9]                 1.2776      0.034     38.117      0.000       1.212       1.343\n",
      "OverallQual[T.10]                1.3260      0.038     34.507      0.000       1.251       1.401\n",
      "PavedDrive[T.P]                  0.0032      0.018      0.177      0.859      -0.032       0.039\n",
      "PavedDrive[T.Y]                  0.0293      0.013      2.332      0.020       0.005       0.054\n",
      "PoolQC[T.Fa]                     0.3093      0.167      1.852      0.064      -0.018       0.637\n",
      "PoolQC[T.Gd]                     0.4395      0.156      2.824      0.005       0.134       0.745\n",
      "PoolQC[T.NoPool]                -0.2178      0.108     -2.012      0.044      -0.430      -0.005\n",
      "PoolQC[T.TA]                     0.0348      0.104      0.333      0.739      -0.170       0.239\n",
      "RoofMatl[T.Membran]              0.0795      0.115      0.689      0.491      -0.147       0.306\n",
      "RoofMatl[T.Metal]                0.0230      0.112      0.206      0.837      -0.197       0.243\n",
      "RoofMatl[T.Roll]                 0.0743      0.096      0.774      0.439      -0.114       0.262\n",
      "RoofMatl[T.Tar&Grv]             -0.0012      0.045     -0.026      0.979      -0.090       0.087\n",
      "RoofMatl[T.WdShake]             -0.0181      0.038     -0.472      0.637      -0.093       0.057\n",
      "RoofMatl[T.WdShngl]              0.0631      0.051      1.227      0.220      -0.038       0.164\n",
      "RoofStyle[T.Gable]              -0.0082      0.052     -0.158      0.874      -0.110       0.093\n",
      "RoofStyle[T.Gambrel]            -0.0521      0.058     -0.904      0.366      -0.165       0.061\n",
      "RoofStyle[T.Hip]                -0.0008      0.052     -0.015      0.988      -0.103       0.101\n",
      "RoofStyle[T.Mansard]            -0.1099      0.064     -1.711      0.087      -0.236       0.016\n",
      "RoofStyle[T.Shed]               -0.0457      0.081     -0.563      0.574      -0.205       0.113\n",
      "SaleCondition[T.AdjLand]         0.2002      0.043      4.658      0.000       0.116       0.285\n",
      "SaleCondition[T.Alloca]          0.0725      0.034      2.127      0.034       0.006       0.139\n",
      "SaleCondition[T.Family]          0.0227      0.018      1.233      0.218      -0.013       0.059\n",
      "SaleCondition[T.Normal]          0.0390      0.010      3.881      0.000       0.019       0.059\n",
      "SaleCondition[T.Partial]         0.0961      0.046      2.077      0.038       0.005       0.187\n",
      "SaleType[T.CWD]                  0.0156      0.029      0.539      0.590      -0.041       0.072\n",
      "SaleType[T.Con]                  0.0544      0.054      1.007      0.314      -0.052       0.160\n",
      "SaleType[T.ConLD]                0.0277      0.031      0.898      0.369      -0.033       0.088\n",
      "SaleType[T.ConLI]               -0.2024      0.057     -3.531      0.000      -0.315      -0.090\n",
      "SaleType[T.ConLw]               -0.1059      0.048     -2.196      0.028      -0.201      -0.011\n",
      "SaleType[T.New]                 -0.0274      0.048     -0.567      0.571      -0.122       0.067\n",
      "SaleType[T.Oth]                  0.1478      0.088      1.678      0.094      -0.025       0.321\n",
      "SaleType[T.VWD]                 -0.0313      0.090     -0.348      0.728      -0.208       0.145\n",
      "SaleType[T.WD ]                  0.0034      0.014      0.245      0.806      -0.024       0.031\n",
      "Street[T.Pave]                   0.0204      0.044      0.460      0.645      -0.067       0.107\n",
      "TotRmsAbvGrd[T.4]                0.0211      0.032      0.670      0.503      -0.041       0.083\n",
      "TotRmsAbvGrd[T.5]                0.0158      0.032      0.497      0.619      -0.046       0.078\n",
      "TotRmsAbvGrd[T.6]                0.0185      0.033      0.568      0.570      -0.045       0.082\n",
      "TotRmsAbvGrd[T.7]                0.0113      0.034      0.337      0.736      -0.055       0.077\n",
      "TotRmsAbvGrd[T.8]                0.0164      0.035      0.474      0.636      -0.052       0.084\n",
      "TotRmsAbvGrd[T.9]               -0.0057      0.036     -0.158      0.874      -0.077       0.065\n",
      "TotRmsAbvGrd[T.10]              -0.0178      0.039     -0.462      0.644      -0.093       0.058\n",
      "TotRmsAbvGrd[T.11]              -0.0326      0.042     -0.768      0.443      -0.116       0.051\n",
      "TotRmsAbvGrd[T.12]               0.0897      0.076      1.180      0.238      -0.059       0.239\n",
      "TotRmsAbvGrd[T.13]           -3.155e-16   9.89e-17     -3.189      0.001    -5.1e-16   -1.21e-16\n",
      "Utilities[T.NoSeWa]           2.269e-16   1.48e-16      1.532      0.126   -6.37e-17    5.17e-16\n",
      "Utilities[T.NoSewr]             -0.1244      0.137     -0.907      0.364      -0.394       0.145\n",
      "Artery                          -0.0918      0.015     -6.155      0.000      -0.121      -0.063\n",
      "AsbShng                         -0.0204      0.024     -0.844      0.399      -0.068       0.027\n",
      "AsphShn                          0.1508      0.068      2.231      0.026       0.018       0.283\n",
      "BrkCmn                           0.0462      0.062      0.747      0.455      -0.075       0.167\n",
      "BrkComm                          0.1891      0.066      2.877      0.004       0.060       0.318\n",
      "BrkFace                          0.0648      0.015      4.445      0.000       0.036       0.093\n",
      "BsmtFinSF1                     9.94e-05   2.54e-05      3.915      0.000    4.96e-05       0.000\n",
      "BsmtFinSF1_p2                -3.784e-08   1.73e-08     -2.187      0.029   -7.18e-08   -3.89e-09\n",
      "BsmtFinSF2                   -1.364e-06   5.17e-05     -0.026      0.979      -0.000       0.000\n",
      "BsmtFinSF2_p2                 4.068e-08   5.78e-08      0.704      0.481   -7.26e-08    1.54e-07\n",
      "BsmtUnfSF                    -3.462e-05    2.4e-05     -1.444      0.149   -8.17e-05    1.24e-05\n",
      "BsmtUnfSF_p2                  8.152e-09   1.12e-08      0.729      0.466   -1.38e-08    3.01e-08\n",
      "CBlock                           2.7422      0.110     24.878      0.000       2.526       2.958\n",
      "CemntBd                         -0.0743      0.065     -1.142      0.254      -0.202       0.053\n",
      "CmentBd                          0.0959      0.065      1.470      0.142      -0.032       0.224\n",
      "EnclosedPorch                -9.118e-05   6.25e-05     -1.458      0.145      -0.000    3.15e-05\n",
      "EnclosedPorch_p2              4.909e-07   1.46e-07      3.369      0.001    2.05e-07    7.77e-07\n",
      "Feedr                           -0.0555      0.011     -5.251      0.000      -0.076      -0.035\n",
      "GarageArea                   -4.593e-06   8.08e-05     -0.057      0.955      -0.000       0.000\n",
      "GarageArea_p2                 5.741e-08   5.91e-08      0.971      0.332   -5.86e-08    1.73e-07\n",
      "GrLivArea                        0.0003   7.98e-05      3.686      0.000       0.000       0.000\n",
      "GrLivArea_p2                 -3.041e-08   1.26e-08     -2.421      0.016    -5.5e-08   -5.77e-09\n",
      "HdBoard                          0.0004      0.012      0.034      0.973      -0.023       0.024\n",
      "ImStucc                         -0.0246      0.030     -0.834      0.404      -0.083       0.033\n",
      "LotArea                       6.268e-06   8.91e-07      7.035      0.000    4.52e-06    8.02e-06\n",
      "LotArea_p2                   -3.289e-11   6.34e-12     -5.186      0.000   -4.53e-11   -2.05e-11\n",
      "LotFrontage                   -7.06e-06      0.000     -0.047      0.962      -0.000       0.000\n",
      "LotFrontage_p2                5.364e-07   1.16e-06      0.464      0.643   -1.73e-06    2.81e-06\n",
      "LowQualFinSF                  2.652e-05      0.000      0.119      0.905      -0.000       0.000\n",
      "LowQualFinSF_p2              -7.349e-08   5.25e-07     -0.140      0.889    -1.1e-06    9.57e-07\n",
      "MasVnrArea                    9.059e-05   4.38e-05      2.069      0.039    4.73e-06       0.000\n",
      "MasVnrArea_p2                -4.991e-08      4e-08     -1.249      0.212   -1.28e-07    2.85e-08\n",
      "MetalSd                          0.0174      0.012      1.416      0.157      -0.007       0.042\n",
      "MiscVal                       2.305e-05   2.05e-05      1.126      0.260   -1.71e-05    6.32e-05\n",
      "MiscVal_p2                   -9.851e-10   1.21e-09     -0.814      0.416   -3.36e-09    1.39e-09\n",
      "Norm                             0.0571      0.026      2.196      0.028       0.006       0.108\n",
      "OpenPorchSF                   8.498e-05   7.67e-05      1.108      0.268   -6.55e-05       0.000\n",
      "OpenPorchSF_p2                1.204e-07   2.54e-07      0.474      0.636   -3.78e-07    6.19e-07\n",
      "Other                           -0.0595      0.087     -0.683      0.494      -0.230       0.111\n",
      "Plywood                          0.0006      0.011      0.052      0.959      -0.022       0.023\n",
      "PoolArea                        -0.0007      0.000     -2.091      0.037      -0.001   -4.32e-05\n",
      "PosA                             0.0471      0.027      1.773      0.076      -0.005       0.099\n",
      "PosN                             0.0237      0.020      1.164      0.245      -0.016       0.064\n",
      "PreCast                      -3.194e-19   1.39e-17     -0.023      0.982   -2.75e-17    2.69e-17\n",
      "RRAe                            -0.0554      0.023     -2.460      0.014      -0.100      -0.011\n",
      "RRAn                            -0.0160      0.016     -0.989      0.323      -0.048       0.016\n",
      "RRNe                            -0.0211      0.046     -0.456      0.649      -0.112       0.070\n",
      "RRNn                             0.0639      0.041      1.559      0.119      -0.016       0.144\n",
      "ScreenPorch                      0.0003   9.24e-05      3.149      0.002       0.000       0.000\n",
      "ScreenPorch_p2               -4.331e-07   3.31e-07     -1.310      0.190   -1.08e-06    2.16e-07\n",
      "Stone                           -0.0021      0.047     -0.044      0.965      -0.095       0.091\n",
      "Stucco                           0.0205      0.019      1.108      0.268      -0.016       0.057\n",
      "TotalBsmtSF                   6.341e-05   3.41e-05      1.859      0.063   -3.49e-06       0.000\n",
      "TotalBsmtSF_p2                3.152e-09   1.53e-08      0.206      0.837   -2.69e-08    3.32e-08\n",
      "VinylSd                          0.0059      0.013      0.457      0.648      -0.019       0.031\n",
      "WdSdng                           0.0088      0.012      0.727      0.467      -0.015       0.033\n",
      "WdShing                          0.0061      0.022      0.278      0.781      -0.037       0.049\n",
      "WdShng                           0.0041      0.018      0.231      0.818      -0.031       0.039\n",
      "WoodDeckSF                    8.018e-05   3.14e-05      2.550      0.011    1.85e-05       0.000\n",
      "WoodDeckSF_p2                -7.926e-08   5.42e-08     -1.462      0.144   -1.86e-07    2.71e-08\n",
      "X1stFlrSF                        0.0002   8.13e-05      2.313      0.021    2.86e-05       0.000\n",
      "X1stFlrSF_p2                 -2.878e-08    1.4e-08     -2.059      0.040   -5.62e-08   -1.37e-09\n",
      "X2ndFlrSF                     7.968e-05   7.94e-05      1.004      0.315    -7.6e-05       0.000\n",
      "X2ndFlrSF_p2                  1.574e-08   2.92e-08      0.540      0.589   -4.15e-08    7.29e-08\n",
      "X3SsnPorch                    8.546e-05      0.000      0.292      0.770      -0.000       0.001\n",
      "X3SsnPorch_p2                 4.591e-07   1.04e-06      0.443      0.658   -1.57e-06    2.49e-06\n",
      "YearsSince1950Built           5.089e-05      0.001      0.036      0.972      -0.003       0.003\n",
      "YearsSince1950Built_p2        6.621e-05   2.77e-05      2.393      0.017    1.19e-05       0.000\n",
      "YearsSince1950GarageBuilt        0.0006      0.001      0.528      0.597      -0.002       0.003\n",
      "YearsSince1950GarageBuilt_p2 -1.493e-05   2.13e-05     -0.700      0.484   -5.68e-05    2.69e-05\n",
      "YearsSince1950Remod              0.0015      0.001      1.889      0.059   -5.77e-05       0.003\n",
      "YearsSince1950Remod_p2       -2.076e-05   1.44e-05     -1.444      0.149    -4.9e-05    7.45e-06\n",
      "==============================================================================\n",
      "Omnibus:                      303.264   Durbin-Watson:                   1.912\n",
      "Prob(Omnibus):                  0.000   Jarque-Bera (JB):             2249.910\n",
      "Skew:                          -0.564   Prob(JB):                         0.00\n",
      "Kurtosis:                       8.317   Cond. No.                     4.48e+17\n",
      "==============================================================================\n",
      "\n",
      "Notes:\n",
      "[1] Standard Errors assume that the covariance matrix of the errors is correctly specified.\n",
      "[2] The smallest eigenvalue is 8.45e-15. This might indicate that there are\n",
      "strong multicollinearity problems or that the design matrix is singular.\n"
     ]
    }
   ],
   "source": [
    "print(ames_train_poly.shape)\n",
    "all_columns = \"+\".join(ames_train_poly.columns.difference([\"LogSalePrice\"]))\n",
    "my_formula = \"LogSalePrice~\" + all_columns +'-1'\n",
    "print(my_formula)\n",
    "\n",
    "mod_naive_poly = smf.ols(my_formula, data=ames_train_poly)\n",
    "nlr_poly = mod_naive_poly.fit()\n",
    "\n",
    "print(nlr_poly.summary())"
   ]
  },
  {
   "cell_type": "code",
   "execution_count": 15,
   "metadata": {
    "scrolled": false
   },
   "outputs": [
    {
     "name": "stdout",
     "output_type": "stream",
     "text": [
      "\n",
      "Metrics for Log(Sale Price):\n",
      "\n",
      "Training R2 0.9624105774575185\n",
      "Training MAE 0.05428713187831344\n",
      "Training RMSE 0.07504602800253764\n",
      "Out-of-sample R2 0.8389618470389943\n",
      "Out-of-sample MAE 0.08377525015006256\n",
      "Out-of-sample RMSE 0.15893909023513655\n",
      "\n",
      "Metrics for Sale Price:\n",
      "\n",
      "Training R2 0.9640398351503799\n",
      "Training MAE 9959.9415261308\n",
      "Training RMSE 14814.210314147367\n",
      "Out-of-sample R2 0.42824990275266905\n",
      "Out-of-sample MAE 15888.470959526549\n",
      "Out-of-sample RMSE 59264.318499926754\n"
     ]
    }
   ],
   "source": [
    "print_metrics(nlr_poly, ames_train_poly, y_train, ames_test_poly, y_test, flag_log_sale_price = True)\n",
    "print_metrics(nlr_poly, ames_train_poly, y_train, ames_test_poly, y_test, flag_log_sale_price = False)"
   ]
  },
  {
   "cell_type": "code",
   "execution_count": 16,
   "metadata": {},
   "outputs": [],
   "source": [
    "from sklearn.preprocessing import StandardScaler\n",
    "from sklearn.decomposition import PCA\n",
    "from sklearn.linear_model import LinearRegression\n",
    "from sklearn.linear_model import Ridge\n",
    "from sklearn.linear_model import Lasso"
   ]
  },
  {
   "cell_type": "markdown",
   "metadata": {},
   "source": [
    "## Tuning parameters for LASSO"
   ]
  },
  {
   "cell_type": "code",
   "execution_count": 17,
   "metadata": {},
   "outputs": [],
   "source": [
    "X_train_poly = ames_train_poly.drop(columns='LogSalePrice')\n",
    "X_test_poly = ames_test_poly.drop(columns='LogSalePrice')\n",
    "\n",
    "X_train_poly_wide = pd.get_dummies(X_train_poly)\n",
    "X_test_poly_wide = pd.get_dummies(X_test_poly)"
   ]
  },
  {
   "cell_type": "code",
   "execution_count": 18,
   "metadata": {},
   "outputs": [
    {
     "name": "stdout",
     "output_type": "stream",
     "text": [
      "(1828, 397) (937, 397)\n"
     ]
    }
   ],
   "source": [
    "X_train_lasso = X_train_poly_wide\n",
    "X_test_lasso = X_test_poly_wide\n",
    "\n",
    "print(X_train_lasso.shape, X_test_lasso.shape)"
   ]
  },
  {
   "cell_type": "code",
   "execution_count": null,
   "metadata": {},
   "outputs": [],
   "source": []
  },
  {
   "cell_type": "code",
   "execution_count": 19,
   "metadata": {},
   "outputs": [
    {
     "name": "stdout",
     "output_type": "stream",
     "text": [
      "\n",
      "Metrics for Log(Sale Price):\n",
      "\n",
      "Training R2 0.8434328276296639\n",
      "Training MAE 0.10512146274745086\n",
      "Training RMSE 0.15315995785273875\n",
      "Out-of-sample R2 0.8272606660089641\n",
      "Out-of-sample MAE 0.11098188208314018\n",
      "Out-of-sample RMSE 0.1646121748477917\n",
      "\n",
      "Metrics for Sale Price:\n",
      "\n",
      "Training R2 0.8771753803277366\n",
      "Training MAE 18703.62412014218\n",
      "Training RMSE 27378.546173438564\n",
      "Out-of-sample R2 0.8763647003108185\n",
      "Out-of-sample MAE 19243.304403735783\n",
      "Out-of-sample RMSE 27558.870499831355\n"
     ]
    }
   ],
   "source": [
    "alpha = 0.1\n",
    "lasso = Lasso(alpha=alpha, random_state=88)\n",
    "lasso.fit(X_train_lasso, y_train)\n",
    "print_metrics(lasso, X_train_lasso, y_train, X_test_lasso, y_test, flag_log_sale_price = True)\n",
    "print_metrics(lasso, X_train_lasso, y_train, X_test_lasso, y_test, flag_log_sale_price = False)"
   ]
  },
  {
   "cell_type": "code",
   "execution_count": 20,
   "metadata": {},
   "outputs": [
    {
     "name": "stdout",
     "output_type": "stream",
     "text": [
      "\n",
      "Metrics for Log(Sale Price):\n",
      "\n",
      "Training R2 0.8499429858739374\n",
      "Training MAE 0.10300561266815048\n",
      "Training RMSE 0.1499419084810546\n",
      "Out-of-sample R2 0.8220062230158947\n",
      "Out-of-sample MAE 0.11032085223765256\n",
      "Out-of-sample RMSE 0.16709703425025807\n",
      "\n",
      "Metrics for Sale Price:\n",
      "\n",
      "Training R2 0.8817688305547458\n",
      "Training MAE 18354.387859038405\n",
      "Training RMSE 26861.71033834519\n",
      "Out-of-sample R2 0.8640371155817245\n",
      "Out-of-sample MAE 19243.388183114424\n",
      "Out-of-sample RMSE 28900.16723185019\n"
     ]
    }
   ],
   "source": [
    "alpha = 1e-2\n",
    "lasso = Lasso(alpha=alpha, random_state=88)\n",
    "lasso.fit(X_train_lasso, y_train)\n",
    "print_metrics(lasso, X_train_lasso, y_train, X_test_lasso, y_test, flag_log_sale_price = True)\n",
    "print_metrics(lasso, X_train_lasso, y_train, X_test_lasso, y_test, flag_log_sale_price = False)"
   ]
  },
  {
   "cell_type": "code",
   "execution_count": 21,
   "metadata": {},
   "outputs": [
    {
     "name": "stdout",
     "output_type": "stream",
     "text": [
      "\n",
      "Metrics for Log(Sale Price):\n",
      "\n",
      "Training R2 0.930121322344742\n",
      "Training MAE 0.0693863840072313\n",
      "Training RMSE 0.10232157655865007\n",
      "Out-of-sample R2 0.8874024847675652\n",
      "Out-of-sample MAE 0.08314147804623102\n",
      "Out-of-sample RMSE 0.13290176107494575\n",
      "\n",
      "Metrics for Sale Price:\n",
      "\n",
      "Training R2 0.9414769024277362\n",
      "Training MAE 12459.409164012955\n",
      "Training RMSE 18898.673470545342\n",
      "Out-of-sample R2 0.9194885352942028\n",
      "Out-of-sample MAE 14287.152645232196\n",
      "Out-of-sample RMSE 22239.193567377857\n"
     ]
    }
   ],
   "source": [
    "alpha = 1e-3\n",
    "lasso = Lasso(alpha=alpha, random_state=88)\n",
    "lasso.fit(X_train_lasso, y_train)\n",
    "print_metrics(lasso, X_train_lasso, y_train, X_test_lasso, y_test, flag_log_sale_price = True)\n",
    "print_metrics(lasso, X_train_lasso, y_train, X_test_lasso, y_test, flag_log_sale_price = False)"
   ]
  },
  {
   "cell_type": "code",
   "execution_count": 22,
   "metadata": {},
   "outputs": [
    {
     "name": "stdout",
     "output_type": "stream",
     "text": [
      "\n",
      "Metrics for Log(Sale Price):\n",
      "\n",
      "Training R2 0.9591387227010627\n",
      "Training MAE 0.05679795053144252\n",
      "Training RMSE 0.07824396555230513\n",
      "Out-of-sample R2 0.8989936623088266\n",
      "Out-of-sample MAE 0.07800037399372267\n",
      "Out-of-sample RMSE 0.12587533655731084\n",
      "\n",
      "Metrics for Sale Price:\n",
      "\n",
      "Training R2 0.9611684976129613\n",
      "Training MAE 10369.737135417017\n",
      "Training RMSE 15394.293622412848\n",
      "Out-of-sample R2 0.9310061238902255\n",
      "Out-of-sample MAE 13389.285161194184\n",
      "Out-of-sample RMSE 20587.112764707137\n"
     ]
    }
   ],
   "source": [
    "alpha = 1e-4\n",
    "lasso = Lasso(alpha=alpha, random_state=88)\n",
    "lasso.fit(X_train_lasso, y_train)\n",
    "print_metrics(lasso, X_train_lasso, y_train, X_test_lasso, y_test, flag_log_sale_price = True)\n",
    "print_metrics(lasso, X_train_lasso, y_train, X_test_lasso, y_test, flag_log_sale_price = False)"
   ]
  },
  {
   "cell_type": "code",
   "execution_count": 23,
   "metadata": {},
   "outputs": [
    {
     "name": "stdout",
     "output_type": "stream",
     "text": [
      "\n",
      "Metrics for Log(Sale Price):\n",
      "\n",
      "Training R2 0.9622832237041625\n",
      "Training MAE 0.05457420034317798\n",
      "Training RMSE 0.0751730492656569\n",
      "Out-of-sample R2 0.8881083316233747\n",
      "Out-of-sample MAE 0.07994225740632856\n",
      "Out-of-sample RMSE 0.13248454152958558\n",
      "\n",
      "Metrics for Sale Price:\n",
      "\n",
      "Training R2 0.9638757207480595\n",
      "Training MAE 10010.81646880421\n",
      "Training RMSE 14847.976256226326\n",
      "Out-of-sample R2 0.9272909790616876\n",
      "Out-of-sample MAE 13681.307280622397\n",
      "Out-of-sample RMSE 21134.127319826755\n"
     ]
    }
   ],
   "source": [
    "alpha = 1e-5\n",
    "lasso = Lasso(alpha=alpha, random_state=88)\n",
    "lasso.fit(X_train_lasso, y_train)\n",
    "print_metrics(lasso, X_train_lasso, y_train, X_test_lasso, y_test, flag_log_sale_price = True)\n",
    "print_metrics(lasso, X_train_lasso, y_train, X_test_lasso, y_test, flag_log_sale_price = False)"
   ]
  },
  {
   "cell_type": "code",
   "execution_count": 24,
   "metadata": {},
   "outputs": [
    {
     "name": "stdout",
     "output_type": "stream",
     "text": [
      "\n",
      "Metrics for Log(Sale Price):\n",
      "\n",
      "Training R2 0.9624088075098128\n",
      "Training MAE 0.05432119722133529\n",
      "Training RMSE 0.07504779480251142\n",
      "Out-of-sample R2 0.887174332291282\n",
      "Out-of-sample MAE 0.08045121076601408\n",
      "Out-of-sample RMSE 0.13303634007223722\n",
      "\n",
      "Metrics for Sale Price:\n",
      "\n",
      "Training R2 0.9640275202363419\n",
      "Training MAE 9965.285133817228\n",
      "Training RMSE 14816.7467334153\n",
      "Out-of-sample R2 0.9267533208150691\n",
      "Out-of-sample MAE 13751.7824584604\n",
      "Out-of-sample RMSE 21212.12320497363\n"
     ]
    }
   ],
   "source": [
    "alpha = 1e-6\n",
    "lasso = Lasso(alpha=alpha, random_state=88)\n",
    "lasso.fit(X_train_lasso, y_train)\n",
    "print_metrics(lasso, X_train_lasso, y_train, X_test_lasso, y_test, flag_log_sale_price = True)\n",
    "print_metrics(lasso, X_train_lasso, y_train, X_test_lasso, y_test, flag_log_sale_price = False)"
   ]
  },
  {
   "cell_type": "code",
   "execution_count": 25,
   "metadata": {},
   "outputs": [],
   "source": [
    "MAE_list = []\n",
    "candidate_values = [1e-6, 1e-5, 1e-4, 1e-3, 1e-2, 1e-1]\n",
    "\n",
    "for alpha in candidate_values:\n",
    "    lasso = Lasso(alpha=alpha, random_state=88)\n",
    "    lasso.fit(X_train_lasso, y_train)\n",
    "    y_pred_test = pd.Series(lasso.predict(X_test_lasso)).apply(np.exp).reset_index(drop=True)\n",
    "    y_train_exp = y_train.copy().apply(np.exp).reset_index(drop=True)\n",
    "    y_test_exp = y_test.copy().apply(np.exp).reset_index(drop=True)\n",
    "    MAE_list.append(MAE(y_test_exp, y_pred_test))"
   ]
  },
  {
   "cell_type": "code",
   "execution_count": 26,
   "metadata": {},
   "outputs": [
    {
     "data": {
      "image/png": "[encoded data removed]",
      "text/plain": [
       "<Figure size 640x480 with 1 Axes>"
      ]
     },
     "metadata": {},
     "output_type": "display_data"
    }
   ],
   "source": [
    "plt.plot(candidate_values, MAE_list,'o-', markersize = 5)\n",
    "plt.xlabel('Value of lambda')\n",
    "plt.ylabel('OSR2')\n",
    "plt.xscale('log') "
   ]
  },
  {
   "cell_type": "markdown",
   "metadata": {},
   "source": [
    "## In-class activity 1: Create a similar plot for Ridge regression. The candidate value for labmda is `[ 1e-1, 1, 10, 1e2, 1e3, 1e4 ]`. Y-axis is the OSR2 and X-axis is the value of lambda."
   ]
  },
  {
   "cell_type": "code",
   "execution_count": 27,
   "metadata": {},
   "outputs": [],
   "source": [
    "OSR2_list = []\n",
    "candidate = [ 1e-1, 1, 10, 1e2, 1e3, 1e4 ]\n",
    "\n",
    "for alpha in candidate:\n",
    "    ridge = Ridge(alpha=alpha, random_state=88)\n",
    "    ridge.fit(X_train_lasso, y_train)\n",
    "    y_pred_test = pd.Series(ridge.predict(X_test_lasso)).apply(np.exp).reset_index(drop=True)\n",
    "    y_train_exp = y_train.copy().apply(np.exp).reset_index(drop=True)\n",
    "    y_test_exp = y_test.copy().apply(np.exp).reset_index(drop=True)\n",
    "    MAE_list.append(MAE(y_test_exp, y_pred_test))"
   ]
  },
  {
   "cell_type": "markdown",
   "metadata": {},
   "source": [
    "Add Training set performance to the graph."
   ]
  },
  {
   "cell_type": "code",
   "execution_count": 28,
   "metadata": {},
   "outputs": [],
   "source": [
    "TrainingMAE_list = []\n",
    "candidate_values = [1e-6, 1e-5, 1e-4, 1e-3, 1e-2, 1e-1]\n",
    "\n",
    "for alpha in candidate_values:\n",
    "    lasso = Lasso(alpha=alpha, random_state=88)\n",
    "    lasso.fit(X_train_lasso, y_train)\n",
    "    y_pred_train = pd.Series(lasso.predict(X_train_lasso)).apply(np.exp).reset_index(drop=True)\n",
    "    y_train_exp = y_train.copy().apply(np.exp).reset_index(drop=True)\n",
    "    y_test_exp = y_test.copy().apply(np.exp).reset_index(drop=True)\n",
    "    TrainingMAE_list.append(MAE(y_train_exp, y_pred_train))"
   ]
  },
  {
   "cell_type": "code",
   "execution_count": 29,
   "metadata": {},
   "outputs": [
    {
     "ename": "ValueError",
     "evalue": "x and y must have same first dimension, but have shapes (6,) and (12,)",
     "output_type": "error",
     "traceback": [
      "\u001b[0;31m---------------------------------------------------------------------------\u001b[0m",
      "\u001b[0;31mValueError\u001b[0m                                Traceback (most recent call last)",
      "Cell \u001b[0;32mIn[29], line 1\u001b[0m\n\u001b[0;32m----> 1\u001b[0m \u001b[43mplt\u001b[49m\u001b[38;5;241;43m.\u001b[39;49m\u001b[43mplot\u001b[49m\u001b[43m(\u001b[49m\u001b[43mcandidate_values\u001b[49m\u001b[43m,\u001b[49m\u001b[43m \u001b[49m\u001b[43mMAE_list\u001b[49m\u001b[43m,\u001b[49m\u001b[38;5;124;43m'\u001b[39;49m\u001b[38;5;124;43mo-\u001b[39;49m\u001b[38;5;124;43m'\u001b[39;49m\u001b[43m,\u001b[49m\u001b[43m \u001b[49m\u001b[43mmarkersize\u001b[49m\u001b[43m \u001b[49m\u001b[38;5;241;43m=\u001b[39;49m\u001b[43m \u001b[49m\u001b[38;5;241;43m5\u001b[39;49m\u001b[43m,\u001b[49m\u001b[43m \u001b[49m\u001b[43mlabel\u001b[49m\u001b[43m \u001b[49m\u001b[38;5;241;43m=\u001b[39;49m\u001b[43m \u001b[49m\u001b[38;5;124;43m'\u001b[39;49m\u001b[38;5;124;43mOut-of-sample\u001b[39;49m\u001b[38;5;124;43m'\u001b[39;49m\u001b[43m)\u001b[49m\n\u001b[1;32m      2\u001b[0m plt\u001b[38;5;241m.\u001b[39mplot(candidate_values, TrainingMAE_list,\u001b[38;5;124m'\u001b[39m\u001b[38;5;124mo-\u001b[39m\u001b[38;5;124m'\u001b[39m, markersize \u001b[38;5;241m=\u001b[39m \u001b[38;5;241m5\u001b[39m, label \u001b[38;5;241m=\u001b[39m \u001b[38;5;124m'\u001b[39m\u001b[38;5;124mIn-sample\u001b[39m\u001b[38;5;124m'\u001b[39m)\n\u001b[1;32m      3\u001b[0m plt\u001b[38;5;241m.\u001b[39mxlabel(\u001b[38;5;124m'\u001b[39m\u001b[38;5;124mValue of lambda\u001b[39m\u001b[38;5;124m'\u001b[39m)\n",
      "File \u001b[0;32m/Library/Frameworks/Python.framework/Versions/3.12/lib/python3.12/site-packages/matplotlib/pyplot.py:3794\u001b[0m, in \u001b[0;36mplot\u001b[0;34m(scalex, scaley, data, *args, **kwargs)\u001b[0m\n\u001b[1;32m   3786\u001b[0m \u001b[38;5;129m@_copy_docstring_and_deprecators\u001b[39m(Axes\u001b[38;5;241m.\u001b[39mplot)\n\u001b[1;32m   3787\u001b[0m \u001b[38;5;28;01mdef\u001b[39;00m \u001b[38;5;21mplot\u001b[39m(\n\u001b[1;32m   3788\u001b[0m     \u001b[38;5;241m*\u001b[39margs: \u001b[38;5;28mfloat\u001b[39m \u001b[38;5;241m|\u001b[39m ArrayLike \u001b[38;5;241m|\u001b[39m \u001b[38;5;28mstr\u001b[39m,\n\u001b[0;32m   (...)\u001b[0m\n\u001b[1;32m   3792\u001b[0m     \u001b[38;5;241m*\u001b[39m\u001b[38;5;241m*\u001b[39mkwargs,\n\u001b[1;32m   3793\u001b[0m ) \u001b[38;5;241m-\u001b[39m\u001b[38;5;241m>\u001b[39m \u001b[38;5;28mlist\u001b[39m[Line2D]:\n\u001b[0;32m-> 3794\u001b[0m     \u001b[38;5;28;01mreturn\u001b[39;00m \u001b[43mgca\u001b[49m\u001b[43m(\u001b[49m\u001b[43m)\u001b[49m\u001b[38;5;241;43m.\u001b[39;49m\u001b[43mplot\u001b[49m\u001b[43m(\u001b[49m\n\u001b[1;32m   3795\u001b[0m \u001b[43m        \u001b[49m\u001b[38;5;241;43m*\u001b[39;49m\u001b[43margs\u001b[49m\u001b[43m,\u001b[49m\n\u001b[1;32m   3796\u001b[0m \u001b[43m        \u001b[49m\u001b[43mscalex\u001b[49m\u001b[38;5;241;43m=\u001b[39;49m\u001b[43mscalex\u001b[49m\u001b[43m,\u001b[49m\n\u001b[1;32m   3797\u001b[0m \u001b[43m        \u001b[49m\u001b[43mscaley\u001b[49m\u001b[38;5;241;43m=\u001b[39;49m\u001b[43mscaley\u001b[49m\u001b[43m,\u001b[49m\n\u001b[1;32m   3798\u001b[0m \u001b[43m        \u001b[49m\u001b[38;5;241;43m*\u001b[39;49m\u001b[38;5;241;43m*\u001b[39;49m\u001b[43m(\u001b[49m\u001b[43m{\u001b[49m\u001b[38;5;124;43m\"\u001b[39;49m\u001b[38;5;124;43mdata\u001b[39;49m\u001b[38;5;124;43m\"\u001b[39;49m\u001b[43m:\u001b[49m\u001b[43m \u001b[49m\u001b[43mdata\u001b[49m\u001b[43m}\u001b[49m\u001b[43m \u001b[49m\u001b[38;5;28;43;01mif\u001b[39;49;00m\u001b[43m \u001b[49m\u001b[43mdata\u001b[49m\u001b[43m \u001b[49m\u001b[38;5;129;43;01mis\u001b[39;49;00m\u001b[43m \u001b[49m\u001b[38;5;129;43;01mnot\u001b[39;49;00m\u001b[43m \u001b[49m\u001b[38;5;28;43;01mNone\u001b[39;49;00m\u001b[43m \u001b[49m\u001b[38;5;28;43;01melse\u001b[39;49;00m\u001b[43m \u001b[49m\u001b[43m{\u001b[49m\u001b[43m}\u001b[49m\u001b[43m)\u001b[49m\u001b[43m,\u001b[49m\n\u001b[1;32m   3799\u001b[0m \u001b[43m        \u001b[49m\u001b[38;5;241;43m*\u001b[39;49m\u001b[38;5;241;43m*\u001b[39;49m\u001b[43mkwargs\u001b[49m\u001b[43m,\u001b[49m\n\u001b[1;32m   3800\u001b[0m \u001b[43m    \u001b[49m\u001b[43m)\u001b[49m\n",
      "File \u001b[0;32m/Library/Frameworks/Python.framework/Versions/3.12/lib/python3.12/site-packages/matplotlib/axes/_axes.py:1779\u001b[0m, in \u001b[0;36mAxes.plot\u001b[0;34m(self, scalex, scaley, data, *args, **kwargs)\u001b[0m\n\u001b[1;32m   1536\u001b[0m \u001b[38;5;250m\u001b[39m\u001b[38;5;124;03m\"\"\"\u001b[39;00m\n\u001b[1;32m   1537\u001b[0m \u001b[38;5;124;03mPlot y versus x as lines and/or markers.\u001b[39;00m\n\u001b[1;32m   1538\u001b[0m \n\u001b[0;32m   (...)\u001b[0m\n\u001b[1;32m   1776\u001b[0m \u001b[38;5;124;03m(``'green'``) or hex strings (``'#008000'``).\u001b[39;00m\n\u001b[1;32m   1777\u001b[0m \u001b[38;5;124;03m\"\"\"\u001b[39;00m\n\u001b[1;32m   1778\u001b[0m kwargs \u001b[38;5;241m=\u001b[39m cbook\u001b[38;5;241m.\u001b[39mnormalize_kwargs(kwargs, mlines\u001b[38;5;241m.\u001b[39mLine2D)\n\u001b[0;32m-> 1779\u001b[0m lines \u001b[38;5;241m=\u001b[39m [\u001b[38;5;241m*\u001b[39m\u001b[38;5;28mself\u001b[39m\u001b[38;5;241m.\u001b[39m_get_lines(\u001b[38;5;28mself\u001b[39m, \u001b[38;5;241m*\u001b[39margs, data\u001b[38;5;241m=\u001b[39mdata, \u001b[38;5;241m*\u001b[39m\u001b[38;5;241m*\u001b[39mkwargs)]\n\u001b[1;32m   1780\u001b[0m \u001b[38;5;28;01mfor\u001b[39;00m line \u001b[38;5;129;01min\u001b[39;00m lines:\n\u001b[1;32m   1781\u001b[0m     \u001b[38;5;28mself\u001b[39m\u001b[38;5;241m.\u001b[39madd_line(line)\n",
      "File \u001b[0;32m/Library/Frameworks/Python.framework/Versions/3.12/lib/python3.12/site-packages/matplotlib/axes/_base.py:296\u001b[0m, in \u001b[0;36m_process_plot_var_args.__call__\u001b[0;34m(self, axes, data, *args, **kwargs)\u001b[0m\n\u001b[1;32m    294\u001b[0m     this \u001b[38;5;241m+\u001b[39m\u001b[38;5;241m=\u001b[39m args[\u001b[38;5;241m0\u001b[39m],\n\u001b[1;32m    295\u001b[0m     args \u001b[38;5;241m=\u001b[39m args[\u001b[38;5;241m1\u001b[39m:]\n\u001b[0;32m--> 296\u001b[0m \u001b[38;5;28;01myield from\u001b[39;00m \u001b[38;5;28;43mself\u001b[39;49m\u001b[38;5;241;43m.\u001b[39;49m\u001b[43m_plot_args\u001b[49m\u001b[43m(\u001b[49m\n\u001b[1;32m    297\u001b[0m \u001b[43m    \u001b[49m\u001b[43maxes\u001b[49m\u001b[43m,\u001b[49m\u001b[43m \u001b[49m\u001b[43mthis\u001b[49m\u001b[43m,\u001b[49m\u001b[43m \u001b[49m\u001b[43mkwargs\u001b[49m\u001b[43m,\u001b[49m\u001b[43m \u001b[49m\u001b[43mambiguous_fmt_datakey\u001b[49m\u001b[38;5;241;43m=\u001b[39;49m\u001b[43mambiguous_fmt_datakey\u001b[49m\u001b[43m)\u001b[49m\n",
      "File \u001b[0;32m/Library/Frameworks/Python.framework/Versions/3.12/lib/python3.12/site-packages/matplotlib/axes/_base.py:486\u001b[0m, in \u001b[0;36m_process_plot_var_args._plot_args\u001b[0;34m(self, axes, tup, kwargs, return_kwargs, ambiguous_fmt_datakey)\u001b[0m\n\u001b[1;32m    483\u001b[0m     axes\u001b[38;5;241m.\u001b[39myaxis\u001b[38;5;241m.\u001b[39mupdate_units(y)\n\u001b[1;32m    485\u001b[0m \u001b[38;5;28;01mif\u001b[39;00m x\u001b[38;5;241m.\u001b[39mshape[\u001b[38;5;241m0\u001b[39m] \u001b[38;5;241m!=\u001b[39m y\u001b[38;5;241m.\u001b[39mshape[\u001b[38;5;241m0\u001b[39m]:\n\u001b[0;32m--> 486\u001b[0m     \u001b[38;5;28;01mraise\u001b[39;00m \u001b[38;5;167;01mValueError\u001b[39;00m(\u001b[38;5;124mf\u001b[39m\u001b[38;5;124m\"\u001b[39m\u001b[38;5;124mx and y must have same first dimension, but \u001b[39m\u001b[38;5;124m\"\u001b[39m\n\u001b[1;32m    487\u001b[0m                      \u001b[38;5;124mf\u001b[39m\u001b[38;5;124m\"\u001b[39m\u001b[38;5;124mhave shapes \u001b[39m\u001b[38;5;132;01m{\u001b[39;00mx\u001b[38;5;241m.\u001b[39mshape\u001b[38;5;132;01m}\u001b[39;00m\u001b[38;5;124m and \u001b[39m\u001b[38;5;132;01m{\u001b[39;00my\u001b[38;5;241m.\u001b[39mshape\u001b[38;5;132;01m}\u001b[39;00m\u001b[38;5;124m\"\u001b[39m)\n\u001b[1;32m    488\u001b[0m \u001b[38;5;28;01mif\u001b[39;00m x\u001b[38;5;241m.\u001b[39mndim \u001b[38;5;241m>\u001b[39m \u001b[38;5;241m2\u001b[39m \u001b[38;5;129;01mor\u001b[39;00m y\u001b[38;5;241m.\u001b[39mndim \u001b[38;5;241m>\u001b[39m \u001b[38;5;241m2\u001b[39m:\n\u001b[1;32m    489\u001b[0m     \u001b[38;5;28;01mraise\u001b[39;00m \u001b[38;5;167;01mValueError\u001b[39;00m(\u001b[38;5;124mf\u001b[39m\u001b[38;5;124m\"\u001b[39m\u001b[38;5;124mx and y can be no greater than 2D, but have \u001b[39m\u001b[38;5;124m\"\u001b[39m\n\u001b[1;32m    490\u001b[0m                      \u001b[38;5;124mf\u001b[39m\u001b[38;5;124m\"\u001b[39m\u001b[38;5;124mshapes \u001b[39m\u001b[38;5;132;01m{\u001b[39;00mx\u001b[38;5;241m.\u001b[39mshape\u001b[38;5;132;01m}\u001b[39;00m\u001b[38;5;124m and \u001b[39m\u001b[38;5;132;01m{\u001b[39;00my\u001b[38;5;241m.\u001b[39mshape\u001b[38;5;132;01m}\u001b[39;00m\u001b[38;5;124m\"\u001b[39m)\n",
      "\u001b[0;31mValueError\u001b[0m: x and y must have same first dimension, but have shapes (6,) and (12,)"
     ]
    },
    {
     "data": {
      "image/png": "[encoded data removed]",
      "text/plain": [
       "<Figure size 640x480 with 1 Axes>"
      ]
     },
     "metadata": {},
     "output_type": "display_data"
    }
   ],
   "source": [
    "plt.plot(candidate_values, MAE_list,'o-', markersize = 5, label = 'Out-of-sample')\n",
    "plt.plot(candidate_values, TrainingMAE_list,'o-', markersize = 5, label = 'In-sample')\n",
    "plt.xlabel('Value of lambda')\n",
    "plt.ylabel('')\n",
    "plt.xscale('log') \n",
    "plt.legend();"
   ]
  },
  {
   "cell_type": "markdown",
   "metadata": {},
   "source": [
    "### K-fold cross validation"
   ]
  },
  {
   "cell_type": "code",
   "execution_count": null,
   "metadata": {
    "scrolled": true
   },
   "outputs": [],
   "source": [
    "from sklearn.model_selection import GridSearchCV\n",
    "\n",
    "\n",
    "alpha_grid = {'alpha': np.logspace(-8, -1, num=10, base=10)}\n",
    "\n",
    "lasso_cv = GridSearchCV(lasso, param_grid = alpha_grid, scoring='neg_mean_squared_error', cv=10, verbose=1)\n",
    "lasso_cv.fit(X_train_lasso, y_train)"
   ]
  },
  {
   "cell_type": "code",
   "execution_count": null,
   "metadata": {},
   "outputs": [],
   "source": [
    "from sklearn.model_selection import GridSearchCV\n",
    "\n",
    "def one_standard_error_rule(model, results, param_grid, n_splits, neg_mean_squared_error=True):\n",
    "    \n",
    "    assert neg_mean_squared_error == True # function is defined specifically for neg_mean_squared_error\n",
    "    \n",
    "    range_x = param_grid # results['param_'+list(param_grid.keys())[0]].data\n",
    "    std_vs_x  = pd.Series(results['std_test_score'], index = range_x)\n",
    "    sem_vs_x  = std_vs_x/np.sqrt(n_splits)\n",
    "    \n",
    "    mean_vs_x = pd.Series(results['mean_test_score'], index = range_x)        \n",
    "    mean_vs_x = mean_vs_x*(-1)\n",
    "    \n",
    "    x_min = mean_vs_x.idxmin()\n",
    "    sem = sem_vs_x[x_min]\n",
    "    \n",
    "    if (model=='pcr'):\n",
    "        x_1se = mean_vs_x[mean_vs_x <= min(mean_vs_x) + sem].index.min()\n",
    "    elif (model=='ridge') | (model=='lasso'):\n",
    "        x_1se = mean_vs_x[mean_vs_x <= min(mean_vs_x) + sem].index.max()\n",
    "        \n",
    "    #x_1se_idx = int(np.argwhere(range_x == x_1se)[0])\n",
    "    \n",
    "    return x_min, x_1se"
   ]
  },
  {
   "cell_type": "code",
   "execution_count": null,
   "metadata": {},
   "outputs": [],
   "source": [
    "range_alpha = lasso_cv.cv_results_['param_alpha'].data\n",
    "MSE_scores = lasso_cv.cv_results_['mean_test_score']*(-1)\n",
    "x_min, x_1se = one_standard_error_rule(model='lasso',\n",
    "                                       results=lasso_cv.cv_results_,\n",
    "                                       param_grid=range_alpha,\n",
    "                                       n_splits=10,\n",
    "                                       neg_mean_squared_error=True)\n",
    "plt.figure(figsize=(8, 6))\n",
    "ax = plt.gca()\n",
    "ax.set_xscale('log')\n",
    "plt.xlabel('Alpha', fontsize=16)\n",
    "plt.ylabel('CV MSE', fontsize=16)\n",
    "plt.scatter(range_alpha, MSE_scores, s=30)\n",
    "plt.plot(range_alpha, MSE_scores)\n",
    "plt.axvline(x=x_min, color='m')\n",
    "plt.axvline(x=x_1se, color='c')\n",
    "plt.grid(True, which='both')\n",
    "\n",
    "plt.tight_layout()\n",
    "plt.show()"
   ]
  },
  {
   "cell_type": "markdown",
   "metadata": {},
   "source": [
    "Magenta vertical line is the minimizer, the cyan vertical line is the \"1 Standard Error\" selection."
   ]
  },
  {
   "cell_type": "code",
   "execution_count": null,
   "metadata": {},
   "outputs": [],
   "source": [
    "acc = lasso_cv.cv_results_['mean_test_score'] # what sklearn calls mean_test_score is the holdout set, i.e. the validation set.\n",
    "ccp = lasso_cv.cv_results_['param_alpha'].data\n",
    "\n",
    "pd.DataFrame({'ccp alpha' : ccp, 'Validation Accuracy': acc})"
   ]
  },
  {
   "cell_type": "code",
   "execution_count": null,
   "metadata": {},
   "outputs": [],
   "source": [
    "print('Alpha one standard error rule:', x_1se)"
   ]
  },
  {
   "cell_type": "markdown",
   "metadata": {},
   "source": [
    "### Lasso Refit with One Standard Error Rule"
   ]
  },
  {
   "cell_type": "code",
   "execution_count": null,
   "metadata": {},
   "outputs": [],
   "source": [
    "lasso_cv = GridSearchCV(lasso, {'alpha': [x_1se]}, scoring='neg_mean_squared_error', cv=10)\n",
    "lasso_cv.fit(X_train_lasso, y_train)\n",
    "\n",
    "print_metrics(lasso_cv, X_train_lasso, y_train, X_test_lasso, y_test, flag_log_sale_price = True)\n",
    "#print_metrics(lasso_cv, X_train_lasso, y_train, X_test_lasso, y_test, flag_log_sale_price = False)"
   ]
  },
  {
   "cell_type": "markdown",
   "metadata": {},
   "source": [
    "## Shuffle the dataset for k-fold cross validation"
   ]
  },
  {
   "cell_type": "code",
   "execution_count": null,
   "metadata": {
    "scrolled": true
   },
   "outputs": [],
   "source": [
    "from sklearn.model_selection import KFold\n",
    "\n",
    "alpha_grid = {'alpha': np.logspace(-8, -1, num=15, base=10)}\n",
    "cv = KFold(n_splits = 10, random_state = 1, shuffle = True)\n",
    "lasso_cv = GridSearchCV(lasso, param_grid = alpha_grid, scoring='neg_mean_squared_error', cv=cv, verbose=2)\n",
    "lasso_cv.fit(X_train_lasso, y_train)"
   ]
  },
  {
   "cell_type": "code",
   "execution_count": null,
   "metadata": {},
   "outputs": [],
   "source": [
    "range_alpha = lasso_cv.cv_results_['param_alpha'].data\n",
    "MSE_scores = lasso_cv.cv_results_['mean_test_score']*(-1)\n",
    "x_min, x_1se = one_standard_error_rule(model='lasso',\n",
    "                                       results=lasso_cv.cv_results_,\n",
    "                                       param_grid=range_alpha,\n",
    "                                       n_splits=10,\n",
    "                                       neg_mean_squared_error=True)\n",
    "plt.figure(figsize=(8, 6))\n",
    "ax = plt.gca()\n",
    "ax.set_xscale('log')\n",
    "plt.xlabel('Alpha', fontsize=16)\n",
    "plt.ylabel('CV MSE', fontsize=16)\n",
    "plt.scatter(range_alpha, MSE_scores, s=30)\n",
    "plt.plot(range_alpha, MSE_scores)\n",
    "plt.axvline(x=x_min, color='m')\n",
    "plt.axvline(x=x_1se, color='c')\n",
    "plt.grid(True, which='both')\n",
    "\n",
    "plt.tight_layout()\n",
    "plt.show()"
   ]
  },
  {
   "cell_type": "markdown",
   "metadata": {},
   "source": [
    "## Custom loss function"
   ]
  },
  {
   "cell_type": "code",
   "execution_count": null,
   "metadata": {},
   "outputs": [],
   "source": [
    "def large_prediction_error_count(y_test, y_pred, threshold = 2000):\n",
    "    y_pred_test = pd.Series(y_pred).copy().apply(np.exp).reset_index(drop=True)\n",
    "    y_test_exp = pd.Series(y_test).copy().apply(np.exp).reset_index(drop=True)\n",
    "    count = [(y_pred_test - y_test_exp) > 2000]\n",
    "    return np.sum(count)"
   ]
  },
  {
   "cell_type": "code",
   "execution_count": null,
   "metadata": {
    "scrolled": true
   },
   "outputs": [],
   "source": [
    "from sklearn.metrics import make_scorer  \n",
    "\n",
    "alpha_grid = {'alpha': np.logspace(-8, -1, num=10, base=10)}\n",
    "cv = KFold(n_splits = 10, random_state = 1, shuffle = True)\n",
    "lasso_cv = GridSearchCV(lasso, param_grid = alpha_grid, scoring=make_scorer(large_prediction_error_count, greater_is_better=False), cv=cv, verbose=2)\n",
    "lasso_cv.fit(X_train_lasso, y_train)"
   ]
  },
  {
   "cell_type": "code",
   "execution_count": null,
   "metadata": {},
   "outputs": [],
   "source": [
    "range_alpha = lasso_cv.cv_results_['param_alpha'].data\n",
    "new_scores = lasso_cv.cv_results_['mean_test_score']*(-1)\n",
    "\n",
    "plt.figure(figsize=(8, 6))\n",
    "ax = plt.gca()\n",
    "ax.set_xscale('log')\n",
    "plt.xlabel('Alpha', fontsize=16)\n",
    "plt.ylabel('Customized loss', fontsize=16)\n",
    "plt.scatter(range_alpha, new_scores, s=30)\n",
    "plt.plot(range_alpha, new_scores)\n",
    "plt.grid(True, which='both')\n",
    "\n",
    "plt.tight_layout()\n",
    "plt.show()"
   ]
  },
  {
   "cell_type": "code",
   "execution_count": null,
   "metadata": {},
   "outputs": [],
   "source": []
  },
  {
   "cell_type": "markdown",
   "metadata": {},
   "source": [
    "## Cross validation for Principal Components Regression"
   ]
  },
  {
   "cell_type": "code",
   "execution_count": 30,
   "metadata": {},
   "outputs": [
    {
     "name": "stdout",
     "output_type": "stream",
     "text": [
      "(1828, 397) (1828, 397)\n",
      "(937, 397) (937, 397)\n"
     ]
    }
   ],
   "source": [
    "y_train = ames_train['LogSalePrice']\n",
    "y_test = ames_test['LogSalePrice']\n",
    "\n",
    "X_train_pcr = X_train_poly_wide\n",
    "X_test_pcr = X_test_poly_wide\n",
    "\n",
    "print(X_train_poly_wide.shape, X_train_pcr.shape)\n",
    "print(X_test_poly_wide.shape, X_test_pcr.shape)"
   ]
  },
  {
   "cell_type": "markdown",
   "metadata": {},
   "source": [
    "We also standardize the data before feeding it to the PCA step, as recommended by good practice."
   ]
  },
  {
   "cell_type": "code",
   "execution_count": 31,
   "metadata": {
    "scrolled": true
   },
   "outputs": [],
   "source": [
    "from sklearn.pipeline import Pipeline\n",
    "scaler = StandardScaler()\n",
    "pca = PCA(random_state=88)\n",
    "lr = LinearRegression()\n",
    "pipe = Pipeline(steps=[('scaler', scaler), ('pca', pca), ('lr', lr)])"
   ]
  },
  {
   "cell_type": "markdown",
   "metadata": {},
   "source": [
    "Basic PCR"
   ]
  },
  {
   "cell_type": "code",
   "execution_count": 32,
   "metadata": {},
   "outputs": [
    {
     "name": "stdout",
     "output_type": "stream",
     "text": [
      "\n",
      "Metrics for Log(Sale Price):\n",
      "\n",
      "Training R2 0.8669860382703731\n",
      "Training MAE 0.09962977875968801\n",
      "Training RMSE 0.14117035228048616\n",
      "Out-of-sample R2 0.8396729663435233\n",
      "Out-of-sample MAE 0.10399547659855168\n",
      "Out-of-sample RMSE 0.15858777688396108\n",
      "\n",
      "Metrics for Sale Price:\n",
      "\n",
      "Training R2 0.897132348091005\n",
      "Training MAE 17529.924419135274\n",
      "Training RMSE 25055.73125787469\n",
      "Out-of-sample R2 0.9018033283445104\n",
      "Out-of-sample MAE 17377.607979840453\n",
      "Out-of-sample RMSE 24560.576408359433\n"
     ]
    }
   ],
   "source": [
    "pipe.set_params(pca__n_components=5)\n",
    "pipe.fit(X_train_pcr, y_train)\n",
    "print_metrics(pipe, X_train_pcr, y_train, X_test_pcr, y_test, flag_log_sale_price = True)\n",
    "print_metrics(pipe, X_train_pcr, y_train, X_test_pcr, y_test, flag_log_sale_price = False)"
   ]
  },
  {
   "cell_type": "markdown",
   "metadata": {},
   "source": [
    "# In-class activity 2: For PCR, do a 5 fold cross validation value for `n_components` in terms of the `R-squared`. The potential  `n_components` is between 1 and 300. \n",
    "- What are the best R2 value and its corresponding n_components? \n",
    "- What is the value of `n_components` according to the one standard error rule?\n",
    "- Refit the model using the `n_components` selected by the one standard error rule."
   ]
  },
  {
   "cell_type": "code",
   "execution_count": null,
   "metadata": {},
   "outputs": [],
   "source": []
  },
  {
   "cell_type": "code",
   "execution_count": null,
   "metadata": {
    "scrolled": true
   },
   "outputs": [],
   "source": [
    "param_grid = {'pca__n_components': np.linspace(1, 300, 35).astype('int')}\n",
    "\n",
    "pcr_cv = GridSearchCV(pipe,\n",
    "                      param_grid,\n",
    "                      scoring='r2',\n",
    "                      cv=5,\n",
    "                     verbose = 2)\n",
    "pcr_cv.fit(X_train_pcr, y_train)"
   ]
  },
  {
   "cell_type": "code",
   "execution_count": null,
   "metadata": {},
   "outputs": [],
   "source": [
    "from scipy import stats\n",
    "\n",
    "n_components = pcr_cv.cv_results_['param_pca__n_components'].data\n",
    "R2_scores = pcr_cv.cv_results_['mean_test_score']\n",
    "x_min, x_1se = one_standard_error_rule(model='pcr',\n",
    "                                       results=pcr_cv.cv_results_,\n",
    "                                       param_grid=n_components,\n",
    "                                       n_splits=10,\n",
    "                                       neg_mean_squared_error=True)\n",
    "\n",
    "plt.figure(figsize=(8, 6))\n",
    "plt.xlabel('n components', fontsize=16)\n",
    "plt.ylabel('CV R2', fontsize=16)\n",
    "plt.scatter(n_components, R2_scores, s=30)\n",
    "plt.axvline(x=x_min, color='m')\n",
    "plt.axvline(x=x_1se, color='c')\n",
    "plt.grid(True, which='both')\n",
    "\n",
    "plt.tight_layout()\n",
    "plt.show()"
   ]
  },
  {
   "cell_type": "code",
   "execution_count": null,
   "metadata": {},
   "outputs": [],
   "source": [
    "best_r2_score = pcr_cv.best_score_\n",
    "print(\"Best R2 Score from Cross-Validation:\", best_r2_score)\n",
    "best_n_components = pcr_cv.best_params_['pca__n_components']\n",
    "print(\"Best n_components value:\", best_n_components)"
   ]
  },
  {
   "cell_type": "code",
   "execution_count": null,
   "metadata": {},
   "outputs": [],
   "source": [
    "print('pca n_components', x_1se)\n",
    "index_x_1se = np.where(n_components == x_1se)[0][0]\n",
    "\n",
    "# Get the corresponding R2 score\n",
    "R2_score_x_1se = R2_scores[index_x_1se]\n",
    "print(\"R2 Score corresponding to x_1se:\", R2_score_x_1se)"
   ]
  },
  {
   "cell_type": "code",
   "execution_count": null,
   "metadata": {},
   "outputs": [],
   "source": [
    "print_metrics(pcr_cv, X_train_pcr, y_train, X_test_pcr, y_test, flag_log_sale_price = True)\n",
    "# print_metrics(pcr_cv, X_train_pcr, y_train, X_test_pcr, y_test, flag_log_sale_price = False)"
   ]
  },
  {
   "cell_type": "markdown",
   "metadata": {},
   "source": [
    "#### Refit the model with the selected parameter"
   ]
  },
  {
   "cell_type": "code",
   "execution_count": null,
   "metadata": {},
   "outputs": [],
   "source": []
  },
  {
   "cell_type": "code",
   "execution_count": null,
   "metadata": {},
   "outputs": [],
   "source": [
    "pipe.set_params(pca__n_components=x_1se)\n",
    "pipe.fit(X_train_lasso, y_train)\n",
    "pipe.get_params()"
   ]
  },
  {
   "cell_type": "code",
   "execution_count": null,
   "metadata": {},
   "outputs": [],
   "source": [
    "print_metrics(pipe, X_train_pcr, y_train, X_test_pcr, y_test, flag_log_sale_price = True)\n",
    "print_metrics(pipe, X_train_pcr, y_train, X_test_pcr, y_test, flag_log_sale_price = False)"
   ]
  },
  {
   "cell_type": "markdown",
   "metadata": {},
   "source": [
    "## Cross validation for Ridge Regression\n",
    "\n",
    "We can choose `alpha_max` so as the value that makes all coefficientes zero, and then construct a log sequence of `alpha` values trending smaller, decreasing the degree of regularization. \n",
    "\n",
    "For the case of `Ridge` Regression, alpha value that would make all coefficients zero would be `Inf`, however we can be satisfied with sufficiently small numbers, and work from there."
   ]
  },
  {
   "cell_type": "code",
   "execution_count": null,
   "metadata": {},
   "outputs": [],
   "source": [
    "X_train_rr = X_train_poly_wide\n",
    "X_test_rr = X_test_poly_wide\n",
    "\n",
    "print(X_train_rr.shape, X_test_rr.shape)"
   ]
  },
  {
   "cell_type": "markdown",
   "metadata": {},
   "source": [
    "### Determine 'alpha_max'"
   ]
  },
  {
   "cell_type": "code",
   "execution_count": null,
   "metadata": {},
   "outputs": [],
   "source": [
    "from sklearn.linear_model import Ridge\n",
    "\n",
    "alpha_max = 10**5\n",
    "rr = Ridge(alpha=alpha_max, random_state=88)\n",
    "rr.fit(X_train_rr, y_train)"
   ]
  },
  {
   "cell_type": "markdown",
   "metadata": {},
   "source": [
    "### Ridge Hyper-parameter Tuning"
   ]
  },
  {
   "cell_type": "code",
   "execution_count": null,
   "metadata": {
    "scrolled": false
   },
   "outputs": [],
   "source": [
    "alpha_grid = {'alpha': np.logspace(-1, 5, num=50, base=10)}\n",
    "\n",
    "rr = Ridge(random_state=88)\n",
    "rr_cv = GridSearchCV(rr, alpha_grid, scoring='neg_mean_squared_error', cv=5)\n",
    "rr_cv.fit(X_train_rr, y_train)"
   ]
  },
  {
   "cell_type": "code",
   "execution_count": null,
   "metadata": {},
   "outputs": [],
   "source": [
    "range_alpha = rr_cv.cv_results_['param_alpha'].data\n",
    "MSE_scores = rr_cv.cv_results_['mean_test_score']*(-1)\n",
    "x_min, x_1se = one_standard_error_rule(model='ridge',\n",
    "                                       results=rr_cv.cv_results_,\n",
    "                                       param_grid=range_alpha,\n",
    "                                       n_splits=10,\n",
    "                                       neg_mean_squared_error=True)\n",
    "plt.figure(figsize=(8, 6))\n",
    "ax = plt.gca()\n",
    "ax.set_xscale('log')\n",
    "plt.xlabel('Alpha', fontsize=16)\n",
    "plt.ylabel('CV MSE', fontsize=16)\n",
    "plt.scatter(range_alpha, MSE_scores, s=30)\n",
    "plt.axvline(x=x_min, color='m')\n",
    "plt.axvline(x=x_1se, color='c')\n",
    "plt.grid(True, which='both')\n",
    "\n",
    "plt.tight_layout()\n",
    "plt.show()"
   ]
  },
  {
   "cell_type": "code",
   "execution_count": null,
   "metadata": {},
   "outputs": [],
   "source": [
    "print('Alpha one standard error rule:', x_1se)"
   ]
  },
  {
   "cell_type": "markdown",
   "metadata": {},
   "source": [
    "### Ridge Refit with One Standard Error Rule"
   ]
  },
  {
   "cell_type": "code",
   "execution_count": null,
   "metadata": {},
   "outputs": [],
   "source": [
    "lasso.set_params(alpha=x_1se)\n",
    "lasso.fit(X_train_lasso, y_train)\n",
    "lasso.get_params()"
   ]
  },
  {
   "cell_type": "code",
   "execution_count": null,
   "metadata": {},
   "outputs": [],
   "source": [
    "print_metrics(lasso, X_train_lasso, y_train, X_test_lasso, y_test, flag_log_sale_price = True)\n",
    "print_metrics(lasso, X_train_lasso, y_train, X_test_lasso, y_test, flag_log_sale_price = False)"
   ]
  },
  {
   "cell_type": "code",
   "execution_count": null,
   "metadata": {},
   "outputs": [],
   "source": []
  },
  {
   "cell_type": "code",
   "execution_count": null,
   "metadata": {},
   "outputs": [],
   "source": []
  }
 ],
 "metadata": {
  "kernelspec": {
   "display_name": "Python 3 (ipykernel)",
   "language": "python",
   "name": "python3"
  },
  "language_info": {
   "codemirror_mode": {
    "name": "ipython",
    "version": 3
   },
   "file_extension": ".py",
   "mimetype": "text/x-python",
   "name": "python",
   "nbconvert_exporter": "python",
   "pygments_lexer": "ipython3",
   "version": "3.12.1"
  },
  "varInspector": {
   "cols": {
    "lenName": 16,
    "lenType": 16,
    "lenVar": 40
   },
   "kernels_config": {
    "python": {
     "delete_cmd_postfix": "",
     "delete_cmd_prefix": "del ",
     "library": "var_list.py",
     "varRefreshCmd": "print(var_dic_list())"
    },
    "r": {
     "delete_cmd_postfix": ") ",
     "delete_cmd_prefix": "rm(",
     "library": "var_list.r",
     "varRefreshCmd": "cat(var_dic_list()) "
    }
   },
   "types_to_exclude": [
    "module",
    "function",
    "builtin_function_or_method",
    "instance",
    "_Feature"
   ],
   "window_display": false
  }
 },
 "nbformat": 4,
 "nbformat_minor": 4
}
