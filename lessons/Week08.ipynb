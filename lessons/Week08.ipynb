{
 "cells": [
  {
   "cell_type": "markdown",
   "id": "39c9bfd6",
   "metadata": {},
   "source": [
    "# Exploratory Data Analysis (EDA) of the Ames Housing Dataset\n",
    "\n",
    "## Introduction\n",
    "\n",
    "The Ames Housing Dataset is a comprehensive record of residential property sales in Ames, Iowa. Compiled by **Dean De Cock**, it includes 2,930 observations with 80 features describing various aspects of residential homes. \n",
    "\n",
    "In this notebook, we will perform EDA to understand the data, identify patterns, detect anomalies, and extract insights that could be useful for predictive modeling.\n",
    "\n",
    "## Objectives\n",
    "\n",
    "- Understand the structure and content of the dataset.\n",
    "- Handle missing values appropriately.\n",
    "- Explore distributions of individual variables.\n",
    "- Examine relationships between features and the target variable (`SalePrice`).\n",
    "- Identify key features that influence house prices.\n",
    "\n",
    "## Dataset Description\n",
    "\n",
    "Some of the key variables in the dataset include:\n",
    "\n",
    "- **SalePrice**: The property's sale price in dollars.\n",
    "- **LotArea**: Lot size in square feet.\n",
    "- **OverallQual**: Overall material and finish quality (scale from 1 to 10).\n",
    "- **YearBuilt**: Original construction date.\n",
    "- **TotalBsmtSF**: Total square feet of the basement area.\n",
    "- **GrLivArea**: Above-grade (ground) living area square feet.\n",
    "- **FullBath**: Full bathrooms above grade.\n",
    "- **GarageCars**: Size of garage in car capacity.\n",
    "- **GarageArea**: Size of garage in square feet.\n"
   ]
  },
  {
   "cell_type": "code",
   "execution_count": null,
   "id": "7264c32a",
   "metadata": {},
   "outputs": [],
   "source": [
    "import pandas as pd\n",
    "import numpy as np\n",
    "import matplotlib.pyplot as plt\n",
    "import seaborn as sns"
   ]
  },
  {
   "cell_type": "code",
   "execution_count": null,
   "id": "c0298257",
   "metadata": {},
   "outputs": [],
   "source": [
    "data = pd.read_csv('ames.csv')"
   ]
  },
  {
   "cell_type": "markdown",
   "id": "73456ea1",
   "metadata": {},
   "source": [
    "## Exploring the Dataset\n",
    "\n",
    "### First Five Rows\n",
    "\n",
    "Let's take a look at the first five rows to get an initial understanding of the data.\n"
   ]
  },
  {
   "cell_type": "code",
   "execution_count": null,
   "id": "ff097a4e",
   "metadata": {},
   "outputs": [],
   "source": [
    "# Displaying the first five rows\n",
    "data.head()"
   ]
  },
  {
   "cell_type": "code",
   "execution_count": null,
   "id": "bec9fea7",
   "metadata": {},
   "outputs": [],
   "source": [
    "# Getting information about the dataset\n",
    "data.info()"
   ]
  },
  {
   "cell_type": "code",
   "execution_count": null,
   "id": "54557c14",
   "metadata": {},
   "outputs": [],
   "source": [
    "# Check column names: No empty space, no dot, no special characters"
   ]
  },
  {
   "cell_type": "code",
   "execution_count": null,
   "id": "d37e03b0",
   "metadata": {},
   "outputs": [],
   "source": [
    "data.rename(columns={'YearRemod.Add':'YearRemodAdd'}, inplace=True)"
   ]
  },
  {
   "cell_type": "code",
   "execution_count": null,
   "id": "1e12b29e",
   "metadata": {},
   "outputs": [],
   "source": [
    "# Statistical summary\n",
    "data.describe()"
   ]
  },
  {
   "cell_type": "markdown",
   "id": "13acb4cb",
   "metadata": {},
   "source": [
    "### Checking for Missing Values\n",
    "\n",
    "Identify the number of missing values in each column."
   ]
  },
  {
   "cell_type": "code",
   "execution_count": null,
   "id": "53d2d196",
   "metadata": {},
   "outputs": [],
   "source": [
    "# Checking for missing values\n",
    "missing_values = data.isnull().sum().sort_values(ascending=False)\n",
    "missing_values = missing_values[missing_values > 0]\n",
    "missing_values"
   ]
  },
  {
   "cell_type": "markdown",
   "id": "02625d9d",
   "metadata": {},
   "source": [
    "We can see that some features have missing values. For the purpose of this EDA, we'll focus on handling missing values for the most significant features later on.\n",
    "\n",
    "## Target Variable Analysis\n",
    "\n",
    "### Distribution of SalePrice\n",
    "\n",
    "Let's explore the distribution of the target variable `SalePrice`.\n"
   ]
  },
  {
   "cell_type": "code",
   "execution_count": null,
   "id": "a799cbfb",
   "metadata": {},
   "outputs": [],
   "source": [
    "# Plotting the distribution of SalePrice\n",
    "plt.figure(figsize=(10,6))\n",
    "sns.histplot(data['SalePrice'], kde=True)\n",
    "plt.title('Distribution of SalePrice')\n",
    "plt.xlabel('SalePrice')\n",
    "plt.ylabel('Frequency')\n",
    "plt.show()\n",
    "\n",
    "# Calculating skewness and kurtosis\n",
    "print(\"Skewness: %f\" % data['SalePrice'].skew())\n",
    "print(\"Kurtosis: %f\" % data['SalePrice'].kurt())\n"
   ]
  },
  {
   "cell_type": "markdown",
   "id": "54d9a713",
   "metadata": {},
   "source": [
    "The distribution of `SalePrice` is right-skewed with a skewness of greater than 1. This indicates that we may need to apply a log transformation to normalize it for modeling purposes.\n"
   ]
  },
  {
   "cell_type": "code",
   "execution_count": null,
   "id": "da244cb9",
   "metadata": {},
   "outputs": [],
   "source": [
    "data['LogSalePrice'] = data['SalePrice'].apply(np.log)\n",
    "\n",
    "plt.figure(figsize=(8,6));\n",
    "ax = sns.displot(data['LogSalePrice'], bins=40);\n",
    "plt.xlabel('Log(SalePrice)')\n",
    "plt.ylabel('Frequency')\n",
    "plt.title('Histogram of Log(SalePrice)');"
   ]
  },
  {
   "cell_type": "markdown",
   "id": "d36ab3fd",
   "metadata": {},
   "source": [
    "\n",
    "## Univariate Analysis\n",
    "\n",
    "### Numerical Features\n",
    "\n",
    "Let's explore some key numerical features."
   ]
  },
  {
   "cell_type": "code",
   "execution_count": null,
   "id": "88b3f758",
   "metadata": {},
   "outputs": [],
   "source": [
    "# List of numerical features to analyze\n",
    "numeric_features = ['LotArea', 'GrLivArea', 'TotalBsmtSF', 'GarageArea']\n",
    "\n",
    "# Plotting histograms\n",
    "data[numeric_features].hist(figsize=(12,8), bins=30, edgecolor='black')\n",
    "plt.tight_layout()"
   ]
  },
  {
   "cell_type": "code",
   "execution_count": null,
   "id": "bb99154d",
   "metadata": {},
   "outputs": [],
   "source": [
    "# Box plots for numerical features\n",
    "plt.figure(figsize=(12,8))\n",
    "for i, feature in enumerate(numeric_features):\n",
    "    plt.subplot(2, 2, i+1)\n",
    "    sns.boxplot(y=data[feature])\n",
    "    plt.title(feature)\n",
    "plt.tight_layout()"
   ]
  },
  {
   "cell_type": "markdown",
   "id": "9ea1a1c1",
   "metadata": {},
   "source": [
    "We observe that features like `LotArea` and `GrLivArea` have outliers, which might affect our analysis.\n",
    "\n",
    "## Bivariate Analysis\n",
    "\n",
    "### Relationship Between SalePrice and Numerical Features\n",
    "\n",
    "Let's explore how each numerical feature relates to `SalePrice`.\n"
   ]
  },
  {
   "cell_type": "code",
   "execution_count": null,
   "id": "bd18a12e",
   "metadata": {},
   "outputs": [],
   "source": [
    "# Scatter plots\n",
    "plt.figure(figsize=(12,8))\n",
    "for i, feature in enumerate(numeric_features):\n",
    "    plt.subplot(2, 2, i+1)\n",
    "    sns.scatterplot(x=data[feature], y=data['SalePrice'])\n",
    "    plt.title(f'SalePrice vs {feature}')\n",
    "plt.tight_layout()"
   ]
  },
  {
   "cell_type": "code",
   "execution_count": null,
   "id": "3873bc85",
   "metadata": {},
   "outputs": [],
   "source": [
    "# Correlation matrix\n",
    "corr_matrix = data.corr(numeric_only = True)\n",
    "\n",
    "# Correlation with SalePrice\n",
    "corr_with_saleprice = corr_matrix['SalePrice'].sort_values(ascending=False)\n",
    "corr_with_saleprice\n"
   ]
  },
  {
   "cell_type": "markdown",
   "id": "221f466c",
   "metadata": {},
   "source": [
    "### Top Correlated Features with SalePrice\n",
    "\n",
    "Identify the features that have strong positive or negative correlation with `SalePrice`.\n"
   ]
  },
  {
   "cell_type": "code",
   "execution_count": null,
   "id": "bdd91d66",
   "metadata": {},
   "outputs": [],
   "source": [
    "# Top 10 features correlated with SalePrice\n",
    "top_features = corr_with_saleprice.index[1:11]\n",
    "top_features\n"
   ]
  },
  {
   "cell_type": "code",
   "execution_count": null,
   "id": "5374cc3a",
   "metadata": {},
   "outputs": [],
   "source": [
    "# Heatmap of top features\n",
    "plt.figure(figsize=(10,8))\n",
    "sns.heatmap(data[top_features].corr(), annot=True, cmap='coolwarm')"
   ]
  },
  {
   "cell_type": "code",
   "execution_count": null,
   "id": "9c3af8b0",
   "metadata": {
    "scrolled": false
   },
   "outputs": [],
   "source": [
    "# List of categorical features to analyze\n",
    "categorical_features = ['OverallQual', 'Neighborhood', 'GarageCars', 'FullBath', 'KitchenQual']\n",
    "\n",
    "# Box plots of SalePrice vs categorical features\n",
    "for feature in categorical_features:\n",
    "    plt.figure(figsize=(12,6))\n",
    "    sns.boxplot(x=feature, y='SalePrice', data=data)\n",
    "    plt.title(f'SalePrice vs {feature}')\n",
    "    plt.xticks(rotation=45)\n",
    "    plt.show()\n"
   ]
  },
  {
   "cell_type": "markdown",
   "id": "4e33b561",
   "metadata": {},
   "source": [
    "#### Observations:\n",
    "\n",
    "- **OverallQual**: There is a clear increasing trend of `SalePrice` with higher quality ratings.\n",
    "- **Neighborhood**: Certain neighborhoods have higher median house prices.\n",
    "- **GarageCars**: Houses with more garage spaces tend to have higher `SalePrice`.\n",
    "- **FullBath**: Houses with more full bathrooms generally have higher `SalePrice`.\n",
    "- **KitchenQual**: Better kitchen quality is associated with higher `SalePrice`.\n",
    "\n",
    "## Missing Value Treatment\n",
    "\n",
    "Let's handle missing values for features that are important."
   ]
  },
  {
   "cell_type": "code",
   "execution_count": null,
   "id": "454e896c",
   "metadata": {},
   "outputs": [],
   "source": [
    "# Filling missing numerical values with median\n",
    "\n",
    "categorical_cols = ['GarageCars', 'GarageArea','BsmtHalfBath', 'BsmtFullBath']\n",
    "\n",
    "for var in categorical_cols:\n",
    "    data[var] = data[var].fillna(data[var].median())\n",
    "\n",
    "\n",
    "# Filling missing categorical values with mode\n",
    "data1 = data.copy()\n",
    "data1['KitchenQual'] = data['KitchenQual'].fillna(data['KitchenQual'].mode()[0])\n",
    "data1"
   ]
  },
  {
   "cell_type": "markdown",
   "id": "c2e70658",
   "metadata": {},
   "source": [
    "Or, we add a new level corresponding to whether the variable is missing from that observation. We'll do this via dummy encoding as usual."
   ]
  },
  {
   "cell_type": "code",
   "execution_count": null,
   "id": "5ec183eb",
   "metadata": {},
   "outputs": [],
   "source": [
    "# categorical ones:\n",
    "categorical_cols = ['MasVnrType', 'BsmtQual', 'BsmtCond', 'BsmtExposure', 'BsmtFinType1',\n",
    "                    'BsmtFinType2', 'Electrical', 'GarageFinish', 'GarageQual', 'GarageCond']\n",
    "\n",
    "for var in categorical_cols:\n",
    "    print(var, data[var].dtype)\n",
    "    data.loc[(data[var]).isna(), [var]] = 'NaN'\n",
    "\n",
    "data[categorical_cols]=data[categorical_cols].astype('category')"
   ]
  },
  {
   "cell_type": "code",
   "execution_count": null,
   "id": "571b8e9b",
   "metadata": {},
   "outputs": [],
   "source": [
    "print(np.sum(data.isnull().any()))"
   ]
  },
  {
   "cell_type": "markdown",
   "id": "16ba0b30",
   "metadata": {},
   "source": [
    "## Remove outliers"
   ]
  },
  {
   "cell_type": "code",
   "execution_count": null,
   "id": "fc53d1c1",
   "metadata": {},
   "outputs": [],
   "source": [
    "# Plotting GrLivArea vs SalePrice before removing outliers\n",
    "plt.figure(figsize=(12,6))\n",
    "sns.scatterplot(x='GrLivArea', y='SalePrice', data=data)\n",
    "plt.title('GrLivArea vs SalePrice Before Removing Outliers')\n",
    "plt.show()\n",
    "\n",
    "# Removing outliers\n",
    "data = data[data['GrLivArea'] < 4500]\n",
    "\n",
    "# Plotting after removing outliers\n",
    "plt.figure(figsize=(12,6))\n",
    "sns.scatterplot(x='GrLivArea', y='SalePrice', data=data)\n",
    "plt.title('GrLivArea vs SalePrice After Removing Outliers')\n",
    "plt.show()\n"
   ]
  },
  {
   "cell_type": "markdown",
   "id": "d299af2f",
   "metadata": {},
   "source": [
    "# Transform data format"
   ]
  },
  {
   "cell_type": "code",
   "execution_count": null,
   "id": "f0fe2b06",
   "metadata": {},
   "outputs": [],
   "source": [
    "fig, axs=plt.subplots(3,3, figsize=(15,15))\n",
    "sns.boxplot(data, x=\"BsmtFullBath\", y=\"LogSalePrice\", ax= axs[0,0])\n",
    "sns.boxplot(data, x=\"BsmtHalfBath\", y=\"LogSalePrice\", ax= axs[0,1])\n",
    "sns.boxplot(data, x=\"FullBath\", y=\"LogSalePrice\", ax= axs[0,2])\n",
    "sns.boxplot(data, x=\"HalfBath\", y=\"LogSalePrice\", ax= axs[1,0])\n",
    "sns.boxplot(data, x=\"BedroomAbvGr\", y=\"LogSalePrice\", ax= axs[1,1])\n",
    "sns.boxplot(data, x=\"KitchenAbvGr\", y=\"LogSalePrice\", ax= axs[1,2])\n",
    "sns.boxplot(data, x=\"TotRmsAbvGrd\", y=\"LogSalePrice\", ax= axs[2,0])\n",
    "sns.boxplot(data, x=\"Fireplaces\", y=\"LogSalePrice\", ax= axs[2,1])\n",
    "sns.boxplot(data, x=\"GarageCars\", y=\"LogSalePrice\", ax= axs[2,2])"
   ]
  },
  {
   "cell_type": "markdown",
   "id": "5ec3d6dc",
   "metadata": {},
   "source": [
    "# In-class activity: Should we keep the above columns as integers or categorical variables? How to convert them to categorical variables?"
   ]
  },
  {
   "cell_type": "code",
   "execution_count": null,
   "id": "007db802",
   "metadata": {},
   "outputs": [],
   "source": []
  },
  {
   "cell_type": "code",
   "execution_count": null,
   "id": "efc22987",
   "metadata": {},
   "outputs": [],
   "source": []
  },
  {
   "cell_type": "code",
   "execution_count": null,
   "id": "3f4f82b7",
   "metadata": {},
   "outputs": [],
   "source": []
  },
  {
   "cell_type": "code",
   "execution_count": null,
   "id": "4a68449f",
   "metadata": {},
   "outputs": [],
   "source": []
  }
 ],
 "metadata": {
  "kernelspec": {
   "display_name": "Python 3 (ipykernel)",
   "language": "python",
   "name": "python3"
  },
  "language_info": {
   "codemirror_mode": {
    "name": "ipython",
    "version": 3
   },
   "file_extension": ".py",
   "mimetype": "text/x-python",
   "name": "python",
   "nbconvert_exporter": "python",
   "pygments_lexer": "ipython3",
   "version": "3.11.4"
  }
 },
 "nbformat": 4,
 "nbformat_minor": 5
}
